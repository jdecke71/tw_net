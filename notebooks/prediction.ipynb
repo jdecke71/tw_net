{
 "cells": [
  {
   "cell_type": "markdown",
   "metadata": {},
   "source": [
    "## Prediction\n",
    "---\n",
    "\n",
    "#### Import files"
   ]
  },
  {
   "cell_type": "code",
   "execution_count": 1,
   "metadata": {},
   "outputs": [],
   "source": [
    "%run -i '../scripts/tw_net_prediction.py'"
   ]
  },
  {
   "cell_type": "markdown",
   "metadata": {},
   "source": [
    "#### Load Data"
   ]
  },
  {
   "cell_type": "code",
   "execution_count": 2,
   "metadata": {},
   "outputs": [],
   "source": [
    "'''\n",
    "Place classifiers name/function call in dictionary.\n",
    "'''\n",
    "# Singleclass\n",
    "gaussian = {'classifier_name':'B Gaussian','classifier_func': GaussianNB()}\n",
    "\n",
    "# Multiclass \n",
    "MNB = {'classifier_name':'MNB','classifier_func': MultinomialNB()}\n",
    "SVC = {'classifier_name':'SVC','classifier_func': SVC(gamma='auto', decision_function_shape='ovo')}\n",
    "KNN = {'classifier_name':'KNN','classifier_func': KNeighborsClassifier(n_neighbors=4)}\n"
   ]
  },
  {
   "cell_type": "code",
   "execution_count": 4,
   "metadata": {},
   "outputs": [
    {
     "name": "stdout",
     "output_type": "stream",
     "text": [
      "filename: ../data/models/test_150_ww_nr_nt.csv\n",
      "Classifier \t Score \t \t f1\n",
      "-----------------------------------------------------------------\n",
      "MNB \t \t 0.63 \t \t 0.60\t0.61\t0.61\t\n",
      "\n",
      "\n",
      "SVC \t \t 0.99 \t \t 0.93\t0.92\t0.93\t\n",
      "\n",
      "\n",
      "KNN \t \t 0.86 \t \t 0.74\t0.74\t0.72\t\n",
      "\n",
      "\n",
      "filename: ../data/models/test_150_ww_ir_nt.csv\n",
      "Classifier \t Score \t \t f1\n",
      "-----------------------------------------------------------------\n",
      "MNB \t \t 0.73 \t \t 0.62\t0.66\t0.60\t\n",
      "\n",
      "\n",
      "SVC \t \t 0.98 \t \t 0.94\t0.96\t0.94\t\n",
      "\n",
      "\n",
      "KNN \t \t 0.80 \t \t 0.62\t0.65\t0.61\t\n",
      "\n",
      "\n",
      "filename: ../data/models/test_150_nw_nr_nt.csv\n",
      "Classifier \t Score \t \t f1\n",
      "-----------------------------------------------------------------\n",
      "MNB \t \t 0.60 \t \t 0.54\t0.46\t0.59\t\n",
      "\n",
      "\n",
      "SVC \t \t 0.99 \t \t 0.93\t0.96\t0.96\t\n",
      "\n",
      "\n",
      "KNN \t \t 0.84 \t \t 0.64\t0.65\t0.68\t\n",
      "\n",
      "\n",
      "filename: ../data/models/test_150_nw_ir_nt.csv\n",
      "Classifier \t Score \t \t f1\n",
      "-----------------------------------------------------------------\n",
      "MNB \t \t 0.69 \t \t 0.63\t0.60\t0.64\t\n",
      "\n",
      "\n",
      "SVC \t \t 0.99 \t \t 0.96\t0.98\t0.96\t\n",
      "\n",
      "\n",
      "KNN \t \t 0.82 \t \t 0.61\t0.61\t0.54\t\n",
      "\n",
      "\n"
     ]
    }
   ],
   "source": [
    "files = ['test_150_ww_nr_nt','test_150_ww_ir_nt','test_150_nw_nr_nt','test_150_nw_ir_nt']\n",
    "\n",
    "for file in files:\n",
    "    df = file_io.ReadCSV(file)\n",
    "    \n",
    "    features,labels = GetFeaturesLabels(df,'influence_interval')\n",
    "    \n",
    "    classifiers = [MNB,SVC,KNN]\n",
    "    \n",
    "    FitAndScore(features,labels,classifiers)"
   ]
  },
  {
   "cell_type": "code",
   "execution_count": null,
   "metadata": {},
   "outputs": [],
   "source": []
  },
  {
   "cell_type": "code",
   "execution_count": null,
   "metadata": {},
   "outputs": [],
   "source": []
  },
  {
   "cell_type": "code",
   "execution_count": null,
   "metadata": {},
   "outputs": [],
   "source": [
    "'''\n",
    "Read CSV for a target into a dataframe.\n",
    "Do not add path or extension.\n",
    "''' \n",
    "\n",
    "filename = 'test_150_ww_nr_nt'\n",
    "\n",
    "test_150_ww_nr_nt = file_io.ReadCSV(filename)\n",
    "test_150_ww_nr_nt.head()"
   ]
  },
  {
   "cell_type": "code",
   "execution_count": null,
   "metadata": {},
   "outputs": [],
   "source": [
    "filename = 'test_150_ww_ir_nt'\n",
    "\n",
    "test_150_ww_ir_nt = file_io.ReadCSV(filename)\n",
    "test_150_ww_ir_nt.head()"
   ]
  },
  {
   "cell_type": "code",
   "execution_count": null,
   "metadata": {},
   "outputs": [],
   "source": [
    "filename = 'test_150_nw_nr_nt'\n",
    "\n",
    "test_150_nw_nr_nt = file_io.ReadCSV(filename)\n",
    "test_150_nw_nr_nt.head()"
   ]
  },
  {
   "cell_type": "code",
   "execution_count": null,
   "metadata": {},
   "outputs": [],
   "source": [
    "filename = 'test_150_nw_ir_nt'\n",
    "\n",
    "test_150_nw_ir_nt = file_io.ReadCSV(filename)\n",
    "test_150_nw_ir_nt.head()"
   ]
  },
  {
   "cell_type": "markdown",
   "metadata": {},
   "source": [
    "#### Create, fit,and score classifiers"
   ]
  },
  {
   "cell_type": "code",
   "execution_count": null,
   "metadata": {},
   "outputs": [],
   "source": [
    "# Get features & labels\n",
    "features,labels = GetFeaturesLabels(featureSet,'isVerified')\n",
    "\n",
    "# Add classifiers to list\n",
    "classifiers = [gaussian]\n",
    "\n",
    "# Fit and score\n",
    "FitAndScore(features,labels,classifiers)"
   ]
  },
  {
   "cell_type": "code",
   "execution_count": null,
   "metadata": {},
   "outputs": [],
   "source": [
    "tables = [test_150_ww_nr_nt,]"
   ]
  },
  {
   "cell_type": "code",
   "execution_count": null,
   "metadata": {},
   "outputs": [],
   "source": [
    "# Get features & labels\n",
    "features,labels = GetFeaturesLabels(featureSet,'influence_interval')\n",
    "\n",
    "# Add classifiers to list\n",
    "classifiers = [bayes,svm,neighbors]\n",
    "\n",
    "# Fit and score\n",
    "FitAndScore(features,labels,classifiers)"
   ]
  },
  {
   "cell_type": "code",
   "execution_count": null,
   "metadata": {},
   "outputs": [],
   "source": [
    "# Get features & labels\n",
    "features,labels = GetFeaturesLabels(featureSet,'influence_interval')\n",
    "\n",
    "# Add classifiers to list\n",
    "classifiers = [bayes,svm,neighbors]\n",
    "\n",
    "# Fit and score\n",
    "FitAndScore(features,labels,classifiers)"
   ]
  },
  {
   "cell_type": "code",
   "execution_count": null,
   "metadata": {},
   "outputs": [],
   "source": []
  },
  {
   "cell_type": "code",
   "execution_count": null,
   "metadata": {},
   "outputs": [],
   "source": [
    "# Get features & labels\n",
    "features,labels = GetFeaturesLabels(featureSet,'influence_interval')\n",
    "\n",
    "# Add classifiers to list\n",
    "classifiers = [bayes,svm,neighbors]\n",
    "\n",
    "# Fit and score\n",
    "FitAndScore(features,labels,classifiers)"
   ]
  },
  {
   "cell_type": "code",
   "execution_count": null,
   "metadata": {},
   "outputs": [],
   "source": []
  }
 ],
 "metadata": {
  "kernelspec": {
   "display_name": "Python 3",
   "language": "python",
   "name": "python3"
  },
  "language_info": {
   "codemirror_mode": {
    "name": "ipython",
    "version": 3
   },
   "file_extension": ".py",
   "mimetype": "text/x-python",
   "name": "python",
   "nbconvert_exporter": "python",
   "pygments_lexer": "ipython3",
   "version": "3.6.8"
  }
 },
 "nbformat": 4,
 "nbformat_minor": 2
}
