{
 "cells": [
  {
   "cell_type": "markdown",
   "metadata": {},
   "source": [
    "## Prediction\n",
    "---\n",
    "\n",
    "#### Import files"
   ]
  },
  {
   "cell_type": "code",
   "execution_count": 1,
   "metadata": {},
   "outputs": [],
   "source": [
    "%run -i '../scripts/tw_net_prediction.py'"
   ]
  },
  {
   "cell_type": "code",
   "execution_count": 2,
   "metadata": {},
   "outputs": [],
   "source": [
    "'''\n",
    "Classifiers\n",
    "'''\n",
    "# Singleclass\n",
    "gaussian = {'classifier_name':'B Gaussian','classifier_func': GaussianNB()}\n",
    "\n",
    "# Multiclass \n",
    "MNB = {'classifier_name':'MNB','classifier_func': MultinomialNB()}\n",
    "SVC = {'classifier_name':'SVC','classifier_func': SVC(gamma='auto', decision_function_shape='ovo')}\n",
    "KNN = {'classifier_name':'KNN','classifier_func': KNeighborsClassifier(n_neighbors=4)}\n"
   ]
  },
  {
   "cell_type": "code",
   "execution_count": 3,
   "metadata": {},
   "outputs": [],
   "source": [
    "'''\n",
    "Regressors\n",
    "'''\n",
    "DTR = {'regressor_name':'DTR','regressor_func': DecisionTreeRegressor(random_state=0)}\n",
    "LVR = {'regressor_name':'LVR','regressor_func': svm.LinearSVR()}\n",
    "LNR = {'regressor_name':'LNR','regressor_func': LinearRegression()}\n"
   ]
  },
  {
   "cell_type": "markdown",
   "metadata": {},
   "source": [
    "#### Load & Split Data"
   ]
  },
  {
   "cell_type": "code",
   "execution_count": 4,
   "metadata": {},
   "outputs": [
    {
     "name": "stdout",
     "output_type": "stream",
     "text": [
      "filename: ../data/models/weighted__nonrandom_no_text.csv\n"
     ]
    }
   ],
   "source": [
    "df = file_io.ReadCSV('wk2_random_no_text')"
   ]
  },
  {
   "cell_type": "code",
   "execution_count": 10,
   "metadata": {},
   "outputs": [
    {
     "data": {
      "text/plain": [
       "Index(['created_hr', 'set', 'favorite_count', 'retweet_count',\n",
       "       'influence_score', 'user_since', 'followers_count', 'listed_count',\n",
       "       'num_tags', 'num_media', 'num_symbols', 'num_urls', 'num_user_mentions',\n",
       "       'influence_interval', 'isVerified', 'isRetweeted', 'isReply', 'dotw'],\n",
       "      dtype='object')"
      ]
     },
     "execution_count": 10,
     "metadata": {},
     "output_type": "execute_result"
    }
   ],
   "source": [
    "df.columns"
   ]
  },
  {
   "cell_type": "code",
   "execution_count": 11,
   "metadata": {},
   "outputs": [],
   "source": [
    "'''\n",
    "Subset for interval\n",
    "\n",
    ",'favorite_count', 'retweet_count','followers_count', 'listed_count'\n",
    "'''\n",
    "cols = ['set','num_tags','user_since','num_media', 'num_symbols', 'num_urls', 'num_user_mentions',\n",
    "       'influence_interval', 'isVerified', 'isRetweeted', 'isReply', 'dotw']\n",
    "\n",
    "interval = df[cols]"
   ]
  },
  {
   "cell_type": "code",
   "execution_count": 12,
   "metadata": {},
   "outputs": [],
   "source": [
    "'''\n",
    "Subset for score\n",
    "\n",
    ",'favorite_count', 'retweet_count','followers_count', 'listed_count'\n",
    "'''\n",
    "cols = ['influence_score', 'set','num_tags','user_since','num_media', 'num_symbols', 'num_urls', 'num_user_mentions',\n",
    "        'isVerified', 'isRetweeted', 'isReply', 'dotw']\n",
    "\n",
    "score = df[cols]"
   ]
  },
  {
   "cell_type": "markdown",
   "metadata": {},
   "source": [
    "### Run "
   ]
  },
  {
   "cell_type": "code",
   "execution_count": 8,
   "metadata": {},
   "outputs": [
    {
     "name": "stdout",
     "output_type": "stream",
     "text": [
      "Classifier \t Score \t \t accuracy\n",
      "-----------------------------------------------------------------\n",
      "MNB \t \t 0.67 \t \t 0.63\t0.59\t0.61\t\n",
      "\n",
      "\n",
      "MNB Confusion Matrix\n",
      "[[104  10   0   0   0]\n",
      " [  0 108  25   2  23]\n",
      " [  0  14  63  10  63]\n",
      " [  0   1  11  16 141]\n",
      " [  0   0   1   5 317]]\n",
      "\n",
      "\n",
      "Classifier \t Score \t \t accuracy\n",
      "-----------------------------------------------------------------\n",
      "SVC \t \t 0.99 \t \t 0.94\t0.93\t0.94\t\n",
      "\n",
      "\n",
      "SVC Confusion Matrix\n",
      "[[113   1   0   0   0]\n",
      " [  1 157   0   0   0]\n",
      " [  0   0 148   2   0]\n",
      " [  0   0   0 164   5]\n",
      " [  0   0   0   1 322]]\n",
      "\n",
      "\n",
      "Classifier \t Score \t \t accuracy\n",
      "-----------------------------------------------------------------\n",
      "KNN \t \t 0.83 \t \t 0.61\t0.62\t0.59\t\n",
      "\n",
      "\n",
      "KNN Confusion Matrix\n",
      "[[102  12   0   0   0]\n",
      " [ 18 127  13   0   0]\n",
      " [  1  20 120   9   0]\n",
      " [  0   0  19 129  21]\n",
      " [  0   0   0  38 285]]\n",
      "\n",
      "\n"
     ]
    }
   ],
   "source": [
    "features,labels = GetFeaturesLabels(interval,'influence_interval')\n",
    "    \n",
    "classifiers = [MNB,SVC,KNN]\n",
    "    \n",
    "FitAndScoreCLA(features,labels,classifiers)"
   ]
  },
  {
   "cell_type": "code",
   "execution_count": 9,
   "metadata": {},
   "outputs": [
    {
     "name": "stdout",
     "output_type": "stream",
     "text": [
      "Regressor \t Score \t \t accuracy\n",
      "-----------------------------------------------------------------\n",
      "DTR \t \t 1.00 \t \t 1.00\t1.00\t1.00\t\n",
      "LVR \t \t 1.00 \t \t 1.00\t1.00\t1.00\t\n",
      "LNR \t \t 1.00 \t \t 1.00\t1.00\t1.00\t\n"
     ]
    }
   ],
   "source": [
    "features,labels = GetFeaturesLabels(score,'influence_score')\n",
    "\n",
    "regressors = [DTR,LVR,LNR]\n",
    "\n",
    "FitAndScoreREG(features,labels,regressors)"
   ]
  },
  {
   "cell_type": "code",
   "execution_count": 13,
   "metadata": {},
   "outputs": [
    {
     "name": "stdout",
     "output_type": "stream",
     "text": [
      "Classifier \t Score \t \t accuracy\n",
      "-----------------------------------------------------------------\n",
      "MNB \t \t 0.62 \t \t\n",
      "\n",
      "\n",
      "Classifier \t Score \t \t accuracy\n",
      "-----------------------------------------------------------------\n",
      "SVC \t \t 1.00 \t \t\n",
      "\n",
      "\n",
      "Classifier \t Score \t \t accuracy\n",
      "-----------------------------------------------------------------\n",
      "KNN \t \t 0.91 \t \t\n",
      "\n",
      "\n"
     ]
    }
   ],
   "source": [
    "features,labels = GetFeaturesLabels(interval,'influence_interval')\n",
    "    \n",
    "classifiers = [MNB,SVC,KNN]\n",
    "    \n",
    "TestCLA(features,labels,classifiers)"
   ]
  },
  {
   "cell_type": "code",
   "execution_count": null,
   "metadata": {},
   "outputs": [],
   "source": [
    "feature_importances_"
   ]
  }
 ],
 "metadata": {
  "kernelspec": {
   "display_name": "Python 3",
   "language": "python",
   "name": "python3"
  },
  "language_info": {
   "codemirror_mode": {
    "name": "ipython",
    "version": 3
   },
   "file_extension": ".py",
   "mimetype": "text/x-python",
   "name": "python",
   "nbconvert_exporter": "python",
   "pygments_lexer": "ipython3",
   "version": "3.6.8"
  }
 },
 "nbformat": 4,
 "nbformat_minor": 2
}
