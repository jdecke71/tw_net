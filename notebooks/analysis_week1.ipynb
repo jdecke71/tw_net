{
 "cells": [
  {
   "cell_type": "markdown",
   "metadata": {},
   "source": [
    "## Analysis\n",
    "---\n",
    "\n",
    "#### Import Scripts"
   ]
  },
  {
   "cell_type": "code",
   "execution_count": 1,
   "metadata": {},
   "outputs": [],
   "source": [
    "%run -i '../scripts/tw_net_cleaning.py'"
   ]
  },
  {
   "cell_type": "code",
   "execution_count": 2,
   "metadata": {},
   "outputs": [],
   "source": [
    "%run -i '../scripts/tw_net_analysis.py'"
   ]
  },
  {
   "cell_type": "code",
   "execution_count": 10,
   "metadata": {},
   "outputs": [],
   "source": [
    "%run -i '../scripts/tw_net_extraction.py'"
   ]
  },
  {
   "cell_type": "markdown",
   "metadata": {},
   "source": [
    "#### Load & Clean Tweets"
   ]
  },
  {
   "cell_type": "code",
   "execution_count": 22,
   "metadata": {},
   "outputs": [
    {
     "name": "stderr",
     "output_type": "stream",
     "text": [
      "../scripts/tw_net_extraction.py:187: SettingWithCopyWarning: \n",
      "A value is trying to be set on a copy of a slice from a DataFrame.\n",
      "Try using .loc[row_indexer,col_indexer] = value instead\n",
      "\n",
      "See the caveats in the documentation: http://pandas.pydata.org/pandas-docs/stable/indexing.html#indexing-view-versus-copy\n",
      "  # , 'bigrams_user_screen_name',\n",
      "../scripts/tw_net_extraction.py:188: SettingWithCopyWarning: \n",
      "A value is trying to be set on a copy of a slice from a DataFrame.\n",
      "Try using .loc[row_indexer,col_indexer] = value instead\n",
      "\n",
      "See the caveats in the documentation: http://pandas.pydata.org/pandas-docs/stable/indexing.html#indexing-view-versus-copy\n",
      "  # 'trigrams_user_screen_name', 'quadgrams_user_screen_name',\n",
      "../scripts/tw_net_extraction.py:189: SettingWithCopyWarning: \n",
      "A value is trying to be set on a copy of a slice from a DataFrame.\n",
      "Try using .loc[row_indexer,col_indexer] = value instead\n",
      "\n",
      "See the caveats in the documentation: http://pandas.pydata.org/pandas-docs/stable/indexing.html#indexing-view-versus-copy\n",
      "  # 'ch_trigram_user_screen_name', 'ch_quadgram_user_screen_name','bigrams_user_name', 'trigrams_user_name', 'quadgrams_user_name',\n",
      "../scripts/tw_net_extraction.py:190: SettingWithCopyWarning: \n",
      "A value is trying to be set on a copy of a slice from a DataFrame.\n",
      "Try using .loc[row_indexer,col_indexer] = value instead\n",
      "\n",
      "See the caveats in the documentation: http://pandas.pydata.org/pandas-docs/stable/indexing.html#indexing-view-versus-copy\n",
      "  # 'ch_trigram_user_name', 'ch_quadgram_user_name',\n",
      "../scripts/tw_net_extraction.py:191: SettingWithCopyWarning: \n",
      "A value is trying to be set on a copy of a slice from a DataFrame.\n",
      "Try using .loc[row_indexer,col_indexer] = value instead\n",
      "\n",
      "See the caveats in the documentation: http://pandas.pydata.org/pandas-docs/stable/indexing.html#indexing-view-versus-copy\n",
      "  \n"
     ]
    },
    {
     "data": {
      "text/html": [
       "<div>\n",
       "<style scoped>\n",
       "    .dataframe tbody tr th:only-of-type {\n",
       "        vertical-align: middle;\n",
       "    }\n",
       "\n",
       "    .dataframe tbody tr th {\n",
       "        vertical-align: top;\n",
       "    }\n",
       "\n",
       "    .dataframe thead th {\n",
       "        text-align: right;\n",
       "    }\n",
       "</style>\n",
       "<table border=\"1\" class=\"dataframe\">\n",
       "  <thead>\n",
       "    <tr style=\"text-align: right;\">\n",
       "      <th></th>\n",
       "      <th>id_str</th>\n",
       "      <th>text</th>\n",
       "      <th>created_hr</th>\n",
       "      <th>created_dotw</th>\n",
       "      <th>calltime</th>\n",
       "      <th>day</th>\n",
       "      <th>set</th>\n",
       "      <th>call</th>\n",
       "      <th>favorite_count</th>\n",
       "      <th>retweet_count</th>\n",
       "      <th>...</th>\n",
       "      <th>profile_background_color</th>\n",
       "      <th>profile_text_color</th>\n",
       "      <th>user_screen_name</th>\n",
       "      <th>statuses_count</th>\n",
       "      <th>verified</th>\n",
       "      <th>num_tags</th>\n",
       "      <th>num_media</th>\n",
       "      <th>num_symbols</th>\n",
       "      <th>num_urls</th>\n",
       "      <th>num_user_mentions</th>\n",
       "    </tr>\n",
       "  </thead>\n",
       "  <tbody>\n",
       "    <tr>\n",
       "      <th>0</th>\n",
       "      <td>1094936570350747648</td>\n",
       "      <td>First day at my new job 😌</td>\n",
       "      <td>7</td>\n",
       "      <td>Mon</td>\n",
       "      <td>2019-02-11 07:55:38.984121</td>\n",
       "      <td>11</td>\n",
       "      <td>1</td>\n",
       "      <td>1</td>\n",
       "      <td>0</td>\n",
       "      <td>0</td>\n",
       "      <td>...</td>\n",
       "      <td>F5F8FA</td>\n",
       "      <td>333333</td>\n",
       "      <td>racheeelLehman</td>\n",
       "      <td>126</td>\n",
       "      <td>False</td>\n",
       "      <td>0</td>\n",
       "      <td>0</td>\n",
       "      <td>0</td>\n",
       "      <td>0</td>\n",
       "      <td>0</td>\n",
       "    </tr>\n",
       "    <tr>\n",
       "      <th>1</th>\n",
       "      <td>1094936596519026688</td>\n",
       "      <td>@AlexHolleyFOX29 Absolutely!</td>\n",
       "      <td>7</td>\n",
       "      <td>Mon</td>\n",
       "      <td>2019-02-11 07:55:38.984121</td>\n",
       "      <td>11</td>\n",
       "      <td>1</td>\n",
       "      <td>1</td>\n",
       "      <td>0</td>\n",
       "      <td>0</td>\n",
       "      <td>...</td>\n",
       "      <td>F5F8FA</td>\n",
       "      <td>333333</td>\n",
       "      <td>DierolfWilliam</td>\n",
       "      <td>1010</td>\n",
       "      <td>False</td>\n",
       "      <td>0</td>\n",
       "      <td>0</td>\n",
       "      <td>0</td>\n",
       "      <td>0</td>\n",
       "      <td>1</td>\n",
       "    </tr>\n",
       "    <tr>\n",
       "      <th>2</th>\n",
       "      <td>1094936629930852352</td>\n",
       "      <td>PM loses moral high ground? I think he lost th...</td>\n",
       "      <td>7</td>\n",
       "      <td>Mon</td>\n",
       "      <td>2019-02-11 07:55:38.984121</td>\n",
       "      <td>11</td>\n",
       "      <td>1</td>\n",
       "      <td>1</td>\n",
       "      <td>0</td>\n",
       "      <td>0</td>\n",
       "      <td>...</td>\n",
       "      <td>F5F8FA</td>\n",
       "      <td>333333</td>\n",
       "      <td>WestPpc</td>\n",
       "      <td>86</td>\n",
       "      <td>False</td>\n",
       "      <td>0</td>\n",
       "      <td>0</td>\n",
       "      <td>0</td>\n",
       "      <td>1</td>\n",
       "      <td>0</td>\n",
       "    </tr>\n",
       "    <tr>\n",
       "      <th>3</th>\n",
       "      <td>1094936651741229057</td>\n",
       "      <td>Lawyers of the @TeamCavuto  Please Please List...</td>\n",
       "      <td>7</td>\n",
       "      <td>Mon</td>\n",
       "      <td>2019-02-11 07:55:38.984121</td>\n",
       "      <td>11</td>\n",
       "      <td>1</td>\n",
       "      <td>1</td>\n",
       "      <td>0</td>\n",
       "      <td>0</td>\n",
       "      <td>...</td>\n",
       "      <td>000000</td>\n",
       "      <td>000000</td>\n",
       "      <td>DuffGear</td>\n",
       "      <td>1240</td>\n",
       "      <td>False</td>\n",
       "      <td>0</td>\n",
       "      <td>0</td>\n",
       "      <td>0</td>\n",
       "      <td>1</td>\n",
       "      <td>1</td>\n",
       "    </tr>\n",
       "    <tr>\n",
       "      <th>4</th>\n",
       "      <td>1094936745190264832</td>\n",
       "      <td>@marklevinshow I AM A PROTECTED CLASS. NO ONE ...</td>\n",
       "      <td>7</td>\n",
       "      <td>Mon</td>\n",
       "      <td>2019-02-11 07:55:38.984121</td>\n",
       "      <td>11</td>\n",
       "      <td>1</td>\n",
       "      <td>1</td>\n",
       "      <td>0</td>\n",
       "      <td>0</td>\n",
       "      <td>...</td>\n",
       "      <td>F5F8FA</td>\n",
       "      <td>333333</td>\n",
       "      <td>SergioAntoni7</td>\n",
       "      <td>5849</td>\n",
       "      <td>False</td>\n",
       "      <td>0</td>\n",
       "      <td>0</td>\n",
       "      <td>0</td>\n",
       "      <td>1</td>\n",
       "      <td>1</td>\n",
       "    </tr>\n",
       "  </tbody>\n",
       "</table>\n",
       "<p>5 rows × 39 columns</p>\n",
       "</div>"
      ],
      "text/plain": [
       "                id_str                                               text  \\\n",
       "0  1094936570350747648                          First day at my new job 😌   \n",
       "1  1094936596519026688                       @AlexHolleyFOX29 Absolutely!   \n",
       "2  1094936629930852352  PM loses moral high ground? I think he lost th...   \n",
       "3  1094936651741229057  Lawyers of the @TeamCavuto  Please Please List...   \n",
       "4  1094936745190264832  @marklevinshow I AM A PROTECTED CLASS. NO ONE ...   \n",
       "\n",
       "  created_hr created_dotw                    calltime day set call  \\\n",
       "0          7          Mon  2019-02-11 07:55:38.984121  11   1    1   \n",
       "1          7          Mon  2019-02-11 07:55:38.984121  11   1    1   \n",
       "2          7          Mon  2019-02-11 07:55:38.984121  11   1    1   \n",
       "3          7          Mon  2019-02-11 07:55:38.984121  11   1    1   \n",
       "4          7          Mon  2019-02-11 07:55:38.984121  11   1    1   \n",
       "\n",
       "   favorite_count  retweet_count        ...        profile_background_color  \\\n",
       "0               0              0        ...                          F5F8FA   \n",
       "1               0              0        ...                          F5F8FA   \n",
       "2               0              0        ...                          F5F8FA   \n",
       "3               0              0        ...                          000000   \n",
       "4               0              0        ...                          F5F8FA   \n",
       "\n",
       "  profile_text_color user_screen_name  statuses_count verified num_tags  \\\n",
       "0             333333   racheeelLehman             126    False        0   \n",
       "1             333333   DierolfWilliam            1010    False        0   \n",
       "2             333333          WestPpc              86    False        0   \n",
       "3             000000         DuffGear            1240    False        0   \n",
       "4             333333    SergioAntoni7            5849    False        0   \n",
       "\n",
       "  num_media num_symbols num_urls num_user_mentions  \n",
       "0         0           0        0                 0  \n",
       "1         0           0        0                 1  \n",
       "2         0           0        1                 0  \n",
       "3         0           0        1                 1  \n",
       "4         0           0        1                 1  \n",
       "\n",
       "[5 rows x 39 columns]"
      ]
     },
     "execution_count": 22,
     "metadata": {},
     "output_type": "execute_result"
    }
   ],
   "source": [
    "'''\n",
    "Enter days/sets/calls combination to select \n",
    "one or more sets of tweets to be returned as dataframe.\n",
    "\n",
    "Ex. All tweets from day 16\n",
    "'''\n",
    "days = [11,12,13,14,15,16,17]\n",
    "sets = [1,2,3,4,5,6]\n",
    "calls = [1,2,3,4,5]\n",
    "tweets_per_call = 150\n",
    "\n",
    "df = TweetsToDataframe(days,sets,calls,tweets_per_call,useWeights=True)\n",
    "\n",
    "df.head()"
   ]
  },
  {
   "cell_type": "code",
   "execution_count": null,
   "metadata": {},
   "outputs": [],
   "source": [
    "df.describe()"
   ]
  },
  {
   "cell_type": "code",
   "execution_count": null,
   "metadata": {},
   "outputs": [],
   "source": [
    "df[df['influence_score']< 1].influence_score"
   ]
  },
  {
   "cell_type": "code",
   "execution_count": null,
   "metadata": {},
   "outputs": [],
   "source": [
    "df[df['influence_score']< 1]"
   ]
  },
  {
   "cell_type": "code",
   "execution_count": null,
   "metadata": {},
   "outputs": [],
   "source": [
    "'''\n",
    "Distribution of influence scores\n",
    "'''\n",
    "ax = sns.distplot(df['influence_score'],kde=True)"
   ]
  },
  {
   "cell_type": "code",
   "execution_count": null,
   "metadata": {},
   "outputs": [],
   "source": [
    "df.columns"
   ]
  },
  {
   "cell_type": "code",
   "execution_count": null,
   "metadata": {},
   "outputs": [],
   "source": [
    "ax = sns.lineplot(x=\"created_hr\", y=\"influence_score\", data=df)"
   ]
  },
  {
   "cell_type": "code",
   "execution_count": null,
   "metadata": {},
   "outputs": [],
   "source": [
    "ax = sns.lineplot(x=\"set\", y=\"influence_score\", data=df)"
   ]
  },
  {
   "cell_type": "code",
   "execution_count": null,
   "metadata": {},
   "outputs": [],
   "source": [
    "ax = sns.lineplot(x=\"created_dotw\", y=\"influence_score\", data=df)"
   ]
  },
  {
   "cell_type": "code",
   "execution_count": null,
   "metadata": {},
   "outputs": [],
   "source": [
    "ax = sns.lineplot(x=\"call\", y=\"influence_score\", data=df)"
   ]
  },
  {
   "cell_type": "code",
   "execution_count": null,
   "metadata": {},
   "outputs": [],
   "source": [
    "ax = sns.boxplot(x=\"num_tags\", y=\"influence_score\", data=df)"
   ]
  },
  {
   "cell_type": "code",
   "execution_count": null,
   "metadata": {},
   "outputs": [],
   "source": [
    "ax = sns.boxplot(x=\"num_media\", y=\"influence_score\", data=df)"
   ]
  },
  {
   "cell_type": "code",
   "execution_count": null,
   "metadata": {},
   "outputs": [],
   "source": [
    "ax = sns.boxplot(x=\"num_urls\", y=\"influence_score\", data=df)"
   ]
  },
  {
   "cell_type": "code",
   "execution_count": null,
   "metadata": {},
   "outputs": [],
   "source": [
    "ax = sns.boxplot(x=\"num_user_mentions\", y=\"influence_score\", data=df)"
   ]
  },
  {
   "cell_type": "code",
   "execution_count": null,
   "metadata": {},
   "outputs": [],
   "source": [
    "ax = sns.boxplot(x=\"verified\", y=\"influence_score\", data=df)"
   ]
  },
  {
   "cell_type": "code",
   "execution_count": null,
   "metadata": {},
   "outputs": [],
   "source": [
    "fig = plt.figure(figsize=(12,12))\n",
    "ax1 = fig.add_subplot(1,1,1)\n",
    "\n",
    "sns.boxplot(x=\"sources\", y=\"influence_score\",data=df,ax=ax1)"
   ]
  },
  {
   "cell_type": "code",
   "execution_count": null,
   "metadata": {},
   "outputs": [],
   "source": []
  },
  {
   "cell_type": "code",
   "execution_count": null,
   "metadata": {},
   "outputs": [],
   "source": []
  },
  {
   "cell_type": "code",
   "execution_count": null,
   "metadata": {},
   "outputs": [],
   "source": [
    "ax = sns.countplot(x=\"num_user_mentions\", data=df)"
   ]
  },
  {
   "cell_type": "code",
   "execution_count": null,
   "metadata": {},
   "outputs": [],
   "source": [
    "df['sources'].value_counts()"
   ]
  },
  {
   "cell_type": "code",
   "execution_count": null,
   "metadata": {},
   "outputs": [],
   "source": [
    "df[df['influence_score']>7000]"
   ]
  },
  {
   "cell_type": "code",
   "execution_count": null,
   "metadata": {},
   "outputs": [],
   "source": [
    "DeleteTweet(17,5,'1097248980151517189')"
   ]
  },
  {
   "cell_type": "markdown",
   "metadata": {},
   "source": [
    "#### Preview Feature Set"
   ]
  },
  {
   "cell_type": "code",
   "execution_count": 23,
   "metadata": {},
   "outputs": [
    {
     "data": {
      "text/html": [
       "<div>\n",
       "<style scoped>\n",
       "    .dataframe tbody tr th:only-of-type {\n",
       "        vertical-align: middle;\n",
       "    }\n",
       "\n",
       "    .dataframe tbody tr th {\n",
       "        vertical-align: top;\n",
       "    }\n",
       "\n",
       "    .dataframe thead th {\n",
       "        text-align: right;\n",
       "    }\n",
       "</style>\n",
       "<table border=\"1\" class=\"dataframe\">\n",
       "  <thead>\n",
       "    <tr style=\"text-align: right;\">\n",
       "      <th></th>\n",
       "      <th>tweet_id</th>\n",
       "      <th>text</th>\n",
       "      <th>set</th>\n",
       "      <th>favorite_count</th>\n",
       "      <th>retweet_count</th>\n",
       "      <th>user_description</th>\n",
       "      <th>user_since</th>\n",
       "      <th>num_tags</th>\n",
       "      <th>num_media</th>\n",
       "      <th>num_symbols</th>\n",
       "      <th>num_urls</th>\n",
       "      <th>num_user_mentions</th>\n",
       "      <th>influence_interval</th>\n",
       "      <th>isVerified</th>\n",
       "      <th>isRetweeted</th>\n",
       "      <th>isReply</th>\n",
       "      <th>dotw</th>\n",
       "    </tr>\n",
       "  </thead>\n",
       "  <tbody>\n",
       "    <tr>\n",
       "      <th>19312</th>\n",
       "      <td>1096524753710575622</td>\n",
       "      <td>Follow me via INSTAGRAM 😙😙😙 thebriannafrost69 ...</td>\n",
       "      <td>5</td>\n",
       "      <td>37</td>\n",
       "      <td>4</td>\n",
       "      <td>*FOUNDER/OWNER/CEO/PRESIDENT OF HRH/US OFFICE*...</td>\n",
       "      <td>9</td>\n",
       "      <td>0</td>\n",
       "      <td>1</td>\n",
       "      <td>0</td>\n",
       "      <td>0</td>\n",
       "      <td>0</td>\n",
       "      <td>2</td>\n",
       "      <td>0</td>\n",
       "      <td>1</td>\n",
       "      <td>0</td>\n",
       "      <td>6</td>\n",
       "    </tr>\n",
       "    <tr>\n",
       "      <th>17685</th>\n",
       "      <td>1096455744814268417</td>\n",
       "      <td>Im doing live skype shows MONDAY 🤗 Txt or emai...</td>\n",
       "      <td>3</td>\n",
       "      <td>0</td>\n",
       "      <td>0</td>\n",
       "      <td>*FOUNDER/OWNER/CEO/PRESIDENT OF HRH/US OFFICE*...</td>\n",
       "      <td>9</td>\n",
       "      <td>0</td>\n",
       "      <td>0</td>\n",
       "      <td>0</td>\n",
       "      <td>1</td>\n",
       "      <td>0</td>\n",
       "      <td>0</td>\n",
       "      <td>0</td>\n",
       "      <td>0</td>\n",
       "      <td>0</td>\n",
       "      <td>6</td>\n",
       "    </tr>\n",
       "    <tr>\n",
       "      <th>25589</th>\n",
       "      <td>1097178924440788994</td>\n",
       "      <td>This man would be correct, God bless you man. ...</td>\n",
       "      <td>3</td>\n",
       "      <td>0</td>\n",
       "      <td>0</td>\n",
       "      <td>Just want peace, don't mind working hard. 🇺🇸MA...</td>\n",
       "      <td>7</td>\n",
       "      <td>0</td>\n",
       "      <td>0</td>\n",
       "      <td>0</td>\n",
       "      <td>0</td>\n",
       "      <td>0</td>\n",
       "      <td>0</td>\n",
       "      <td>0</td>\n",
       "      <td>0</td>\n",
       "      <td>0</td>\n",
       "      <td>1</td>\n",
       "    </tr>\n",
       "    <tr>\n",
       "      <th>16693</th>\n",
       "      <td>1096387058988433408</td>\n",
       "      <td>I'm crying, so precious 😍😍 https://t.co/X777YC...</td>\n",
       "      <td>1</td>\n",
       "      <td>0</td>\n",
       "      <td>0</td>\n",
       "      <td>Just want peace, don't mind working hard. 🇺🇸MA...</td>\n",
       "      <td>7</td>\n",
       "      <td>0</td>\n",
       "      <td>0</td>\n",
       "      <td>0</td>\n",
       "      <td>1</td>\n",
       "      <td>0</td>\n",
       "      <td>3</td>\n",
       "      <td>0</td>\n",
       "      <td>0</td>\n",
       "      <td>0</td>\n",
       "      <td>6</td>\n",
       "    </tr>\n",
       "    <tr>\n",
       "      <th>16503</th>\n",
       "      <td>1096390606887272448</td>\n",
       "      <td>He is beautiful 😍 https://t.co/jcm6fySUTs</td>\n",
       "      <td>1</td>\n",
       "      <td>2</td>\n",
       "      <td>3</td>\n",
       "      <td>Just want peace, don't mind working hard. 🇺🇸MA...</td>\n",
       "      <td>7</td>\n",
       "      <td>0</td>\n",
       "      <td>0</td>\n",
       "      <td>0</td>\n",
       "      <td>1</td>\n",
       "      <td>0</td>\n",
       "      <td>1</td>\n",
       "      <td>0</td>\n",
       "      <td>1</td>\n",
       "      <td>0</td>\n",
       "      <td>6</td>\n",
       "    </tr>\n",
       "  </tbody>\n",
       "</table>\n",
       "</div>"
      ],
      "text/plain": [
       "                  tweet_id                                               text  \\\n",
       "19312  1096524753710575622  Follow me via INSTAGRAM 😙😙😙 thebriannafrost69 ...   \n",
       "17685  1096455744814268417  Im doing live skype shows MONDAY 🤗 Txt or emai...   \n",
       "25589  1097178924440788994  This man would be correct, God bless you man. ...   \n",
       "16693  1096387058988433408  I'm crying, so precious 😍😍 https://t.co/X777YC...   \n",
       "16503  1096390606887272448          He is beautiful 😍 https://t.co/jcm6fySUTs   \n",
       "\n",
       "      set  favorite_count  retweet_count  \\\n",
       "19312   5              37              4   \n",
       "17685   3               0              0   \n",
       "25589   3               0              0   \n",
       "16693   1               0              0   \n",
       "16503   1               2              3   \n",
       "\n",
       "                                        user_description  user_since  \\\n",
       "19312  *FOUNDER/OWNER/CEO/PRESIDENT OF HRH/US OFFICE*...           9   \n",
       "17685  *FOUNDER/OWNER/CEO/PRESIDENT OF HRH/US OFFICE*...           9   \n",
       "25589  Just want peace, don't mind working hard. 🇺🇸MA...           7   \n",
       "16693  Just want peace, don't mind working hard. 🇺🇸MA...           7   \n",
       "16503  Just want peace, don't mind working hard. 🇺🇸MA...           7   \n",
       "\n",
       "       num_tags  num_media  num_symbols  num_urls  num_user_mentions  \\\n",
       "19312         0          1            0         0                  0   \n",
       "17685         0          0            0         1                  0   \n",
       "25589         0          0            0         0                  0   \n",
       "16693         0          0            0         1                  0   \n",
       "16503         0          0            0         1                  0   \n",
       "\n",
       "       influence_interval  isVerified  isRetweeted  isReply  dotw  \n",
       "19312                   2           0            1        0     6  \n",
       "17685                   0           0            0        0     6  \n",
       "25589                   0           0            0        0     1  \n",
       "16693                   3           0            0        0     6  \n",
       "16503                   1           0            1        0     6  "
      ]
     },
     "execution_count": 23,
     "metadata": {},
     "output_type": "execute_result"
    }
   ],
   "source": [
    "'''\n",
    "Wrap all but text. Leave identifiers and text to check.\n",
    "''' \n",
    "preview_df = PreviewFeatureSet(df,isRandom=True)\n",
    "preview_df.head()"
   ]
  },
  {
   "cell_type": "code",
   "execution_count": null,
   "metadata": {},
   "outputs": [],
   "source": [
    "preview_df.describe()"
   ]
  },
  {
   "cell_type": "code",
   "execution_count": null,
   "metadata": {},
   "outputs": [],
   "source": [
    "ax = sns.countplot(x=\"influence_interval\", data=preview_df)"
   ]
  },
  {
   "cell_type": "code",
   "execution_count": null,
   "metadata": {},
   "outputs": [],
   "source": [
    "ax = sns.lineplot(x=\"influence_interval\", y=\"isReply\", data=preview_df)"
   ]
  },
  {
   "cell_type": "code",
   "execution_count": null,
   "metadata": {},
   "outputs": [],
   "source": [
    "fig = plt.figure(figsize=(12,12))\n",
    "ax1 = fig.add_subplot(1,1,1)\n",
    "\n",
    "sns.boxplot(x=\"influence_interval\", y=\"user_since\",data=preview_df,ax=ax1)"
   ]
  },
  {
   "cell_type": "markdown",
   "metadata": {},
   "source": [
    "#### Extract and Save Feature Set"
   ]
  },
  {
   "cell_type": "code",
   "execution_count": 24,
   "metadata": {},
   "outputs": [
    {
     "data": {
      "text/html": [
       "<div>\n",
       "<style scoped>\n",
       "    .dataframe tbody tr th:only-of-type {\n",
       "        vertical-align: middle;\n",
       "    }\n",
       "\n",
       "    .dataframe tbody tr th {\n",
       "        vertical-align: top;\n",
       "    }\n",
       "\n",
       "    .dataframe thead th {\n",
       "        text-align: right;\n",
       "    }\n",
       "</style>\n",
       "<table border=\"1\" class=\"dataframe\">\n",
       "  <thead>\n",
       "    <tr style=\"text-align: right;\">\n",
       "      <th></th>\n",
       "      <th>set</th>\n",
       "      <th>user_since</th>\n",
       "      <th>num_tags</th>\n",
       "      <th>num_media</th>\n",
       "      <th>num_symbols</th>\n",
       "      <th>num_urls</th>\n",
       "      <th>num_user_mentions</th>\n",
       "      <th>influence_interval</th>\n",
       "      <th>isVerified</th>\n",
       "      <th>isRetweeted</th>\n",
       "      <th>isReply</th>\n",
       "      <th>dotw</th>\n",
       "    </tr>\n",
       "  </thead>\n",
       "  <tbody>\n",
       "    <tr>\n",
       "      <th>19312</th>\n",
       "      <td>5</td>\n",
       "      <td>9</td>\n",
       "      <td>0</td>\n",
       "      <td>1</td>\n",
       "      <td>0</td>\n",
       "      <td>0</td>\n",
       "      <td>0</td>\n",
       "      <td>2</td>\n",
       "      <td>0</td>\n",
       "      <td>1</td>\n",
       "      <td>0</td>\n",
       "      <td>6</td>\n",
       "    </tr>\n",
       "    <tr>\n",
       "      <th>17685</th>\n",
       "      <td>3</td>\n",
       "      <td>9</td>\n",
       "      <td>0</td>\n",
       "      <td>0</td>\n",
       "      <td>0</td>\n",
       "      <td>1</td>\n",
       "      <td>0</td>\n",
       "      <td>0</td>\n",
       "      <td>0</td>\n",
       "      <td>0</td>\n",
       "      <td>0</td>\n",
       "      <td>6</td>\n",
       "    </tr>\n",
       "    <tr>\n",
       "      <th>25589</th>\n",
       "      <td>3</td>\n",
       "      <td>7</td>\n",
       "      <td>0</td>\n",
       "      <td>0</td>\n",
       "      <td>0</td>\n",
       "      <td>0</td>\n",
       "      <td>0</td>\n",
       "      <td>0</td>\n",
       "      <td>0</td>\n",
       "      <td>0</td>\n",
       "      <td>0</td>\n",
       "      <td>1</td>\n",
       "    </tr>\n",
       "    <tr>\n",
       "      <th>16693</th>\n",
       "      <td>1</td>\n",
       "      <td>7</td>\n",
       "      <td>0</td>\n",
       "      <td>0</td>\n",
       "      <td>0</td>\n",
       "      <td>1</td>\n",
       "      <td>0</td>\n",
       "      <td>3</td>\n",
       "      <td>0</td>\n",
       "      <td>0</td>\n",
       "      <td>0</td>\n",
       "      <td>6</td>\n",
       "    </tr>\n",
       "    <tr>\n",
       "      <th>16503</th>\n",
       "      <td>1</td>\n",
       "      <td>7</td>\n",
       "      <td>0</td>\n",
       "      <td>0</td>\n",
       "      <td>0</td>\n",
       "      <td>1</td>\n",
       "      <td>0</td>\n",
       "      <td>1</td>\n",
       "      <td>0</td>\n",
       "      <td>1</td>\n",
       "      <td>0</td>\n",
       "      <td>6</td>\n",
       "    </tr>\n",
       "  </tbody>\n",
       "</table>\n",
       "</div>"
      ],
      "text/plain": [
       "      set  user_since  num_tags  num_media  num_symbols  num_urls  \\\n",
       "19312   5           9         0          1            0         0   \n",
       "17685   3           9         0          0            0         1   \n",
       "25589   3           7         0          0            0         0   \n",
       "16693   1           7         0          0            0         1   \n",
       "16503   1           7         0          0            0         1   \n",
       "\n",
       "       num_user_mentions  influence_interval  isVerified  isRetweeted  \\\n",
       "19312                  0                   2           0            1   \n",
       "17685                  0                   0           0            0   \n",
       "25589                  0                   0           0            0   \n",
       "16693                  0                   3           0            0   \n",
       "16503                  0                   1           0            1   \n",
       "\n",
       "       isReply  dotw  \n",
       "19312        0     6  \n",
       "17685        0     6  \n",
       "25589        0     1  \n",
       "16693        0     6  \n",
       "16503        0     6  "
      ]
     },
     "execution_count": 24,
     "metadata": {},
     "output_type": "execute_result"
    }
   ],
   "source": [
    "'''\n",
    "Wrap text, remove identifiers/text, output ready for ml.\n",
    "This takes forever.\n",
    "''' \n",
    "featureSet = GetFeatureSet(preview_df)\n",
    "featureSet.head()"
   ]
  },
  {
   "cell_type": "code",
   "execution_count": 25,
   "metadata": {},
   "outputs": [],
   "source": [
    "file_io.WriteCSV(featureSet,'test_150_ww_ir_nt')"
   ]
  },
  {
   "cell_type": "code",
   "execution_count": null,
   "metadata": {},
   "outputs": [],
   "source": [
    "'''\n",
    "Read CSV for a target into a dataframe.\n",
    "Do not add path or extension.\n",
    "''' \n",
    "\n",
    "filename = ''\n",
    "\n",
    "ww_nr = file_io.ReadCSV(filename)\n",
    "ww_nr.head()"
   ]
  },
  {
   "cell_type": "code",
   "execution_count": null,
   "metadata": {},
   "outputs": [],
   "source": []
  },
  {
   "cell_type": "code",
   "execution_count": null,
   "metadata": {},
   "outputs": [],
   "source": [
    "filename = 'test_25_nw_nr'\n",
    "\n",
    "nw_nr = file_io.ReadCSV(filename)\n",
    "nw_nr.head()"
   ]
  },
  {
   "cell_type": "code",
   "execution_count": null,
   "metadata": {},
   "outputs": [],
   "source": []
  },
  {
   "cell_type": "code",
   "execution_count": null,
   "metadata": {},
   "outputs": [],
   "source": [
    "filename = 'test_25_ww_ir'\n",
    "\n",
    "ww_ir = file_io.ReadCSV(filename)\n",
    "ww_ir.head()"
   ]
  }
 ],
 "metadata": {
  "kernelspec": {
   "display_name": "Python 3",
   "language": "python",
   "name": "python3"
  },
  "language_info": {
   "codemirror_mode": {
    "name": "ipython",
    "version": 3
   },
   "file_extension": ".py",
   "mimetype": "text/x-python",
   "name": "python",
   "nbconvert_exporter": "python",
   "pygments_lexer": "ipython3",
   "version": "3.6.8"
  }
 },
 "nbformat": 4,
 "nbformat_minor": 2
}
