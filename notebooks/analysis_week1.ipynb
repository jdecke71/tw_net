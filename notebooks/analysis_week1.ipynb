{
 "cells": [
  {
   "cell_type": "markdown",
   "metadata": {},
   "source": [
    "## Analysis\n",
    "---\n",
    "\n",
    "#### Import Scripts"
   ]
  },
  {
   "cell_type": "code",
   "execution_count": 183,
   "metadata": {},
   "outputs": [],
   "source": [
    "%run -i '../scripts/tw_net_cleaning.py'"
   ]
  },
  {
   "cell_type": "code",
   "execution_count": 16,
   "metadata": {},
   "outputs": [],
   "source": [
    "%run -i '../scripts/tw_net_analysis.py'"
   ]
  },
  {
   "cell_type": "code",
   "execution_count": 205,
   "metadata": {},
   "outputs": [],
   "source": [
    "%run -i '../scripts/tw_net_extraction.py'"
   ]
  },
  {
   "cell_type": "markdown",
   "metadata": {},
   "source": [
    "#### Load & Clean Tweets"
   ]
  },
  {
   "cell_type": "code",
   "execution_count": 208,
   "metadata": {},
   "outputs": [
    {
     "name": "stderr",
     "output_type": "stream",
     "text": [
      "../scripts/tw_net_extraction.py:181: SettingWithCopyWarning: \n",
      "A value is trying to be set on a copy of a slice from a DataFrame.\n",
      "Try using .loc[row_indexer,col_indexer] = value instead\n",
      "\n",
      "See the caveats in the documentation: http://pandas.pydata.org/pandas-docs/stable/indexing.html#indexing-view-versus-copy\n",
      "  \n",
      "../scripts/tw_net_extraction.py:182: SettingWithCopyWarning: \n",
      "A value is trying to be set on a copy of a slice from a DataFrame.\n",
      "Try using .loc[row_indexer,col_indexer] = value instead\n",
      "\n",
      "See the caveats in the documentation: http://pandas.pydata.org/pandas-docs/stable/indexing.html#indexing-view-versus-copy\n",
      "  \n",
      "../scripts/tw_net_extraction.py:183: SettingWithCopyWarning: \n",
      "A value is trying to be set on a copy of a slice from a DataFrame.\n",
      "Try using .loc[row_indexer,col_indexer] = value instead\n",
      "\n",
      "See the caveats in the documentation: http://pandas.pydata.org/pandas-docs/stable/indexing.html#indexing-view-versus-copy\n",
      "  def WrapTags(data):\n",
      "../scripts/tw_net_extraction.py:184: SettingWithCopyWarning: \n",
      "A value is trying to be set on a copy of a slice from a DataFrame.\n",
      "Try using .loc[row_indexer,col_indexer] = value instead\n",
      "\n",
      "See the caveats in the documentation: http://pandas.pydata.org/pandas-docs/stable/indexing.html#indexing-view-versus-copy\n",
      "  rows = data.index.tolist()\n",
      "../scripts/tw_net_extraction.py:185: SettingWithCopyWarning: \n",
      "A value is trying to be set on a copy of a slice from a DataFrame.\n",
      "Try using .loc[row_indexer,col_indexer] = value instead\n",
      "\n",
      "See the caveats in the documentation: http://pandas.pydata.org/pandas-docs/stable/indexing.html#indexing-view-versus-copy\n",
      "  \n"
     ]
    },
    {
     "data": {
      "text/html": [
       "<div>\n",
       "<style scoped>\n",
       "    .dataframe tbody tr th:only-of-type {\n",
       "        vertical-align: middle;\n",
       "    }\n",
       "\n",
       "    .dataframe tbody tr th {\n",
       "        vertical-align: top;\n",
       "    }\n",
       "\n",
       "    .dataframe thead th {\n",
       "        text-align: right;\n",
       "    }\n",
       "</style>\n",
       "<table border=\"1\" class=\"dataframe\">\n",
       "  <thead>\n",
       "    <tr style=\"text-align: right;\">\n",
       "      <th></th>\n",
       "      <th>id_str</th>\n",
       "      <th>text</th>\n",
       "      <th>created_hr</th>\n",
       "      <th>created_dotw</th>\n",
       "      <th>calltime</th>\n",
       "      <th>day</th>\n",
       "      <th>set</th>\n",
       "      <th>call</th>\n",
       "      <th>favorite_count</th>\n",
       "      <th>retweet_count</th>\n",
       "      <th>...</th>\n",
       "      <th>profile_background_color</th>\n",
       "      <th>profile_text_color</th>\n",
       "      <th>user_screen_name</th>\n",
       "      <th>statuses_count</th>\n",
       "      <th>verified</th>\n",
       "      <th>num_tags</th>\n",
       "      <th>num_media</th>\n",
       "      <th>num_symbols</th>\n",
       "      <th>num_urls</th>\n",
       "      <th>num_user_mentions</th>\n",
       "    </tr>\n",
       "  </thead>\n",
       "  <tbody>\n",
       "    <tr>\n",
       "      <th>3596</th>\n",
       "      <td>1096390606887272448</td>\n",
       "      <td>He is beautiful 😍 https://t.co/jcm6fySUTs</td>\n",
       "      <td>7</td>\n",
       "      <td>Fri</td>\n",
       "      <td>2019-02-15 15:30:35.189670</td>\n",
       "      <td>15</td>\n",
       "      <td>1</td>\n",
       "      <td>5</td>\n",
       "      <td>1</td>\n",
       "      <td>2</td>\n",
       "      <td>...</td>\n",
       "      <td>C0DEED</td>\n",
       "      <td>333333</td>\n",
       "      <td>whereisjustice0</td>\n",
       "      <td>298411</td>\n",
       "      <td>False</td>\n",
       "      <td>0</td>\n",
       "      <td>0</td>\n",
       "      <td>0</td>\n",
       "      <td>1</td>\n",
       "      <td>0</td>\n",
       "    </tr>\n",
       "    <tr>\n",
       "      <th>3520</th>\n",
       "      <td>1096387058988433408</td>\n",
       "      <td>I'm crying, so precious 😍😍 https://t.co/X777YC...</td>\n",
       "      <td>7</td>\n",
       "      <td>Fri</td>\n",
       "      <td>2019-02-15 15:30:35.189670</td>\n",
       "      <td>15</td>\n",
       "      <td>1</td>\n",
       "      <td>5</td>\n",
       "      <td>2</td>\n",
       "      <td>1</td>\n",
       "      <td>...</td>\n",
       "      <td>C0DEED</td>\n",
       "      <td>333333</td>\n",
       "      <td>whereisjustice0</td>\n",
       "      <td>298411</td>\n",
       "      <td>False</td>\n",
       "      <td>0</td>\n",
       "      <td>0</td>\n",
       "      <td>0</td>\n",
       "      <td>1</td>\n",
       "      <td>0</td>\n",
       "    </tr>\n",
       "    <tr>\n",
       "      <th>3606</th>\n",
       "      <td>1096390942733553664</td>\n",
       "      <td>#notmypope https://t.co/R6sK4Wnd6J</td>\n",
       "      <td>7</td>\n",
       "      <td>Fri</td>\n",
       "      <td>2019-02-15 15:30:35.189670</td>\n",
       "      <td>15</td>\n",
       "      <td>1</td>\n",
       "      <td>5</td>\n",
       "      <td>1</td>\n",
       "      <td>1</td>\n",
       "      <td>...</td>\n",
       "      <td>C0DEED</td>\n",
       "      <td>333333</td>\n",
       "      <td>whereisjustice0</td>\n",
       "      <td>298411</td>\n",
       "      <td>False</td>\n",
       "      <td>1</td>\n",
       "      <td>0</td>\n",
       "      <td>0</td>\n",
       "      <td>1</td>\n",
       "      <td>0</td>\n",
       "    </tr>\n",
       "    <tr>\n",
       "      <th>3452</th>\n",
       "      <td>1096390606887272448</td>\n",
       "      <td>He is beautiful 😍 https://t.co/jcm6fySUTs</td>\n",
       "      <td>7</td>\n",
       "      <td>Fri</td>\n",
       "      <td>2019-02-15 13:30:35.023589</td>\n",
       "      <td>15</td>\n",
       "      <td>1</td>\n",
       "      <td>4</td>\n",
       "      <td>1</td>\n",
       "      <td>2</td>\n",
       "      <td>...</td>\n",
       "      <td>C0DEED</td>\n",
       "      <td>333333</td>\n",
       "      <td>whereisjustice0</td>\n",
       "      <td>298307</td>\n",
       "      <td>False</td>\n",
       "      <td>0</td>\n",
       "      <td>0</td>\n",
       "      <td>0</td>\n",
       "      <td>1</td>\n",
       "      <td>0</td>\n",
       "    </tr>\n",
       "    <tr>\n",
       "      <th>3462</th>\n",
       "      <td>1096390942733553664</td>\n",
       "      <td>#notmypope https://t.co/R6sK4Wnd6J</td>\n",
       "      <td>7</td>\n",
       "      <td>Fri</td>\n",
       "      <td>2019-02-15 13:30:35.023589</td>\n",
       "      <td>15</td>\n",
       "      <td>1</td>\n",
       "      <td>4</td>\n",
       "      <td>1</td>\n",
       "      <td>1</td>\n",
       "      <td>...</td>\n",
       "      <td>C0DEED</td>\n",
       "      <td>333333</td>\n",
       "      <td>whereisjustice0</td>\n",
       "      <td>298307</td>\n",
       "      <td>False</td>\n",
       "      <td>1</td>\n",
       "      <td>0</td>\n",
       "      <td>0</td>\n",
       "      <td>1</td>\n",
       "      <td>0</td>\n",
       "    </tr>\n",
       "  </tbody>\n",
       "</table>\n",
       "<p>5 rows × 39 columns</p>\n",
       "</div>"
      ],
      "text/plain": [
       "                   id_str                                               text  \\\n",
       "3596  1096390606887272448          He is beautiful 😍 https://t.co/jcm6fySUTs   \n",
       "3520  1096387058988433408  I'm crying, so precious 😍😍 https://t.co/X777YC...   \n",
       "3606  1096390942733553664                 #notmypope https://t.co/R6sK4Wnd6J   \n",
       "3452  1096390606887272448          He is beautiful 😍 https://t.co/jcm6fySUTs   \n",
       "3462  1096390942733553664                 #notmypope https://t.co/R6sK4Wnd6J   \n",
       "\n",
       "     created_hr created_dotw                    calltime day set call  \\\n",
       "3596          7          Fri  2019-02-15 15:30:35.189670  15   1    5   \n",
       "3520          7          Fri  2019-02-15 15:30:35.189670  15   1    5   \n",
       "3606          7          Fri  2019-02-15 15:30:35.189670  15   1    5   \n",
       "3452          7          Fri  2019-02-15 13:30:35.023589  15   1    4   \n",
       "3462          7          Fri  2019-02-15 13:30:35.023589  15   1    4   \n",
       "\n",
       "      favorite_count  retweet_count        ...         \\\n",
       "3596               1              2        ...          \n",
       "3520               2              1        ...          \n",
       "3606               1              1        ...          \n",
       "3452               1              2        ...          \n",
       "3462               1              1        ...          \n",
       "\n",
       "     profile_background_color profile_text_color user_screen_name  \\\n",
       "3596                   C0DEED             333333  whereisjustice0   \n",
       "3520                   C0DEED             333333  whereisjustice0   \n",
       "3606                   C0DEED             333333  whereisjustice0   \n",
       "3452                   C0DEED             333333  whereisjustice0   \n",
       "3462                   C0DEED             333333  whereisjustice0   \n",
       "\n",
       "      statuses_count verified num_tags num_media num_symbols num_urls  \\\n",
       "3596          298411    False        0         0           0        1   \n",
       "3520          298411    False        0         0           0        1   \n",
       "3606          298411    False        1         0           0        1   \n",
       "3452          298307    False        0         0           0        1   \n",
       "3462          298307    False        1         0           0        1   \n",
       "\n",
       "     num_user_mentions  \n",
       "3596                 0  \n",
       "3520                 0  \n",
       "3606                 0  \n",
       "3452                 0  \n",
       "3462                 0  \n",
       "\n",
       "[5 rows x 39 columns]"
      ]
     },
     "execution_count": 208,
     "metadata": {},
     "output_type": "execute_result"
    }
   ],
   "source": [
    "'''\n",
    "Enter days/sets/calls combination to select \n",
    "one or more sets of tweets to be returned as dataframe.\n",
    "\n",
    "Ex. All tweets from day 16\n",
    "'''\n",
    "days = [11,12,13,14,15,16,17]\n",
    "sets = [1]\n",
    "calls = [1]\n",
    "\n",
    "df = TweetsToDataframe(days,sets,calls,useWeights=False)\n",
    "\n",
    "df.head()"
   ]
  },
  {
   "cell_type": "code",
   "execution_count": 159,
   "metadata": {},
   "outputs": [
    {
     "data": {
      "text/plain": [
       "Index(['id_str', 'text', 'created_hr', 'created_dotw', 'calltime', 'day',\n",
       "       'set', 'call', 'favorite_count', 'retweet_count', 'place_names',\n",
       "       'place_ids', 'sources', 'influence_score', 'in_reply_to_status_id_str',\n",
       "       'in_reply_to_user_id_str', 'lang', 'is_quote_status', 'retweeted',\n",
       "       'truncated', 'user_id_str', 'user_name', 'user_description',\n",
       "       'user_created_at', 'user_location', 'favorites_counts',\n",
       "       'followers_count', 'friends_count', 'listed_count',\n",
       "       'profile_background_color', 'profile_text_color', 'user_screen_name',\n",
       "       'statuses_count', 'verified', 'num_tags', 'num_media', 'num_symbols',\n",
       "       'num_urls', 'num_user_mentions'],\n",
       "      dtype='object')"
      ]
     },
     "execution_count": 159,
     "metadata": {},
     "output_type": "execute_result"
    }
   ],
   "source": [
    "df.columns"
   ]
  },
  {
   "cell_type": "code",
   "execution_count": 185,
   "metadata": {},
   "outputs": [
    {
     "data": {
      "text/html": [
       "<div>\n",
       "<style scoped>\n",
       "    .dataframe tbody tr th:only-of-type {\n",
       "        vertical-align: middle;\n",
       "    }\n",
       "\n",
       "    .dataframe tbody tr th {\n",
       "        vertical-align: top;\n",
       "    }\n",
       "\n",
       "    .dataframe thead th {\n",
       "        text-align: right;\n",
       "    }\n",
       "</style>\n",
       "<table border=\"1\" class=\"dataframe\">\n",
       "  <thead>\n",
       "    <tr style=\"text-align: right;\">\n",
       "      <th></th>\n",
       "      <th>favorite_count</th>\n",
       "      <th>retweet_count</th>\n",
       "      <th>influence_score</th>\n",
       "      <th>favorites_counts</th>\n",
       "      <th>followers_count</th>\n",
       "      <th>friends_count</th>\n",
       "      <th>listed_count</th>\n",
       "      <th>statuses_count</th>\n",
       "      <th>num_tags</th>\n",
       "      <th>num_media</th>\n",
       "      <th>num_symbols</th>\n",
       "      <th>num_urls</th>\n",
       "      <th>num_user_mentions</th>\n",
       "    </tr>\n",
       "  </thead>\n",
       "  <tbody>\n",
       "    <tr>\n",
       "      <th>count</th>\n",
       "      <td>26252.000000</td>\n",
       "      <td>26252.000000</td>\n",
       "      <td>26252.000000</td>\n",
       "      <td>26252.000000</td>\n",
       "      <td>26252.000000</td>\n",
       "      <td>26252.000000</td>\n",
       "      <td>26252.000000</td>\n",
       "      <td>26252.000000</td>\n",
       "      <td>26252.000000</td>\n",
       "      <td>26252.000000</td>\n",
       "      <td>26252.00000</td>\n",
       "      <td>26252.000000</td>\n",
       "      <td>26252.000000</td>\n",
       "    </tr>\n",
       "    <tr>\n",
       "      <th>mean</th>\n",
       "      <td>1.266684</td>\n",
       "      <td>0.228478</td>\n",
       "      <td>605.271731</td>\n",
       "      <td>20896.466707</td>\n",
       "      <td>2268.156369</td>\n",
       "      <td>1520.238153</td>\n",
       "      <td>30.841574</td>\n",
       "      <td>28893.608830</td>\n",
       "      <td>0.183300</td>\n",
       "      <td>0.091726</td>\n",
       "      <td>0.00019</td>\n",
       "      <td>0.412807</td>\n",
       "      <td>1.079613</td>\n",
       "    </tr>\n",
       "    <tr>\n",
       "      <th>std</th>\n",
       "      <td>8.379385</td>\n",
       "      <td>2.085535</td>\n",
       "      <td>936.505314</td>\n",
       "      <td>41510.626352</td>\n",
       "      <td>8583.678481</td>\n",
       "      <td>3664.460373</td>\n",
       "      <td>110.467265</td>\n",
       "      <td>52612.719414</td>\n",
       "      <td>0.707927</td>\n",
       "      <td>0.288645</td>\n",
       "      <td>0.01380</td>\n",
       "      <td>0.501850</td>\n",
       "      <td>1.547092</td>\n",
       "    </tr>\n",
       "    <tr>\n",
       "      <th>min</th>\n",
       "      <td>0.000000</td>\n",
       "      <td>0.000000</td>\n",
       "      <td>0.010000</td>\n",
       "      <td>0.000000</td>\n",
       "      <td>0.000000</td>\n",
       "      <td>0.000000</td>\n",
       "      <td>0.000000</td>\n",
       "      <td>1.000000</td>\n",
       "      <td>0.000000</td>\n",
       "      <td>0.000000</td>\n",
       "      <td>0.00000</td>\n",
       "      <td>0.000000</td>\n",
       "      <td>0.000000</td>\n",
       "    </tr>\n",
       "    <tr>\n",
       "      <th>25%</th>\n",
       "      <td>0.000000</td>\n",
       "      <td>0.000000</td>\n",
       "      <td>75.580000</td>\n",
       "      <td>1425.750000</td>\n",
       "      <td>161.000000</td>\n",
       "      <td>249.000000</td>\n",
       "      <td>1.000000</td>\n",
       "      <td>2256.000000</td>\n",
       "      <td>0.000000</td>\n",
       "      <td>0.000000</td>\n",
       "      <td>0.00000</td>\n",
       "      <td>0.000000</td>\n",
       "      <td>0.000000</td>\n",
       "    </tr>\n",
       "    <tr>\n",
       "      <th>50%</th>\n",
       "      <td>0.000000</td>\n",
       "      <td>0.000000</td>\n",
       "      <td>235.930000</td>\n",
       "      <td>6128.500000</td>\n",
       "      <td>463.000000</td>\n",
       "      <td>577.000000</td>\n",
       "      <td>5.000000</td>\n",
       "      <td>9368.500000</td>\n",
       "      <td>0.000000</td>\n",
       "      <td>0.000000</td>\n",
       "      <td>0.00000</td>\n",
       "      <td>0.000000</td>\n",
       "      <td>1.000000</td>\n",
       "    </tr>\n",
       "    <tr>\n",
       "      <th>75%</th>\n",
       "      <td>1.000000</td>\n",
       "      <td>0.000000</td>\n",
       "      <td>670.215000</td>\n",
       "      <td>19722.000000</td>\n",
       "      <td>1450.000000</td>\n",
       "      <td>1415.250000</td>\n",
       "      <td>19.000000</td>\n",
       "      <td>27317.000000</td>\n",
       "      <td>0.000000</td>\n",
       "      <td>0.000000</td>\n",
       "      <td>0.00000</td>\n",
       "      <td>1.000000</td>\n",
       "      <td>1.000000</td>\n",
       "    </tr>\n",
       "    <tr>\n",
       "      <th>max</th>\n",
       "      <td>469.000000</td>\n",
       "      <td>145.000000</td>\n",
       "      <td>6953.460000</td>\n",
       "      <td>468557.000000</td>\n",
       "      <td>154189.000000</td>\n",
       "      <td>51921.000000</td>\n",
       "      <td>2332.000000</td>\n",
       "      <td>371459.000000</td>\n",
       "      <td>9.000000</td>\n",
       "      <td>1.000000</td>\n",
       "      <td>1.00000</td>\n",
       "      <td>2.000000</td>\n",
       "      <td>10.000000</td>\n",
       "    </tr>\n",
       "  </tbody>\n",
       "</table>\n",
       "</div>"
      ],
      "text/plain": [
       "       favorite_count  retweet_count  influence_score  favorites_counts  \\\n",
       "count    26252.000000   26252.000000     26252.000000      26252.000000   \n",
       "mean         1.266684       0.228478       605.271731      20896.466707   \n",
       "std          8.379385       2.085535       936.505314      41510.626352   \n",
       "min          0.000000       0.000000         0.010000          0.000000   \n",
       "25%          0.000000       0.000000        75.580000       1425.750000   \n",
       "50%          0.000000       0.000000       235.930000       6128.500000   \n",
       "75%          1.000000       0.000000       670.215000      19722.000000   \n",
       "max        469.000000     145.000000      6953.460000     468557.000000   \n",
       "\n",
       "       followers_count  friends_count  listed_count  statuses_count  \\\n",
       "count     26252.000000   26252.000000  26252.000000    26252.000000   \n",
       "mean       2268.156369    1520.238153     30.841574    28893.608830   \n",
       "std        8583.678481    3664.460373    110.467265    52612.719414   \n",
       "min           0.000000       0.000000      0.000000        1.000000   \n",
       "25%         161.000000     249.000000      1.000000     2256.000000   \n",
       "50%         463.000000     577.000000      5.000000     9368.500000   \n",
       "75%        1450.000000    1415.250000     19.000000    27317.000000   \n",
       "max      154189.000000   51921.000000   2332.000000   371459.000000   \n",
       "\n",
       "           num_tags     num_media  num_symbols      num_urls  \\\n",
       "count  26252.000000  26252.000000  26252.00000  26252.000000   \n",
       "mean       0.183300      0.091726      0.00019      0.412807   \n",
       "std        0.707927      0.288645      0.01380      0.501850   \n",
       "min        0.000000      0.000000      0.00000      0.000000   \n",
       "25%        0.000000      0.000000      0.00000      0.000000   \n",
       "50%        0.000000      0.000000      0.00000      0.000000   \n",
       "75%        0.000000      0.000000      0.00000      1.000000   \n",
       "max        9.000000      1.000000      1.00000      2.000000   \n",
       "\n",
       "       num_user_mentions  \n",
       "count       26252.000000  \n",
       "mean            1.079613  \n",
       "std             1.547092  \n",
       "min             0.000000  \n",
       "25%             0.000000  \n",
       "50%             1.000000  \n",
       "75%             1.000000  \n",
       "max            10.000000  "
      ]
     },
     "execution_count": 185,
     "metadata": {},
     "output_type": "execute_result"
    }
   ],
   "source": [
    "df.describe()"
   ]
  },
  {
   "cell_type": "code",
   "execution_count": 186,
   "metadata": {},
   "outputs": [
    {
     "name": "stderr",
     "output_type": "stream",
     "text": [
      "/Users/jessedecker/miniconda3/envs/gis/lib/python3.6/site-packages/scipy/stats/stats.py:1713: FutureWarning: Using a non-tuple sequence for multidimensional indexing is deprecated; use `arr[tuple(seq)]` instead of `arr[seq]`. In the future this will be interpreted as an array index, `arr[np.array(seq)]`, which will result either in an error or a different result.\n",
      "  return np.add.reduce(sorted[indexer] * weights, axis=axis) / sumval\n"
     ]
    },
    {
     "data": {
      "image/png": "[encoded data removed]",
      "text/plain": [
       "<Figure size 432x288 with 1 Axes>"
      ]
     },
     "metadata": {
      "needs_background": "light"
     },
     "output_type": "display_data"
    }
   ],
   "source": [
    "'''\n",
    "Distribution of influence scores\n",
    "'''\n",
    "# scores = df['influence_score'].tolist()\n",
    "ax = sns.distplot(df['influence_score'],kde=False)"
   ]
  },
  {
   "cell_type": "code",
   "execution_count": 164,
   "metadata": {},
   "outputs": [
    {
     "data": {
      "image/png": "[encoded data removed]",
      "text/plain": [
       "<Figure size 432x288 with 1 Axes>"
      ]
     },
     "metadata": {
      "needs_background": "light"
     },
     "output_type": "display_data"
    }
   ],
   "source": [
    "ax = sns.lineplot(x=\"created_hr\", y=\"influence_score\", data=df)"
   ]
  },
  {
   "cell_type": "code",
   "execution_count": 165,
   "metadata": {},
   "outputs": [
    {
     "data": {
      "image/png": "[encoded data removed]",
      "text/plain": [
       "<Figure size 432x288 with 1 Axes>"
      ]
     },
     "metadata": {
      "needs_background": "light"
     },
     "output_type": "display_data"
    }
   ],
   "source": [
    "ax = sns.lineplot(x=\"created_dotw\", y=\"influence_score\", data=df)"
   ]
  },
  {
   "cell_type": "code",
   "execution_count": 168,
   "metadata": {},
   "outputs": [
    {
     "data": {
      "image/png": "[encoded data removed]",
      "text/plain": [
       "<Figure size 432x288 with 1 Axes>"
      ]
     },
     "metadata": {
      "needs_background": "light"
     },
     "output_type": "display_data"
    }
   ],
   "source": [
    "ax = sns.lineplot(x=\"set\", y=\"influence_score\", data=df)"
   ]
  },
  {
   "cell_type": "code",
   "execution_count": 169,
   "metadata": {},
   "outputs": [
    {
     "data": {
      "image/png": "[encoded data removed]",
      "text/plain": [
       "<Figure size 432x288 with 1 Axes>"
      ]
     },
     "metadata": {
      "needs_background": "light"
     },
     "output_type": "display_data"
    }
   ],
   "source": [
    "ax = sns.boxplot(x=\"num_tags\", y=\"influence_score\", data=df)"
   ]
  },
  {
   "cell_type": "code",
   "execution_count": 170,
   "metadata": {},
   "outputs": [
    {
     "data": {
      "image/png": "[encoded data removed]",
      "text/plain": [
       "<Figure size 432x288 with 1 Axes>"
      ]
     },
     "metadata": {
      "needs_background": "light"
     },
     "output_type": "display_data"
    }
   ],
   "source": [
    "ax = sns.boxplot(x=\"num_media\", y=\"influence_score\", data=df)"
   ]
  },
  {
   "cell_type": "code",
   "execution_count": 171,
   "metadata": {},
   "outputs": [
    {
     "data": {
      "image/png": "[encoded data removed]",
      "text/plain": [
       "<Figure size 432x288 with 1 Axes>"
      ]
     },
     "metadata": {
      "needs_background": "light"
     },
     "output_type": "display_data"
    }
   ],
   "source": [
    "ax = sns.boxplot(x=\"num_urls\", y=\"influence_score\", data=df)"
   ]
  },
  {
   "cell_type": "code",
   "execution_count": 172,
   "metadata": {},
   "outputs": [
    {
     "data": {
      "image/png": "[encoded data removed]",
      "text/plain": [
       "<Figure size 432x288 with 1 Axes>"
      ]
     },
     "metadata": {
      "needs_background": "light"
     },
     "output_type": "display_data"
    }
   ],
   "source": [
    "ax = sns.boxplot(x=\"num_user_mentions\", y=\"influence_score\", data=df)"
   ]
  },
  {
   "cell_type": "code",
   "execution_count": 139,
   "metadata": {},
   "outputs": [
    {
     "data": {
      "image/png": "[encoded data removed]",
      "text/plain": [
       "<Figure size 432x288 with 1 Axes>"
      ]
     },
     "metadata": {
      "needs_background": "light"
     },
     "output_type": "display_data"
    }
   ],
   "source": [
    "ax = sns.boxplot(x=\"verified\", y=\"influence_score\", data=df)"
   ]
  },
  {
   "cell_type": "code",
   "execution_count": 176,
   "metadata": {},
   "outputs": [
    {
     "data": {
      "image/png": "[encoded data removed]",
      "text/plain": [
       "<Figure size 432x288 with 1 Axes>"
      ]
     },
     "metadata": {
      "needs_background": "light"
     },
     "output_type": "display_data"
    }
   ],
   "source": [
    "ax = sns.boxplot(x=\"sources\", y=\"influence_score\", data=df)"
   ]
  },
  {
   "cell_type": "code",
   "execution_count": 175,
   "metadata": {},
   "outputs": [
    {
     "data": {
      "image/png": "[encoded data removed]",
      "text/plain": [
       "<Figure size 432x288 with 1 Axes>"
      ]
     },
     "metadata": {
      "needs_background": "light"
     },
     "output_type": "display_data"
    }
   ],
   "source": [
    "ax = sns.countplot(x=\"num_user_mentions\", data=df)"
   ]
  },
  {
   "cell_type": "code",
   "execution_count": 201,
   "metadata": {},
   "outputs": [
    {
     "data": {
      "text/plain": [
       "Twitter for iPhone         16080\n",
       "Twitter for Android         5299\n",
       "Twitter Web Client          2806\n",
       "Instagram                    699\n",
       "Twitter for iPad             644\n",
       "CareerArc 2.0                363\n",
       "Foursquare                   131\n",
       "Untappd                       85\n",
       "TweetCaster for Android       40\n",
       "TTN MDT traffic               30\n",
       "iembot                        15\n",
       "eLobbyist                     15\n",
       "BeerMenus                     10\n",
       "TTN PHL traffic                5\n",
       "Oktopost                       5\n",
       "dlvr.it                        5\n",
       "TTN ABE traffic                5\n",
       "Foursquare Swarm               5\n",
       "objectpost                     5\n",
       "Talon Android                  5\n",
       "Name: sources, dtype: int64"
      ]
     },
     "execution_count": 201,
     "metadata": {},
     "output_type": "execute_result"
    }
   ],
   "source": [
    "df['sources'].value_counts()"
   ]
  },
  {
   "cell_type": "code",
   "execution_count": null,
   "metadata": {},
   "outputs": [],
   "source": []
  },
  {
   "cell_type": "code",
   "execution_count": 194,
   "metadata": {},
   "outputs": [
    {
     "data": {
      "text/plain": [
       "[16080, 5299, 2806, 699, 644, 363, 131, 85, 40, 30]"
      ]
     },
     "execution_count": 194,
     "metadata": {},
     "output_type": "execute_result"
    }
   ],
   "source": [
    "src[:10]"
   ]
  },
  {
   "cell_type": "code",
   "execution_count": null,
   "metadata": {},
   "outputs": [],
   "source": []
  },
  {
   "cell_type": "code",
   "execution_count": null,
   "metadata": {},
   "outputs": [],
   "source": []
  },
  {
   "cell_type": "code",
   "execution_count": null,
   "metadata": {},
   "outputs": [],
   "source": []
  },
  {
   "cell_type": "code",
   "execution_count": null,
   "metadata": {},
   "outputs": [],
   "source": []
  },
  {
   "cell_type": "code",
   "execution_count": 117,
   "metadata": {},
   "outputs": [
    {
     "data": {
      "text/html": [
       "<div>\n",
       "<style scoped>\n",
       "    .dataframe tbody tr th:only-of-type {\n",
       "        vertical-align: middle;\n",
       "    }\n",
       "\n",
       "    .dataframe tbody tr th {\n",
       "        vertical-align: top;\n",
       "    }\n",
       "\n",
       "    .dataframe thead th {\n",
       "        text-align: right;\n",
       "    }\n",
       "</style>\n",
       "<table border=\"1\" class=\"dataframe\">\n",
       "  <thead>\n",
       "    <tr style=\"text-align: right;\">\n",
       "      <th></th>\n",
       "      <th>id_str</th>\n",
       "      <th>text</th>\n",
       "      <th>created_hr</th>\n",
       "      <th>created_dotw</th>\n",
       "      <th>calltime</th>\n",
       "      <th>day</th>\n",
       "      <th>set</th>\n",
       "      <th>call</th>\n",
       "      <th>favorite_count</th>\n",
       "      <th>retweet_count</th>\n",
       "      <th>...</th>\n",
       "      <th>profile_background_color</th>\n",
       "      <th>profile_text_color</th>\n",
       "      <th>user_screen_name</th>\n",
       "      <th>statuses_count</th>\n",
       "      <th>verified</th>\n",
       "      <th>num_tags</th>\n",
       "      <th>num_media</th>\n",
       "      <th>num_symbols</th>\n",
       "      <th>num_urls</th>\n",
       "      <th>num_user_mentions</th>\n",
       "    </tr>\n",
       "  </thead>\n",
       "  <tbody>\n",
       "    <tr>\n",
       "      <th>2115</th>\n",
       "      <td>1095729791435767808</td>\n",
       "      <td>You love to see that 😊😊 https://t.co/xU2ggyWwuf</td>\n",
       "      <td>12</td>\n",
       "      <td>Wed</td>\n",
       "      <td>2019-02-13 12:15:46.803538</td>\n",
       "      <td>13</td>\n",
       "      <td>3</td>\n",
       "      <td>1</td>\n",
       "      <td>0</td>\n",
       "      <td>0</td>\n",
       "      <td>...</td>\n",
       "      <td>000000</td>\n",
       "      <td>333333</td>\n",
       "      <td>NiPGaming</td>\n",
       "      <td>18335</td>\n",
       "      <td>True</td>\n",
       "      <td>0</td>\n",
       "      <td>1</td>\n",
       "      <td>0</td>\n",
       "      <td>0</td>\n",
       "      <td>0</td>\n",
       "    </tr>\n",
       "    <tr>\n",
       "      <th>1365</th>\n",
       "      <td>1095401388010622978</td>\n",
       "      <td>Cleared: Incident on #NewJerseyTurnpikePennsyl...</td>\n",
       "      <td>14</td>\n",
       "      <td>Tue</td>\n",
       "      <td>2019-02-12 14:30:09.387582</td>\n",
       "      <td>12</td>\n",
       "      <td>4</td>\n",
       "      <td>1</td>\n",
       "      <td>0</td>\n",
       "      <td>0</td>\n",
       "      <td>...</td>\n",
       "      <td>9AE4E8</td>\n",
       "      <td>333333</td>\n",
       "      <td>511nyNJ</td>\n",
       "      <td>1499217</td>\n",
       "      <td>False</td>\n",
       "      <td>1</td>\n",
       "      <td>0</td>\n",
       "      <td>0</td>\n",
       "      <td>0</td>\n",
       "      <td>0</td>\n",
       "    </tr>\n",
       "  </tbody>\n",
       "</table>\n",
       "<p>2 rows × 39 columns</p>\n",
       "</div>"
      ],
      "text/plain": [
       "                   id_str                                               text  \\\n",
       "2115  1095729791435767808    You love to see that 😊😊 https://t.co/xU2ggyWwuf   \n",
       "1365  1095401388010622978  Cleared: Incident on #NewJerseyTurnpikePennsyl...   \n",
       "\n",
       "      created_hr created_dotw                    calltime day set call  \\\n",
       "2115          12          Wed  2019-02-13 12:15:46.803538  13   3    1   \n",
       "1365          14          Tue  2019-02-12 14:30:09.387582  12   4    1   \n",
       "\n",
       "      favorite_count  retweet_count        ...         \\\n",
       "2115               0              0        ...          \n",
       "1365               0              0        ...          \n",
       "\n",
       "     profile_background_color profile_text_color user_screen_name  \\\n",
       "2115                   000000             333333        NiPGaming   \n",
       "1365                   9AE4E8             333333          511nyNJ   \n",
       "\n",
       "      statuses_count verified num_tags num_media num_symbols num_urls  \\\n",
       "2115           18335     True        0         1           0        0   \n",
       "1365         1499217    False        1         0           0        0   \n",
       "\n",
       "     num_user_mentions  \n",
       "2115                 0  \n",
       "1365                 0  \n",
       "\n",
       "[2 rows x 39 columns]"
      ]
     },
     "execution_count": 117,
     "metadata": {},
     "output_type": "execute_result"
    }
   ],
   "source": [
    "df[df['influence_score']>20000]"
   ]
  },
  {
   "cell_type": "code",
   "execution_count": 119,
   "metadata": {},
   "outputs": [],
   "source": [
    "# DeleteTweet(12,4,'1095401388010622978')"
   ]
  },
  {
   "cell_type": "markdown",
   "metadata": {},
   "source": [
    "#### Preview Feature Set"
   ]
  },
  {
   "cell_type": "code",
   "execution_count": 210,
   "metadata": {},
   "outputs": [
    {
     "name": "stderr",
     "output_type": "stream",
     "text": [
      "../scripts/tw_net_extraction.py:20: DeprecationWarning: generator 'ngrams' raised StopIteration\n",
      "  return list(ngrams(text_list, grams))\n"
     ]
    },
    {
     "data": {
      "text/html": [
       "<div>\n",
       "<style scoped>\n",
       "    .dataframe tbody tr th:only-of-type {\n",
       "        vertical-align: middle;\n",
       "    }\n",
       "\n",
       "    .dataframe tbody tr th {\n",
       "        vertical-align: top;\n",
       "    }\n",
       "\n",
       "    .dataframe thead th {\n",
       "        text-align: right;\n",
       "    }\n",
       "</style>\n",
       "<table border=\"1\" class=\"dataframe\">\n",
       "  <thead>\n",
       "    <tr style=\"text-align: right;\">\n",
       "      <th></th>\n",
       "      <th>tweet_id</th>\n",
       "      <th>text</th>\n",
       "      <th>created_hr</th>\n",
       "      <th>num_tags</th>\n",
       "      <th>num_media</th>\n",
       "      <th>num_symbols</th>\n",
       "      <th>num_urls</th>\n",
       "      <th>num_user_mentions</th>\n",
       "      <th>influence_interval</th>\n",
       "      <th>bigrams</th>\n",
       "      <th>trigrams</th>\n",
       "      <th>quadgrams</th>\n",
       "      <th>ch_trigram</th>\n",
       "      <th>ch_quadgram</th>\n",
       "      <th>isVerified</th>\n",
       "      <th>isRetweeted</th>\n",
       "      <th>isReply</th>\n",
       "      <th>dotw</th>\n",
       "    </tr>\n",
       "  </thead>\n",
       "  <tbody>\n",
       "    <tr>\n",
       "      <th>3596</th>\n",
       "      <td>1096390606887272448</td>\n",
       "      <td>He is beautiful 😍 https://t.co/jcm6fySUTs</td>\n",
       "      <td>7</td>\n",
       "      <td>0</td>\n",
       "      <td>0</td>\n",
       "      <td>0</td>\n",
       "      <td>1</td>\n",
       "      <td>0</td>\n",
       "      <td>4</td>\n",
       "      <td>[]</td>\n",
       "      <td>[]</td>\n",
       "      <td>[]</td>\n",
       "      <td>[bea, eau, aut, uti, tif, ifu, ful]</td>\n",
       "      <td>[beau, eaut, auti, utif, tifu, iful]</td>\n",
       "      <td>0</td>\n",
       "      <td>0</td>\n",
       "      <td>1</td>\n",
       "      <td>6</td>\n",
       "    </tr>\n",
       "    <tr>\n",
       "      <th>3520</th>\n",
       "      <td>1096387058988433408</td>\n",
       "      <td>I'm crying, so precious 😍😍 https://t.co/X777YC...</td>\n",
       "      <td>7</td>\n",
       "      <td>0</td>\n",
       "      <td>0</td>\n",
       "      <td>0</td>\n",
       "      <td>1</td>\n",
       "      <td>0</td>\n",
       "      <td>4</td>\n",
       "      <td>[(cry, precious)]</td>\n",
       "      <td>[]</td>\n",
       "      <td>[]</td>\n",
       "      <td>[cry]</td>\n",
       "      <td>[]</td>\n",
       "      <td>0</td>\n",
       "      <td>0</td>\n",
       "      <td>1</td>\n",
       "      <td>6</td>\n",
       "    </tr>\n",
       "    <tr>\n",
       "      <th>2894</th>\n",
       "      <td>1096027984014856194</td>\n",
       "      <td>@theeKipster It goes without saying....</td>\n",
       "      <td>7</td>\n",
       "      <td>0</td>\n",
       "      <td>0</td>\n",
       "      <td>0</td>\n",
       "      <td>0</td>\n",
       "      <td>1</td>\n",
       "      <td>4</td>\n",
       "      <td>[(theekipster, go), (go, without), (without, s...</td>\n",
       "      <td>[(theekipster, go, without), (go, without, say...</td>\n",
       "      <td>[(theekipster, go, without, saying)]</td>\n",
       "      <td>[the, hee, eek, eki, kip, ips, pst, ste, ter]</td>\n",
       "      <td>[thee, heek, eeki, ekip, kips, ipst, pste, ster]</td>\n",
       "      <td>0</td>\n",
       "      <td>0</td>\n",
       "      <td>1</td>\n",
       "      <td>5</td>\n",
       "    </tr>\n",
       "    <tr>\n",
       "      <th>652</th>\n",
       "      <td>1094939780608086016</td>\n",
       "      <td>@TheTrumpLady @BattleBornThom @KNP2BP @ReneeCa...</td>\n",
       "      <td>7</td>\n",
       "      <td>0</td>\n",
       "      <td>0</td>\n",
       "      <td>0</td>\n",
       "      <td>1</td>\n",
       "      <td>9</td>\n",
       "      <td>4</td>\n",
       "      <td>[(thetrumplady, battlebornthom), (battlebornth...</td>\n",
       "      <td>[(thetrumplady, battlebornthom, reneecarrollaz)]</td>\n",
       "      <td>[]</td>\n",
       "      <td>[the, het, etr, tru, rum, ump, mpl, pla, lad, ...</td>\n",
       "      <td>[thet, hetr, etru, trum, rump, umpl, mpla, pla...</td>\n",
       "      <td>0</td>\n",
       "      <td>0</td>\n",
       "      <td>1</td>\n",
       "      <td>2</td>\n",
       "    </tr>\n",
       "    <tr>\n",
       "      <th>713</th>\n",
       "      <td>1094942271202570240</td>\n",
       "      <td>@SandaBlue The risk with buying a “white box“ ...</td>\n",
       "      <td>7</td>\n",
       "      <td>0</td>\n",
       "      <td>0</td>\n",
       "      <td>0</td>\n",
       "      <td>1</td>\n",
       "      <td>1</td>\n",
       "      <td>4</td>\n",
       "      <td>[(sandablue, risk), (risk, buying), (buying, w...</td>\n",
       "      <td>[(sandablue, risk, buying), (risk, buying, whi...</td>\n",
       "      <td>[(sandablue, risk, buying, white), (risk, buyi...</td>\n",
       "      <td>[san, and, nda, dab, abl, blu, lue]</td>\n",
       "      <td>[sand, anda, ndab, dabl, ablu, blue]</td>\n",
       "      <td>0</td>\n",
       "      <td>0</td>\n",
       "      <td>1</td>\n",
       "      <td>2</td>\n",
       "    </tr>\n",
       "  </tbody>\n",
       "</table>\n",
       "</div>"
      ],
      "text/plain": [
       "                 tweet_id                                               text  \\\n",
       "3596  1096390606887272448          He is beautiful 😍 https://t.co/jcm6fySUTs   \n",
       "3520  1096387058988433408  I'm crying, so precious 😍😍 https://t.co/X777YC...   \n",
       "2894  1096027984014856194            @theeKipster It goes without saying....   \n",
       "652   1094939780608086016  @TheTrumpLady @BattleBornThom @KNP2BP @ReneeCa...   \n",
       "713   1094942271202570240  @SandaBlue The risk with buying a “white box“ ...   \n",
       "\n",
       "     created_hr  num_tags  num_media  num_symbols  num_urls  \\\n",
       "3596          7         0          0            0         1   \n",
       "3520          7         0          0            0         1   \n",
       "2894          7         0          0            0         0   \n",
       "652           7         0          0            0         1   \n",
       "713           7         0          0            0         1   \n",
       "\n",
       "      num_user_mentions  influence_interval  \\\n",
       "3596                  0                   4   \n",
       "3520                  0                   4   \n",
       "2894                  1                   4   \n",
       "652                   9                   4   \n",
       "713                   1                   4   \n",
       "\n",
       "                                                bigrams  \\\n",
       "3596                                                 []   \n",
       "3520                                  [(cry, precious)]   \n",
       "2894  [(theekipster, go), (go, without), (without, s...   \n",
       "652   [(thetrumplady, battlebornthom), (battlebornth...   \n",
       "713   [(sandablue, risk), (risk, buying), (buying, w...   \n",
       "\n",
       "                                               trigrams  \\\n",
       "3596                                                 []   \n",
       "3520                                                 []   \n",
       "2894  [(theekipster, go, without), (go, without, say...   \n",
       "652    [(thetrumplady, battlebornthom, reneecarrollaz)]   \n",
       "713   [(sandablue, risk, buying), (risk, buying, whi...   \n",
       "\n",
       "                                              quadgrams  \\\n",
       "3596                                                 []   \n",
       "3520                                                 []   \n",
       "2894               [(theekipster, go, without, saying)]   \n",
       "652                                                  []   \n",
       "713   [(sandablue, risk, buying, white), (risk, buyi...   \n",
       "\n",
       "                                             ch_trigram  \\\n",
       "3596                [bea, eau, aut, uti, tif, ifu, ful]   \n",
       "3520                                              [cry]   \n",
       "2894      [the, hee, eek, eki, kip, ips, pst, ste, ter]   \n",
       "652   [the, het, etr, tru, rum, ump, mpl, pla, lad, ...   \n",
       "713                 [san, and, nda, dab, abl, blu, lue]   \n",
       "\n",
       "                                            ch_quadgram  isVerified  \\\n",
       "3596               [beau, eaut, auti, utif, tifu, iful]           0   \n",
       "3520                                                 []           0   \n",
       "2894   [thee, heek, eeki, ekip, kips, ipst, pste, ster]           0   \n",
       "652   [thet, hetr, etru, trum, rump, umpl, mpla, pla...           0   \n",
       "713                [sand, anda, ndab, dabl, ablu, blue]           0   \n",
       "\n",
       "      isRetweeted  isReply  dotw  \n",
       "3596            0        1     6  \n",
       "3520            0        1     6  \n",
       "2894            0        1     5  \n",
       "652             0        1     2  \n",
       "713             0        1     2  "
      ]
     },
     "execution_count": 210,
     "metadata": {},
     "output_type": "execute_result"
    }
   ],
   "source": [
    "'''\n",
    "Wrap all but text. Leave identifiers and text to check.\n",
    "''' \n",
    "preview_df = PreviewFeatureSet(df)\n",
    "preview_df.head()"
   ]
  },
  {
   "cell_type": "code",
   "execution_count": 199,
   "metadata": {},
   "outputs": [
    {
     "data": {
      "text/plain": [
       "Index(['tweet_id', 'text', 'created_hr', 'favorites_counts', 'followers_count',\n",
       "       'friends_count', 'listed_count', 'statuses_count', 'num_tags',\n",
       "       'num_media', 'num_symbols', 'num_urls', 'num_user_mentions',\n",
       "       'influence_interval', 'bigrams', 'trigrams', 'quadgrams', 'ch_trigram',\n",
       "       'ch_quadgram', 'source', 'isVerified', 'isRetweeted', 'isReply',\n",
       "       'dotw'],\n",
       "      dtype='object')"
      ]
     },
     "execution_count": 199,
     "metadata": {},
     "output_type": "execute_result"
    }
   ],
   "source": [
    "preview_df.columns"
   ]
  },
  {
   "cell_type": "code",
   "execution_count": 212,
   "metadata": {},
   "outputs": [
    {
     "data": {
      "image/png": "[encoded data removed]",
      "text/plain": [
       "<Figure size 432x288 with 1 Axes>"
      ]
     },
     "metadata": {
      "needs_background": "light"
     },
     "output_type": "display_data"
    }
   ],
   "source": [
    "ax = sns.countplot(x=\"influence_interval\", data=preview_df)"
   ]
  },
  {
   "cell_type": "code",
   "execution_count": 196,
   "metadata": {},
   "outputs": [
    {
     "data": {
      "image/png": "[encoded data removed]",
      "text/plain": [
       "<Figure size 432x288 with 1 Axes>"
      ]
     },
     "metadata": {
      "needs_background": "light"
     },
     "output_type": "display_data"
    }
   ],
   "source": [
    "ax = sns.countplot(x=\"influence_interval\", data=preview_df)"
   ]
  },
  {
   "cell_type": "code",
   "execution_count": 200,
   "metadata": {},
   "outputs": [
    {
     "name": "stderr",
     "output_type": "stream",
     "text": [
      "/Users/jessedecker/miniconda3/envs/gis/lib/python3.6/site-packages/scipy/stats/stats.py:1713: FutureWarning: Using a non-tuple sequence for multidimensional indexing is deprecated; use `arr[tuple(seq)]` instead of `arr[seq]`. In the future this will be interpreted as an array index, `arr[np.array(seq)]`, which will result either in an error or a different result.\n",
      "  return np.add.reduce(sorted[indexer] * weights, axis=axis) / sumval\n"
     ]
    },
    {
     "data": {
      "image/png": "[encoded data removed]",
      "text/plain": [
       "<Figure size 432x288 with 1 Axes>"
      ]
     },
     "metadata": {
      "needs_background": "light"
     },
     "output_type": "display_data"
    }
   ],
   "source": [
    "ax = sns.lineplot(x=\"influence_interval\", y=\"dotw\", data=preview_df)"
   ]
  },
  {
   "cell_type": "markdown",
   "metadata": {},
   "source": [
    "#### Extract and Save Feature Set"
   ]
  },
  {
   "cell_type": "code",
   "execution_count": 13,
   "metadata": {},
   "outputs": [
    {
     "data": {
      "text/html": [
       "<div>\n",
       "<style scoped>\n",
       "    .dataframe tbody tr th:only-of-type {\n",
       "        vertical-align: middle;\n",
       "    }\n",
       "\n",
       "    .dataframe tbody tr th {\n",
       "        vertical-align: top;\n",
       "    }\n",
       "\n",
       "    .dataframe thead th {\n",
       "        text-align: right;\n",
       "    }\n",
       "</style>\n",
       "<table border=\"1\" class=\"dataframe\">\n",
       "  <thead>\n",
       "    <tr style=\"text-align: right;\">\n",
       "      <th></th>\n",
       "      <th>created_hr</th>\n",
       "      <th>favorites_counts</th>\n",
       "      <th>followers_count</th>\n",
       "      <th>friends_count</th>\n",
       "      <th>listed_count</th>\n",
       "      <th>statuses_count</th>\n",
       "      <th>num_tags</th>\n",
       "      <th>num_media</th>\n",
       "      <th>num_symbols</th>\n",
       "      <th>num_urls</th>\n",
       "      <th>...</th>\n",
       "      <th>('think', 'slept')</th>\n",
       "      <th>('slept', 'way')</th>\n",
       "      <th>('way', 'ladder')</th>\n",
       "      <th>('kamalaharris', 'america', 'think')</th>\n",
       "      <th>('america', 'think', 'slept')</th>\n",
       "      <th>('think', 'slept', 'way')</th>\n",
       "      <th>('slept', 'way', 'ladder')</th>\n",
       "      <th>('kamalaharris', 'america', 'think', 'slept')</th>\n",
       "      <th>('america', 'think', 'slept', 'way')</th>\n",
       "      <th>('think', 'slept', 'way', 'ladder')</th>\n",
       "    </tr>\n",
       "  </thead>\n",
       "  <tbody>\n",
       "    <tr>\n",
       "      <th>2107</th>\n",
       "      <td>12</td>\n",
       "      <td>24795</td>\n",
       "      <td>2167</td>\n",
       "      <td>368</td>\n",
       "      <td>30</td>\n",
       "      <td>5000</td>\n",
       "      <td>1</td>\n",
       "      <td>1</td>\n",
       "      <td>0</td>\n",
       "      <td>0</td>\n",
       "      <td>...</td>\n",
       "      <td>0</td>\n",
       "      <td>0</td>\n",
       "      <td>0</td>\n",
       "      <td>0</td>\n",
       "      <td>0</td>\n",
       "      <td>0</td>\n",
       "      <td>0</td>\n",
       "      <td>0</td>\n",
       "      <td>0</td>\n",
       "      <td>0</td>\n",
       "    </tr>\n",
       "    <tr>\n",
       "      <th>686</th>\n",
       "      <td>7</td>\n",
       "      <td>1233</td>\n",
       "      <td>12236</td>\n",
       "      <td>9763</td>\n",
       "      <td>4</td>\n",
       "      <td>10369</td>\n",
       "      <td>0</td>\n",
       "      <td>0</td>\n",
       "      <td>0</td>\n",
       "      <td>0</td>\n",
       "      <td>...</td>\n",
       "      <td>0</td>\n",
       "      <td>0</td>\n",
       "      <td>0</td>\n",
       "      <td>0</td>\n",
       "      <td>0</td>\n",
       "      <td>0</td>\n",
       "      <td>0</td>\n",
       "      <td>0</td>\n",
       "      <td>0</td>\n",
       "      <td>0</td>\n",
       "    </tr>\n",
       "    <tr>\n",
       "      <th>2854</th>\n",
       "      <td>14</td>\n",
       "      <td>4933</td>\n",
       "      <td>9432</td>\n",
       "      <td>212</td>\n",
       "      <td>35</td>\n",
       "      <td>3149</td>\n",
       "      <td>0</td>\n",
       "      <td>1</td>\n",
       "      <td>0</td>\n",
       "      <td>0</td>\n",
       "      <td>...</td>\n",
       "      <td>0</td>\n",
       "      <td>0</td>\n",
       "      <td>0</td>\n",
       "      <td>0</td>\n",
       "      <td>0</td>\n",
       "      <td>0</td>\n",
       "      <td>0</td>\n",
       "      <td>0</td>\n",
       "      <td>0</td>\n",
       "      <td>0</td>\n",
       "    </tr>\n",
       "    <tr>\n",
       "      <th>2768</th>\n",
       "      <td>14</td>\n",
       "      <td>7357</td>\n",
       "      <td>159</td>\n",
       "      <td>315</td>\n",
       "      <td>2</td>\n",
       "      <td>2530</td>\n",
       "      <td>0</td>\n",
       "      <td>0</td>\n",
       "      <td>0</td>\n",
       "      <td>0</td>\n",
       "      <td>...</td>\n",
       "      <td>0</td>\n",
       "      <td>0</td>\n",
       "      <td>0</td>\n",
       "      <td>0</td>\n",
       "      <td>0</td>\n",
       "      <td>0</td>\n",
       "      <td>0</td>\n",
       "      <td>0</td>\n",
       "      <td>0</td>\n",
       "      <td>0</td>\n",
       "    </tr>\n",
       "    <tr>\n",
       "      <th>2105</th>\n",
       "      <td>12</td>\n",
       "      <td>2808</td>\n",
       "      <td>192</td>\n",
       "      <td>242</td>\n",
       "      <td>0</td>\n",
       "      <td>1401</td>\n",
       "      <td>0</td>\n",
       "      <td>1</td>\n",
       "      <td>0</td>\n",
       "      <td>0</td>\n",
       "      <td>...</td>\n",
       "      <td>0</td>\n",
       "      <td>0</td>\n",
       "      <td>0</td>\n",
       "      <td>0</td>\n",
       "      <td>0</td>\n",
       "      <td>0</td>\n",
       "      <td>0</td>\n",
       "      <td>0</td>\n",
       "      <td>0</td>\n",
       "      <td>0</td>\n",
       "    </tr>\n",
       "  </tbody>\n",
       "</table>\n",
       "<p>5 rows × 13555 columns</p>\n",
       "</div>"
      ],
      "text/plain": [
       "      created_hr  favorites_counts  followers_count  friends_count  \\\n",
       "2107          12             24795             2167            368   \n",
       "686            7              1233            12236           9763   \n",
       "2854          14              4933             9432            212   \n",
       "2768          14              7357              159            315   \n",
       "2105          12              2808              192            242   \n",
       "\n",
       "      listed_count  statuses_count  num_tags  num_media  num_symbols  \\\n",
       "2107            30            5000         1          1            0   \n",
       "686              4           10369         0          0            0   \n",
       "2854            35            3149         0          1            0   \n",
       "2768             2            2530         0          0            0   \n",
       "2105             0            1401         0          1            0   \n",
       "\n",
       "      num_urls                 ...                   ('think', 'slept')  \\\n",
       "2107         0                 ...                                    0   \n",
       "686          0                 ...                                    0   \n",
       "2854         0                 ...                                    0   \n",
       "2768         0                 ...                                    0   \n",
       "2105         0                 ...                                    0   \n",
       "\n",
       "      ('slept', 'way')  ('way', 'ladder')  \\\n",
       "2107                 0                  0   \n",
       "686                  0                  0   \n",
       "2854                 0                  0   \n",
       "2768                 0                  0   \n",
       "2105                 0                  0   \n",
       "\n",
       "      ('kamalaharris', 'america', 'think')  ('america', 'think', 'slept')  \\\n",
       "2107                                     0                              0   \n",
       "686                                      0                              0   \n",
       "2854                                     0                              0   \n",
       "2768                                     0                              0   \n",
       "2105                                     0                              0   \n",
       "\n",
       "      ('think', 'slept', 'way')  ('slept', 'way', 'ladder')  \\\n",
       "2107                          0                           0   \n",
       "686                           0                           0   \n",
       "2854                          0                           0   \n",
       "2768                          0                           0   \n",
       "2105                          0                           0   \n",
       "\n",
       "      ('kamalaharris', 'america', 'think', 'slept')  \\\n",
       "2107                                              0   \n",
       "686                                               0   \n",
       "2854                                              0   \n",
       "2768                                              0   \n",
       "2105                                              0   \n",
       "\n",
       "      ('america', 'think', 'slept', 'way')  \\\n",
       "2107                                     0   \n",
       "686                                      0   \n",
       "2854                                     0   \n",
       "2768                                     0   \n",
       "2105                                     0   \n",
       "\n",
       "      ('think', 'slept', 'way', 'ladder')  \n",
       "2107                                    0  \n",
       "686                                     0  \n",
       "2854                                    0  \n",
       "2768                                    0  \n",
       "2105                                    0  \n",
       "\n",
       "[5 rows x 13555 columns]"
      ]
     },
     "execution_count": 13,
     "metadata": {},
     "output_type": "execute_result"
    }
   ],
   "source": [
    "'''\n",
    "Wrap text, remove identifiers/text, output ready for ml.\n",
    "This takes a while (5+ minutes for a day).\n",
    "''' \n",
    "featureSet = GetFeatureSet(preview_df)\n",
    "featureSet.head()"
   ]
  },
  {
   "cell_type": "code",
   "execution_count": 14,
   "metadata": {},
   "outputs": [],
   "source": [
    "'''\n",
    "Write csv for each target and day\n",
    "''' \n",
    "filename = 'targets/influence_interval/16'\n",
    "WriteCSV(featureSet,filename)"
   ]
  },
  {
   "cell_type": "code",
   "execution_count": null,
   "metadata": {},
   "outputs": [],
   "source": []
  }
 ],
 "metadata": {
  "kernelspec": {
   "display_name": "Python 3",
   "language": "python",
   "name": "python3"
  },
  "language_info": {
   "codemirror_mode": {
    "name": "ipython",
    "version": 3
   },
   "file_extension": ".py",
   "mimetype": "text/x-python",
   "name": "python",
   "nbconvert_exporter": "python",
   "pygments_lexer": "ipython3",
   "version": "3.6.8"
  }
 },
 "nbformat": 4,
 "nbformat_minor": 2
}
