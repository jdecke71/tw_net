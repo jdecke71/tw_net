{
 "cells": [
  {
   "cell_type": "markdown",
   "metadata": {},
   "source": [
    "## NLP\n",
    "---\n",
    "\n",
    "#### Import files"
   ]
  },
  {
   "cell_type": "code",
   "execution_count": null,
   "metadata": {},
   "outputs": [],
   "source": [
    "%run -i '../scripts/tw_net_analysis.py'"
   ]
  },
  {
   "cell_type": "code",
   "execution_count": 2,
   "metadata": {},
   "outputs": [],
   "source": [
    "%run -i '../scripts/tw_net_extraction.py'"
   ]
  },
  {
   "cell_type": "code",
   "execution_count": 3,
   "metadata": {},
   "outputs": [],
   "source": [
    "%run -i '../scripts/tw_net_nlp.py'"
   ]
  },
  {
   "cell_type": "code",
   "execution_count": 4,
   "metadata": {},
   "outputs": [
    {
     "name": "stdout",
     "output_type": "stream",
     "text": [
      "filename: ../data/models/all_days_text.csv\n"
     ]
    }
   ],
   "source": [
    "df = file_io.ReadCSV('all_days_text')"
   ]
  },
  {
   "cell_type": "code",
   "execution_count": 5,
   "metadata": {},
   "outputs": [
    {
     "data": {
      "text/html": [
       "<div>\n",
       "<style scoped>\n",
       "    .dataframe tbody tr th:only-of-type {\n",
       "        vertical-align: middle;\n",
       "    }\n",
       "\n",
       "    .dataframe tbody tr th {\n",
       "        vertical-align: top;\n",
       "    }\n",
       "\n",
       "    .dataframe thead th {\n",
       "        text-align: right;\n",
       "    }\n",
       "</style>\n",
       "<table border=\"1\" class=\"dataframe\">\n",
       "  <thead>\n",
       "    <tr style=\"text-align: right;\">\n",
       "      <th></th>\n",
       "      <th>id_str</th>\n",
       "      <th>text</th>\n",
       "      <th>created_hr</th>\n",
       "      <th>created_dotw</th>\n",
       "      <th>calltime</th>\n",
       "      <th>day</th>\n",
       "      <th>set</th>\n",
       "      <th>call</th>\n",
       "      <th>favorite_count</th>\n",
       "      <th>retweet_count</th>\n",
       "      <th>...</th>\n",
       "      <th>profile_background_color</th>\n",
       "      <th>profile_text_color</th>\n",
       "      <th>user_screen_name</th>\n",
       "      <th>statuses_count</th>\n",
       "      <th>verified</th>\n",
       "      <th>num_tags</th>\n",
       "      <th>num_media</th>\n",
       "      <th>num_symbols</th>\n",
       "      <th>num_urls</th>\n",
       "      <th>num_user_mentions</th>\n",
       "    </tr>\n",
       "  </thead>\n",
       "  <tbody>\n",
       "    <tr>\n",
       "      <th>0</th>\n",
       "      <td>1094936570350747648</td>\n",
       "      <td>First day at my new job 😌</td>\n",
       "      <td>7</td>\n",
       "      <td>Mon</td>\n",
       "      <td>2019-02-11 07:55:38.984121</td>\n",
       "      <td>11</td>\n",
       "      <td>1</td>\n",
       "      <td>1</td>\n",
       "      <td>0</td>\n",
       "      <td>0</td>\n",
       "      <td>...</td>\n",
       "      <td>F5F8FA</td>\n",
       "      <td>333333</td>\n",
       "      <td>racheeelLehman</td>\n",
       "      <td>126</td>\n",
       "      <td>False</td>\n",
       "      <td>0</td>\n",
       "      <td>0</td>\n",
       "      <td>0</td>\n",
       "      <td>0</td>\n",
       "      <td>0</td>\n",
       "    </tr>\n",
       "    <tr>\n",
       "      <th>1</th>\n",
       "      <td>1094936596519026688</td>\n",
       "      <td>@AlexHolleyFOX29 Absolutely!</td>\n",
       "      <td>7</td>\n",
       "      <td>Mon</td>\n",
       "      <td>2019-02-11 07:55:38.984121</td>\n",
       "      <td>11</td>\n",
       "      <td>1</td>\n",
       "      <td>1</td>\n",
       "      <td>0</td>\n",
       "      <td>0</td>\n",
       "      <td>...</td>\n",
       "      <td>F5F8FA</td>\n",
       "      <td>333333</td>\n",
       "      <td>DierolfWilliam</td>\n",
       "      <td>1010</td>\n",
       "      <td>False</td>\n",
       "      <td>0</td>\n",
       "      <td>0</td>\n",
       "      <td>0</td>\n",
       "      <td>0</td>\n",
       "      <td>1</td>\n",
       "    </tr>\n",
       "    <tr>\n",
       "      <th>2</th>\n",
       "      <td>1094936629930852352</td>\n",
       "      <td>PM loses moral high ground? I think he lost th...</td>\n",
       "      <td>7</td>\n",
       "      <td>Mon</td>\n",
       "      <td>2019-02-11 07:55:38.984121</td>\n",
       "      <td>11</td>\n",
       "      <td>1</td>\n",
       "      <td>1</td>\n",
       "      <td>0</td>\n",
       "      <td>0</td>\n",
       "      <td>...</td>\n",
       "      <td>F5F8FA</td>\n",
       "      <td>333333</td>\n",
       "      <td>WestPpc</td>\n",
       "      <td>86</td>\n",
       "      <td>False</td>\n",
       "      <td>0</td>\n",
       "      <td>0</td>\n",
       "      <td>0</td>\n",
       "      <td>1</td>\n",
       "      <td>0</td>\n",
       "    </tr>\n",
       "    <tr>\n",
       "      <th>3</th>\n",
       "      <td>1094936651741229057</td>\n",
       "      <td>Lawyers of the @TeamCavuto  Please Please List...</td>\n",
       "      <td>7</td>\n",
       "      <td>Mon</td>\n",
       "      <td>2019-02-11 07:55:38.984121</td>\n",
       "      <td>11</td>\n",
       "      <td>1</td>\n",
       "      <td>1</td>\n",
       "      <td>0</td>\n",
       "      <td>0</td>\n",
       "      <td>...</td>\n",
       "      <td>000000</td>\n",
       "      <td>000000</td>\n",
       "      <td>DuffGear</td>\n",
       "      <td>1240</td>\n",
       "      <td>False</td>\n",
       "      <td>0</td>\n",
       "      <td>0</td>\n",
       "      <td>0</td>\n",
       "      <td>1</td>\n",
       "      <td>1</td>\n",
       "    </tr>\n",
       "    <tr>\n",
       "      <th>4</th>\n",
       "      <td>1094936745190264832</td>\n",
       "      <td>@marklevinshow I AM A PROTECTED CLASS. NO ONE ...</td>\n",
       "      <td>7</td>\n",
       "      <td>Mon</td>\n",
       "      <td>2019-02-11 07:55:38.984121</td>\n",
       "      <td>11</td>\n",
       "      <td>1</td>\n",
       "      <td>1</td>\n",
       "      <td>0</td>\n",
       "      <td>0</td>\n",
       "      <td>...</td>\n",
       "      <td>F5F8FA</td>\n",
       "      <td>333333</td>\n",
       "      <td>SergioAntoni7</td>\n",
       "      <td>5849</td>\n",
       "      <td>False</td>\n",
       "      <td>0</td>\n",
       "      <td>0</td>\n",
       "      <td>0</td>\n",
       "      <td>1</td>\n",
       "      <td>1</td>\n",
       "    </tr>\n",
       "  </tbody>\n",
       "</table>\n",
       "<p>5 rows × 39 columns</p>\n",
       "</div>"
      ],
      "text/plain": [
       "                id_str                                               text  \\\n",
       "0  1094936570350747648                          First day at my new job 😌   \n",
       "1  1094936596519026688                       @AlexHolleyFOX29 Absolutely!   \n",
       "2  1094936629930852352  PM loses moral high ground? I think he lost th...   \n",
       "3  1094936651741229057  Lawyers of the @TeamCavuto  Please Please List...   \n",
       "4  1094936745190264832  @marklevinshow I AM A PROTECTED CLASS. NO ONE ...   \n",
       "\n",
       "   created_hr created_dotw                    calltime  day  set  call  \\\n",
       "0           7          Mon  2019-02-11 07:55:38.984121   11    1     1   \n",
       "1           7          Mon  2019-02-11 07:55:38.984121   11    1     1   \n",
       "2           7          Mon  2019-02-11 07:55:38.984121   11    1     1   \n",
       "3           7          Mon  2019-02-11 07:55:38.984121   11    1     1   \n",
       "4           7          Mon  2019-02-11 07:55:38.984121   11    1     1   \n",
       "\n",
       "   favorite_count  retweet_count        ...         profile_background_color  \\\n",
       "0               0              0        ...                           F5F8FA   \n",
       "1               0              0        ...                           F5F8FA   \n",
       "2               0              0        ...                           F5F8FA   \n",
       "3               0              0        ...                           000000   \n",
       "4               0              0        ...                           F5F8FA   \n",
       "\n",
       "  profile_text_color user_screen_name  statuses_count  verified  num_tags  \\\n",
       "0             333333   racheeelLehman             126     False         0   \n",
       "1             333333   DierolfWilliam            1010     False         0   \n",
       "2             333333          WestPpc              86     False         0   \n",
       "3             000000         DuffGear            1240     False         0   \n",
       "4             333333    SergioAntoni7            5849     False         0   \n",
       "\n",
       "  num_media  num_symbols  num_urls  num_user_mentions  \n",
       "0         0            0         0                  0  \n",
       "1         0            0         0                  1  \n",
       "2         0            0         1                  0  \n",
       "3         0            0         1                  1  \n",
       "4         0            0         1                  1  \n",
       "\n",
       "[5 rows x 39 columns]"
      ]
     },
     "execution_count": 5,
     "metadata": {},
     "output_type": "execute_result"
    }
   ],
   "source": [
    "df.head()"
   ]
  },
  {
   "cell_type": "markdown",
   "metadata": {},
   "source": [
    "### Wordmap and Frequency Tables"
   ]
  },
  {
   "cell_type": "code",
   "execution_count": null,
   "metadata": {},
   "outputs": [],
   "source": [
    "'''\n",
    "Set 1 \n",
    "7:30 AM\n",
    "'''\n",
    "set_n = 1\n",
    "setName = 'Set 1'\n",
    "text_series = df[df['set']== set_n]\n",
    "\n",
    "# Get text as list\n",
    "text_list = text_series['text']\n",
    "\n",
    "# Get freq table and word clouds\n",
    "set1_freq = ExamineText(text_list[:],setName)"
   ]
  },
  {
   "cell_type": "code",
   "execution_count": null,
   "metadata": {},
   "outputs": [],
   "source": [
    "set1_freq.head()"
   ]
  },
  {
   "cell_type": "code",
   "execution_count": null,
   "metadata": {},
   "outputs": [],
   "source": []
  },
  {
   "cell_type": "code",
   "execution_count": null,
   "metadata": {},
   "outputs": [],
   "source": [
    "'''\n",
    "Set 1 \n",
    "7:30 AM\n",
    "'''\n",
    "set_n = 2\n",
    "setName = 'Set 2'\n",
    "text_series = df[df['set']== set_n]\n",
    "\n",
    "# Get text as list\n",
    "text_list = text_series['text']\n",
    "\n",
    "# Get freq table and word clouds\n",
    "set2_freq = ExamineText(text_list[:10],setName)"
   ]
  },
  {
   "cell_type": "code",
   "execution_count": null,
   "metadata": {},
   "outputs": [],
   "source": [
    "set2_freq.head()"
   ]
  }
 ],
 "metadata": {
  "kernelspec": {
   "display_name": "Python 3",
   "language": "python",
   "name": "python3"
  },
  "language_info": {
   "codemirror_mode": {
    "name": "ipython",
    "version": 3
   },
   "file_extension": ".py",
   "mimetype": "text/x-python",
   "name": "python",
   "nbconvert_exporter": "python",
   "pygments_lexer": "ipython3",
   "version": "3.6.8"
  }
 },
 "nbformat": 4,
 "nbformat_minor": 2
}
