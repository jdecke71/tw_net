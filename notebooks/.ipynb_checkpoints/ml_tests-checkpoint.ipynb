{
 "cells": [
  {
   "cell_type": "code",
   "execution_count": 15,
   "metadata": {},
   "outputs": [],
   "source": [
    "%run -i '../scripts/tw_net_cleaning.py'"
   ]
  },
  {
   "cell_type": "code",
   "execution_count": 3,
   "metadata": {},
   "outputs": [],
   "source": [
    "%run -i '../scripts/tw_net_analysis.py'"
   ]
  },
  {
   "cell_type": "markdown",
   "metadata": {},
   "source": [
    "---"
   ]
  },
  {
   "cell_type": "code",
   "execution_count": null,
   "metadata": {},
   "outputs": [],
   "source": [
    "ViewUser(User_ID,day,set_n,call=0)"
   ]
  },
  {
   "cell_type": "code",
   "execution_count": 16,
   "metadata": {},
   "outputs": [
    {
     "name": "stderr",
     "output_type": "stream",
     "text": [
      "../scripts/tw_net_cleaning.py:241: SettingWithCopyWarning: \n",
      "A value is trying to be set on a copy of a slice from a DataFrame.\n",
      "Try using .loc[row_indexer,col_indexer] = value instead\n",
      "\n",
      "See the caveats in the documentation: http://pandas.pydata.org/pandas-docs/stable/indexing.html#indexing-view-versus-copy\n",
      "  tweets['hashtags'] = entities[0]\n",
      "../scripts/tw_net_cleaning.py:242: SettingWithCopyWarning: \n",
      "A value is trying to be set on a copy of a slice from a DataFrame.\n",
      "Try using .loc[row_indexer,col_indexer] = value instead\n",
      "\n",
      "See the caveats in the documentation: http://pandas.pydata.org/pandas-docs/stable/indexing.html#indexing-view-versus-copy\n",
      "  tweets['media'] = entities[1]\n",
      "../scripts/tw_net_cleaning.py:243: SettingWithCopyWarning: \n",
      "A value is trying to be set on a copy of a slice from a DataFrame.\n",
      "Try using .loc[row_indexer,col_indexer] = value instead\n",
      "\n",
      "See the caveats in the documentation: http://pandas.pydata.org/pandas-docs/stable/indexing.html#indexing-view-versus-copy\n",
      "  tweets['symbols'] = entities[2]\n",
      "../scripts/tw_net_cleaning.py:244: SettingWithCopyWarning: \n",
      "A value is trying to be set on a copy of a slice from a DataFrame.\n",
      "Try using .loc[row_indexer,col_indexer] = value instead\n",
      "\n",
      "See the caveats in the documentation: http://pandas.pydata.org/pandas-docs/stable/indexing.html#indexing-view-versus-copy\n",
      "  tweets['urls'] = entities[3]\n",
      "../scripts/tw_net_cleaning.py:245: SettingWithCopyWarning: \n",
      "A value is trying to be set on a copy of a slice from a DataFrame.\n",
      "Try using .loc[row_indexer,col_indexer] = value instead\n",
      "\n",
      "See the caveats in the documentation: http://pandas.pydata.org/pandas-docs/stable/indexing.html#indexing-view-versus-copy\n",
      "  tweets['user_mentions'] = entities[4]\n"
     ]
    },
    {
     "data": {
      "text/html": [
       "<div>\n",
       "<style scoped>\n",
       "    .dataframe tbody tr th:only-of-type {\n",
       "        vertical-align: middle;\n",
       "    }\n",
       "\n",
       "    .dataframe tbody tr th {\n",
       "        vertical-align: top;\n",
       "    }\n",
       "\n",
       "    .dataframe thead th {\n",
       "        text-align: right;\n",
       "    }\n",
       "</style>\n",
       "<table border=\"1\" class=\"dataframe\">\n",
       "  <thead>\n",
       "    <tr style=\"text-align: right;\">\n",
       "      <th></th>\n",
       "      <th>id_str</th>\n",
       "      <th>text</th>\n",
       "      <th>hashtags</th>\n",
       "      <th>media</th>\n",
       "      <th>symbols</th>\n",
       "      <th>urls</th>\n",
       "      <th>user_mentions</th>\n",
       "      <th>created_time</th>\n",
       "      <th>calltime</th>\n",
       "      <th>day</th>\n",
       "      <th>...</th>\n",
       "      <th>friends_count</th>\n",
       "      <th>profile_background_color</th>\n",
       "      <th>profile_image_url</th>\n",
       "      <th>profile_background_image_url</th>\n",
       "      <th>profile_text_color</th>\n",
       "      <th>profile_use_background_image</th>\n",
       "      <th>user_screen_name</th>\n",
       "      <th>statuses_count</th>\n",
       "      <th>listed_count</th>\n",
       "      <th>verified</th>\n",
       "    </tr>\n",
       "  </thead>\n",
       "  <tbody>\n",
       "    <tr>\n",
       "      <th>645</th>\n",
       "      <td>1094939063495335937</td>\n",
       "      <td>No matter how many times we do snow coverage N...</td>\n",
       "      <td>[]</td>\n",
       "      <td></td>\n",
       "      <td>[]</td>\n",
       "      <td>[h t t p s : / / t . c o / 5 j d Z 4 c Z r 2 9 ]</td>\n",
       "      <td>[6 0 3 1 5 5 3 0 6 , 1 4 7 8 7 7 1 3 ]</td>\n",
       "      <td>2019-02-11 07:39:50+00:00</td>\n",
       "      <td>2019-02-11 15:30:36.825745</td>\n",
       "      <td>11</td>\n",
       "      <td>...</td>\n",
       "      <td>3375</td>\n",
       "      <td>041D1E</td>\n",
       "      <td>http://pbs.twimg.com/profile_images/9611917455...</td>\n",
       "      <td>http://abs.twimg.com/images/themes/theme1/bg.png</td>\n",
       "      <td>5C3809</td>\n",
       "      <td>True</td>\n",
       "      <td>BillAFox29</td>\n",
       "      <td>33656</td>\n",
       "      <td>330</td>\n",
       "      <td>True</td>\n",
       "    </tr>\n",
       "    <tr>\n",
       "      <th>498</th>\n",
       "      <td>1094939063495335937</td>\n",
       "      <td>No matter how many times we do snow coverage N...</td>\n",
       "      <td>[]</td>\n",
       "      <td></td>\n",
       "      <td>[]</td>\n",
       "      <td>[h t t p s : / / t . c o / 5 j d Z 4 c Z r 2 9 ]</td>\n",
       "      <td>[6 0 3 1 5 5 3 0 6 , 1 4 7 8 7 7 1 3 ]</td>\n",
       "      <td>2019-02-11 07:39:50+00:00</td>\n",
       "      <td>2019-02-11 13:30:36.703713</td>\n",
       "      <td>11</td>\n",
       "      <td>...</td>\n",
       "      <td>3375</td>\n",
       "      <td>041D1E</td>\n",
       "      <td>http://pbs.twimg.com/profile_images/9611917455...</td>\n",
       "      <td>http://abs.twimg.com/images/themes/theme1/bg.png</td>\n",
       "      <td>5C3809</td>\n",
       "      <td>True</td>\n",
       "      <td>BillAFox29</td>\n",
       "      <td>33649</td>\n",
       "      <td>330</td>\n",
       "      <td>True</td>\n",
       "    </tr>\n",
       "    <tr>\n",
       "      <th>351</th>\n",
       "      <td>1094939063495335937</td>\n",
       "      <td>No matter how many times we do snow coverage N...</td>\n",
       "      <td>[]</td>\n",
       "      <td></td>\n",
       "      <td>[]</td>\n",
       "      <td>[h t t p s : / / t . c o / 5 j d Z 4 c Z r 2 9 ]</td>\n",
       "      <td>[6 0 3 1 5 5 3 0 6 , 1 4 7 8 7 7 1 3 ]</td>\n",
       "      <td>2019-02-11 07:39:50+00:00</td>\n",
       "      <td>2019-02-11 11:30:35.556491</td>\n",
       "      <td>11</td>\n",
       "      <td>...</td>\n",
       "      <td>3375</td>\n",
       "      <td>041D1E</td>\n",
       "      <td>http://pbs.twimg.com/profile_images/9611917455...</td>\n",
       "      <td>http://abs.twimg.com/images/themes/theme1/bg.png</td>\n",
       "      <td>5C3809</td>\n",
       "      <td>True</td>\n",
       "      <td>BillAFox29</td>\n",
       "      <td>33649</td>\n",
       "      <td>330</td>\n",
       "      <td>True</td>\n",
       "    </tr>\n",
       "    <tr>\n",
       "      <th>203</th>\n",
       "      <td>1094939063495335937</td>\n",
       "      <td>No matter how many times we do snow coverage N...</td>\n",
       "      <td>[]</td>\n",
       "      <td></td>\n",
       "      <td>[]</td>\n",
       "      <td>[h t t p s : / / t . c o / 5 j d Z 4 c Z r 2 9 ]</td>\n",
       "      <td>[6 0 3 1 5 5 3 0 6 , 1 4 7 8 7 7 1 3 ]</td>\n",
       "      <td>2019-02-11 07:39:50+00:00</td>\n",
       "      <td>2019-02-11 09:30:36.494645</td>\n",
       "      <td>11</td>\n",
       "      <td>...</td>\n",
       "      <td>3375</td>\n",
       "      <td>041D1E</td>\n",
       "      <td>http://pbs.twimg.com/profile_images/9611917455...</td>\n",
       "      <td>http://abs.twimg.com/images/themes/theme1/bg.png</td>\n",
       "      <td>5C3809</td>\n",
       "      <td>True</td>\n",
       "      <td>BillAFox29</td>\n",
       "      <td>33648</td>\n",
       "      <td>330</td>\n",
       "      <td>True</td>\n",
       "    </tr>\n",
       "    <tr>\n",
       "      <th>632</th>\n",
       "      <td>1094938192690757633</td>\n",
       "      <td>History of Christianity in miniature\\n\\nBrevia...</td>\n",
       "      <td>[m e d i e v a l t w i t t e r ]</td>\n",
       "      <td>[p h o t o ]</td>\n",
       "      <td>[]</td>\n",
       "      <td>[]</td>\n",
       "      <td>[1 0 5 1 9 7 1 0 8 ]</td>\n",
       "      <td>2019-02-11 07:36:22+00:00</td>\n",
       "      <td>2019-02-11 15:30:36.825745</td>\n",
       "      <td>11</td>\n",
       "      <td>...</td>\n",
       "      <td>8357</td>\n",
       "      <td>000000</td>\n",
       "      <td>http://pbs.twimg.com/profile_images/1074505396...</td>\n",
       "      <td>http://abs.twimg.com/images/themes/theme1/bg.png</td>\n",
       "      <td>000000</td>\n",
       "      <td>False</td>\n",
       "      <td>PiersatPenn</td>\n",
       "      <td>13244</td>\n",
       "      <td>386</td>\n",
       "      <td>False</td>\n",
       "    </tr>\n",
       "  </tbody>\n",
       "</table>\n",
       "<p>5 rows × 46 columns</p>\n",
       "</div>"
      ],
      "text/plain": [
       "                  id_str                                               text  \\\n",
       "645  1094939063495335937  No matter how many times we do snow coverage N...   \n",
       "498  1094939063495335937  No matter how many times we do snow coverage N...   \n",
       "351  1094939063495335937  No matter how many times we do snow coverage N...   \n",
       "203  1094939063495335937  No matter how many times we do snow coverage N...   \n",
       "632  1094938192690757633  History of Christianity in miniature\\n\\nBrevia...   \n",
       "\n",
       "                             hashtags         media symbols  \\\n",
       "645                                []                    []   \n",
       "498                                []                    []   \n",
       "351                                []                    []   \n",
       "203                                []                    []   \n",
       "632  [m e d i e v a l t w i t t e r ]  [p h o t o ]      []   \n",
       "\n",
       "                                                 urls  \\\n",
       "645  [h t t p s : / / t . c o / 5 j d Z 4 c Z r 2 9 ]   \n",
       "498  [h t t p s : / / t . c o / 5 j d Z 4 c Z r 2 9 ]   \n",
       "351  [h t t p s : / / t . c o / 5 j d Z 4 c Z r 2 9 ]   \n",
       "203  [h t t p s : / / t . c o / 5 j d Z 4 c Z r 2 9 ]   \n",
       "632                                                []   \n",
       "\n",
       "                              user_mentions              created_time  \\\n",
       "645  [6 0 3 1 5 5 3 0 6 , 1 4 7 8 7 7 1 3 ] 2019-02-11 07:39:50+00:00   \n",
       "498  [6 0 3 1 5 5 3 0 6 , 1 4 7 8 7 7 1 3 ] 2019-02-11 07:39:50+00:00   \n",
       "351  [6 0 3 1 5 5 3 0 6 , 1 4 7 8 7 7 1 3 ] 2019-02-11 07:39:50+00:00   \n",
       "203  [6 0 3 1 5 5 3 0 6 , 1 4 7 8 7 7 1 3 ] 2019-02-11 07:39:50+00:00   \n",
       "632                    [1 0 5 1 9 7 1 0 8 ] 2019-02-11 07:36:22+00:00   \n",
       "\n",
       "                       calltime day   ...    friends_count  \\\n",
       "645  2019-02-11 15:30:36.825745  11   ...             3375   \n",
       "498  2019-02-11 13:30:36.703713  11   ...             3375   \n",
       "351  2019-02-11 11:30:35.556491  11   ...             3375   \n",
       "203  2019-02-11 09:30:36.494645  11   ...             3375   \n",
       "632  2019-02-11 15:30:36.825745  11   ...             8357   \n",
       "\n",
       "    profile_background_color  \\\n",
       "645                   041D1E   \n",
       "498                   041D1E   \n",
       "351                   041D1E   \n",
       "203                   041D1E   \n",
       "632                   000000   \n",
       "\n",
       "                                     profile_image_url  \\\n",
       "645  http://pbs.twimg.com/profile_images/9611917455...   \n",
       "498  http://pbs.twimg.com/profile_images/9611917455...   \n",
       "351  http://pbs.twimg.com/profile_images/9611917455...   \n",
       "203  http://pbs.twimg.com/profile_images/9611917455...   \n",
       "632  http://pbs.twimg.com/profile_images/1074505396...   \n",
       "\n",
       "                         profile_background_image_url profile_text_color  \\\n",
       "645  http://abs.twimg.com/images/themes/theme1/bg.png             5C3809   \n",
       "498  http://abs.twimg.com/images/themes/theme1/bg.png             5C3809   \n",
       "351  http://abs.twimg.com/images/themes/theme1/bg.png             5C3809   \n",
       "203  http://abs.twimg.com/images/themes/theme1/bg.png             5C3809   \n",
       "632  http://abs.twimg.com/images/themes/theme1/bg.png             000000   \n",
       "\n",
       "    profile_use_background_image user_screen_name statuses_count listed_count  \\\n",
       "645                         True       BillAFox29          33656          330   \n",
       "498                         True       BillAFox29          33649          330   \n",
       "351                         True       BillAFox29          33649          330   \n",
       "203                         True       BillAFox29          33648          330   \n",
       "632                        False      PiersatPenn          13244          386   \n",
       "\n",
       "    verified  \n",
       "645     True  \n",
       "498     True  \n",
       "351     True  \n",
       "203     True  \n",
       "632    False  \n",
       "\n",
       "[5 rows x 46 columns]"
      ]
     },
     "execution_count": 16,
     "metadata": {},
     "output_type": "execute_result"
    }
   ],
   "source": [
    "'''\n",
    "Enter combo for 1 to all statuses\n",
    "day 6 missing set 2\n",
    "'''\n",
    "days = [11]\n",
    "sets = [1]\n",
    "calls = [1,2,3,4,5]\n",
    "\n",
    "df = GetDF(days,sets,calls)\n",
    "\n",
    "df.head()\n"
   ]
  },
  {
   "cell_type": "code",
   "execution_count": 5,
   "metadata": {},
   "outputs": [
    {
     "data": {
      "text/plain": [
       "Index(['created_at', 'favorite_count', 'id_str', 'in_reply_to_status_id_str',\n",
       "       'in_reply_to_user_id_str', 'is_quote_status', 'lang', 'retweet_count',\n",
       "       'retweeted', 'text', 'truncated', 'calltime', 'day', 'set', 'call',\n",
       "       'truncated', 'is_quote_status', 'hashtags', 'media', 'symbols', 'urls',\n",
       "       'user_mentions', 'user_created_at', 'user_description',\n",
       "       'favorites_counts', 'followers_count', 'friends_count', 'user_id_str',\n",
       "       'user_location', 'profile_background_color',\n",
       "       'profile_background_image_url', 'profile_text_color',\n",
       "       'profile_use_background_image', 'user_screen_name', 'statuses_count',\n",
       "       'verified', 'user_name', 'place_names', 'place_ids', 'sources',\n",
       "       'created_time'],\n",
       "      dtype='object')"
      ]
     },
     "execution_count": 5,
     "metadata": {},
     "output_type": "execute_result"
    }
   ],
   "source": [
    "df.columns"
   ]
  },
  {
   "cell_type": "code",
   "execution_count": null,
   "metadata": {},
   "outputs": [],
   "source": []
  },
  {
   "cell_type": "code",
   "execution_count": 14,
   "metadata": {},
   "outputs": [
    {
     "data": {
      "application/json": {
       "contributors": null,
       "coordinates": null,
       "created_at": "Mon Feb 11 12:39:50 +0000 2019",
       "entities": {
        "hashtags": [],
        "symbols": [],
        "urls": [
         {
          "display_url": "twitter.com/i/web/status/1…",
          "expanded_url": "https://twitter.com/i/web/status/1094939063495335937",
          "indices": [
           109,
           132
          ],
          "url": "https://t.co/5jdZ4cZr29"
         }
        ],
        "user_mentions": [
         {
          "id": 603155306,
          "id_str": "603155306",
          "indices": [
           67,
           79
          ],
          "name": "Steve Keeley",
          "screen_name": "KeeleyFox29"
         },
         {
          "id": 14787713,
          "id_str": "14787713",
          "indices": [
           95,
           107
          ],
          "name": "FOX 29",
          "screen_name": "FOX29philly"
         }
        ]
       },
       "favorite_count": 218,
       "favorited": false,
       "geo": null,
       "id": 1094939063495336000,
       "id_str": "1094939063495335937",
       "in_reply_to_screen_name": null,
       "in_reply_to_status_id": null,
       "in_reply_to_status_id_str": null,
       "in_reply_to_user_id": null,
       "in_reply_to_user_id_str": null,
       "is_quote_status": false,
       "lang": "en",
       "place": {
        "attributes": {},
        "bounding_box": {
         "coordinates": [
          [
           [
            -80.519851,
            39.719801
           ],
           [
            -74.689517,
            39.719801
           ],
           [
            -74.689517,
            42.516072
           ],
           [
            -80.519851,
            42.516072
           ]
          ]
         ],
         "type": "Polygon"
        },
        "contained_within": [],
        "country": "United States",
        "country_code": "US",
        "full_name": "Pennsylvania, USA",
        "id": "dd9c503d6c35364b",
        "name": "Pennsylvania",
        "place_type": "admin",
        "url": "https://api.twitter.com/1.1/geo/id/dd9c503d6c35364b.json"
       },
       "possibly_sensitive": false,
       "possibly_sensitive_appealable": false,
       "retweet_count": 54,
       "retweeted": false,
       "source": "<a href=\"http://twitter.com/download/iphone\" rel=\"nofollow\">Twitter for iPhone</a>",
       "text": "No matter how many times we do snow coverage NOTHING will ever top @KeeleyFox29 vs a snowplow! @FOX29philly… https://t.co/5jdZ4cZr29",
       "truncated": true,
       "user": {
        "contributors_enabled": false,
        "created_at": "Wed Jun 25 00:00:47 +0000 2008",
        "default_profile": false,
        "default_profile_image": false,
        "description": "@Fox29Philly #ForGoodnessSake reporter/host. It's my passion to find people making a difference in society & tell their story! Bill.Anderson@FoxTV.com",
        "entities": {
         "description": {
          "urls": []
         },
         "url": {
          "urls": [
           {
            "display_url": "m.facebook.com/BillAndersonFo…",
            "expanded_url": "https://m.facebook.com/BillAndersonFox29",
            "indices": [
             0,
             23
            ],
            "url": "https://t.co/YJZzvyqYhd"
           }
          ]
         }
        },
        "favourites_count": 4315,
        "follow_request_sent": false,
        "followers_count": 8485,
        "following": false,
        "friends_count": 3375,
        "geo_enabled": true,
        "has_extended_profile": false,
        "id": 15225605,
        "id_str": "15225605",
        "is_translation_enabled": false,
        "is_translator": false,
        "lang": "en",
        "listed_count": 330,
        "location": "Philadelphia, PA",
        "name": "Bill Anderson",
        "notifications": false,
        "profile_background_color": "041D1E",
        "profile_background_image_url": "http://abs.twimg.com/images/themes/theme1/bg.png",
        "profile_background_image_url_https": "https://abs.twimg.com/images/themes/theme1/bg.png",
        "profile_background_tile": false,
        "profile_banner_url": "https://pbs.twimg.com/profile_banners/15225605/1524666911",
        "profile_image_url": "http://pbs.twimg.com/profile_images/961191745529810944/3uiLHwoR_normal.jpg",
        "profile_image_url_https": "https://pbs.twimg.com/profile_images/961191745529810944/3uiLHwoR_normal.jpg",
        "profile_link_color": "648E9C",
        "profile_sidebar_border_color": "FFFFFF",
        "profile_sidebar_fill_color": "F2F6F7",
        "profile_text_color": "5C3809",
        "profile_use_background_image": true,
        "protected": false,
        "screen_name": "BillAFox29",
        "statuses_count": 33656,
        "time_zone": null,
        "translator_type": "none",
        "url": "https://t.co/YJZzvyqYhd",
        "utc_offset": null,
        "verified": true
       }
      },
      "text/plain": [
       "<IPython.core.display.JSON object>"
      ]
     },
     "execution_count": 14,
     "metadata": {
      "application/json": {
       "expanded": false,
       "root": "root"
      }
     },
     "output_type": "execute_result"
    }
   ],
   "source": [
    "ViewTweet('1094939063495335937',11,1,5)"
   ]
  },
  {
   "cell_type": "code",
   "execution_count": null,
   "metadata": {},
   "outputs": [],
   "source": [
    "ViewTweet('1094938192690757633',11,1,5)"
   ]
  },
  {
   "cell_type": "code",
   "execution_count": null,
   "metadata": {},
   "outputs": [],
   "source": [
    "df['entities'].tolist()"
   ]
  },
  {
   "cell_type": "code",
   "execution_count": null,
   "metadata": {},
   "outputs": [],
   "source": [
    "ViewUser('15225605',11,1,call=5)"
   ]
  },
  {
   "cell_type": "code",
   "execution_count": null,
   "metadata": {},
   "outputs": [],
   "source": []
  },
  {
   "cell_type": "code",
   "execution_count": null,
   "metadata": {},
   "outputs": [],
   "source": [
    "'''\n",
    "Testing here to extract features.\n",
    "Pass subset of df. Most aren;t working\n",
    "\n",
    "DetInflInt converts a set of intervals to a single tweet. It is called from inside GetFeatureSet. \n",
    "GetFeatureSet mostly handles text right now.\n",
    ",'hashtags','favorite_count','retweet_count','call',\n",
    "''' \n",
    "\n",
    "columns = ['id_str','hashtags','text','call','favorite_count','retweet_count','followers_count','friends_count','sources']\n",
    "\n",
    "# influencers = DetermineInfluenceInterval(df[columns])\n",
    "# features = GetFeatureSet(df[columns])\n",
    "features = DetermineInfluenceInterval(df)\n",
    "\n",
    "# features.head()\n",
    "\n",
    "\n"
   ]
  },
  {
   "cell_type": "code",
   "execution_count": null,
   "metadata": {},
   "outputs": [],
   "source": []
  },
  {
   "cell_type": "code",
   "execution_count": null,
   "metadata": {},
   "outputs": [],
   "source": [
    "'''\n",
    "Weights\n",
    "\n",
    "'favorite_count': .2,\n",
    " 'retweet_count': .4,\n",
    "'friends_count': .1,\n",
    "'followers_count': .1\n",
    "                #     # 'statuses_count': .1,\n",
    "                #     # 'listed_count': .1\n",
    "'''\n",
    "features.head()"
   ]
  },
  {
   "cell_type": "code",
   "execution_count": null,
   "metadata": {},
   "outputs": [],
   "source": [
    "from sklearn.naive_bayes import MultinomialNB"
   ]
  },
  {
   "cell_type": "code",
   "execution_count": null,
   "metadata": {},
   "outputs": [],
   "source": [
    "from sklearn.feature_extraction import DictVectorizer"
   ]
  },
  {
   "cell_type": "code",
   "execution_count": null,
   "metadata": {},
   "outputs": [],
   "source": [
    "from sklearn.model_selection import train_test_split"
   ]
  },
  {
   "cell_type": "code",
   "execution_count": null,
   "metadata": {},
   "outputs": [],
   "source": [
    "from sklearn.preprocessing import LabelEncoder\n",
    "# le = LabelEncoder()\n",
    "# le.fit(labels)\n",
    "# labels = le.transform(labels)"
   ]
  },
  {
   "cell_type": "code",
   "execution_count": null,
   "metadata": {},
   "outputs": [],
   "source": [
    "'''\n",
    "Get labels\n",
    "'''\n",
    "labels = np.asarray(features.max_interval)\n",
    "labels"
   ]
  },
  {
   "cell_type": "code",
   "execution_count": null,
   "metadata": {},
   "outputs": [],
   "source": [
    "'''\n",
    "Put cols in new df\n",
    "'''\n",
    "cols = ['favorite_count','retweet_count','max_interval','followers_count','friends_count','sources']\n",
    "\n",
    "df_selected = features\n",
    "df_selected.head()"
   ]
  },
  {
   "cell_type": "code",
   "execution_count": null,
   "metadata": {},
   "outputs": [],
   "source": [
    "'''\n",
    "Make dicts for features\n",
    "'''\n",
    "df_features = df_selected.to_dict(orient='records')"
   ]
  },
  {
   "cell_type": "code",
   "execution_count": null,
   "metadata": {},
   "outputs": [],
   "source": [
    "df_features"
   ]
  },
  {
   "cell_type": "code",
   "execution_count": null,
   "metadata": {},
   "outputs": [],
   "source": [
    "'''\n",
    "Vectorize dicts \n",
    "'''\n",
    "vec = DictVectorizer()\n",
    "features = vec.fit_transform(df_features).toarray()"
   ]
  },
  {
   "cell_type": "code",
   "execution_count": null,
   "metadata": {},
   "outputs": [],
   "source": [
    "'''\n",
    "Divide up the data into a test and a training set\n",
    "'''\n",
    "features_train, features_test, labels_train, labels_test = train_test_split(features, labels,test_size=0.20, random_state=42)"
   ]
  },
  {
   "cell_type": "code",
   "execution_count": null,
   "metadata": {},
   "outputs": [],
   "source": [
    "'''\n",
    "Choose classifier and train\n",
    "'''\n",
    "clf = MultinomialNB()\n",
    "clf.fit(features_train, labels_train)"
   ]
  },
  {
   "cell_type": "code",
   "execution_count": null,
   "metadata": {},
   "outputs": [],
   "source": [
    "'''\n",
    "Test accuracy\n",
    "'''\n",
    "acc_test = clf.score(features_test, labels_test)\n",
    "acc_test"
   ]
  },
  {
   "cell_type": "code",
   "execution_count": null,
   "metadata": {},
   "outputs": [],
   "source": [
    "weights = {\n",
    "    'favorite_count': .2,\n",
    "    'retweet_count': .4,\n",
    "    'friends_count': .1,\n",
    "    'followers_count': .1,\n",
    "    'statuses_count': .1,\n",
    "    'listed_count': .1\n",
    "}\n",
    "\n",
    "for key,value in weights.items():\n",
    "    print(key,value)"
   ]
  },
  {
   "cell_type": "code",
   "execution_count": null,
   "metadata": {},
   "outputs": [],
   "source": []
  }
 ],
 "metadata": {
  "kernelspec": {
   "display_name": "Python 3",
   "language": "python",
   "name": "python3"
  },
  "language_info": {
   "codemirror_mode": {
    "name": "ipython",
    "version": 3
   },
   "file_extension": ".py",
   "mimetype": "text/x-python",
   "name": "python",
   "nbconvert_exporter": "python",
   "pygments_lexer": "ipython3",
   "version": "3.6.8"
  }
 },
 "nbformat": 4,
 "nbformat_minor": 2
}
