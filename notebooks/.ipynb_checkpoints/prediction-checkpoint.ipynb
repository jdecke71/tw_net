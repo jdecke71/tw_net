{
 "cells": [
  {
   "cell_type": "markdown",
   "metadata": {},
   "source": [
    "## Prediction\n",
    "---\n",
    "\n",
    "#### Import files"
   ]
  },
  {
   "cell_type": "code",
   "execution_count": 13,
   "metadata": {},
   "outputs": [],
   "source": [
    "%run -i '../scripts/tw_net_prediction.py'"
   ]
  },
  {
   "cell_type": "markdown",
   "metadata": {},
   "source": [
    "#### Load Data"
   ]
  },
  {
   "cell_type": "code",
   "execution_count": 29,
   "metadata": {},
   "outputs": [
    {
     "data": {
      "text/html": [
       "<div>\n",
       "<style scoped>\n",
       "    .dataframe tbody tr th:only-of-type {\n",
       "        vertical-align: middle;\n",
       "    }\n",
       "\n",
       "    .dataframe tbody tr th {\n",
       "        vertical-align: top;\n",
       "    }\n",
       "\n",
       "    .dataframe thead th {\n",
       "        text-align: right;\n",
       "    }\n",
       "</style>\n",
       "<table border=\"1\" class=\"dataframe\">\n",
       "  <thead>\n",
       "    <tr style=\"text-align: right;\">\n",
       "      <th></th>\n",
       "      <th>created_hr</th>\n",
       "      <th>user_since</th>\n",
       "      <th>num_tags</th>\n",
       "      <th>num_media</th>\n",
       "      <th>num_symbols</th>\n",
       "      <th>num_urls</th>\n",
       "      <th>num_user_mentions</th>\n",
       "      <th>influence_interval</th>\n",
       "      <th>isVerified</th>\n",
       "      <th>isReply</th>\n",
       "      <th>...</th>\n",
       "      <th>('asshole', 'every', 'room', 'look')</th>\n",
       "      <th>('every', 'room', 'look', 'around')</th>\n",
       "      <th>('room', 'look', 'around', 'see')</th>\n",
       "      <th>('look', 'around', 'see', 'one')</th>\n",
       "      <th>('around', 'see', 'one', 'asshole')</th>\n",
       "      <th>('ewarren', 'girl')</th>\n",
       "      <th>('girl', 'saying')</th>\n",
       "      <th>('ewarren', 'girl', 'saying')</th>\n",
       "      <th>ewar</th>\n",
       "      <th>warr</th>\n",
       "    </tr>\n",
       "  </thead>\n",
       "  <tbody>\n",
       "    <tr>\n",
       "      <th>4225</th>\n",
       "      <td>14</td>\n",
       "      <td>6</td>\n",
       "      <td>0</td>\n",
       "      <td>0</td>\n",
       "      <td>0</td>\n",
       "      <td>0</td>\n",
       "      <td>1</td>\n",
       "      <td>4</td>\n",
       "      <td>0</td>\n",
       "      <td>1</td>\n",
       "      <td>...</td>\n",
       "      <td>0</td>\n",
       "      <td>0</td>\n",
       "      <td>0</td>\n",
       "      <td>0</td>\n",
       "      <td>0</td>\n",
       "      <td>0</td>\n",
       "      <td>0</td>\n",
       "      <td>0</td>\n",
       "      <td>0</td>\n",
       "      <td>0</td>\n",
       "    </tr>\n",
       "    <tr>\n",
       "      <th>621</th>\n",
       "      <td>16</td>\n",
       "      <td>3</td>\n",
       "      <td>9</td>\n",
       "      <td>0</td>\n",
       "      <td>0</td>\n",
       "      <td>1</td>\n",
       "      <td>0</td>\n",
       "      <td>4</td>\n",
       "      <td>0</td>\n",
       "      <td>1</td>\n",
       "      <td>...</td>\n",
       "      <td>0</td>\n",
       "      <td>0</td>\n",
       "      <td>0</td>\n",
       "      <td>0</td>\n",
       "      <td>0</td>\n",
       "      <td>0</td>\n",
       "      <td>0</td>\n",
       "      <td>0</td>\n",
       "      <td>0</td>\n",
       "      <td>0</td>\n",
       "    </tr>\n",
       "    <tr>\n",
       "      <th>738</th>\n",
       "      <td>18</td>\n",
       "      <td>8</td>\n",
       "      <td>0</td>\n",
       "      <td>0</td>\n",
       "      <td>0</td>\n",
       "      <td>1</td>\n",
       "      <td>0</td>\n",
       "      <td>4</td>\n",
       "      <td>0</td>\n",
       "      <td>1</td>\n",
       "      <td>...</td>\n",
       "      <td>0</td>\n",
       "      <td>0</td>\n",
       "      <td>0</td>\n",
       "      <td>0</td>\n",
       "      <td>0</td>\n",
       "      <td>0</td>\n",
       "      <td>0</td>\n",
       "      <td>0</td>\n",
       "      <td>0</td>\n",
       "      <td>0</td>\n",
       "    </tr>\n",
       "    <tr>\n",
       "      <th>2621</th>\n",
       "      <td>12</td>\n",
       "      <td>8</td>\n",
       "      <td>1</td>\n",
       "      <td>1</td>\n",
       "      <td>0</td>\n",
       "      <td>0</td>\n",
       "      <td>2</td>\n",
       "      <td>4</td>\n",
       "      <td>0</td>\n",
       "      <td>1</td>\n",
       "      <td>...</td>\n",
       "      <td>0</td>\n",
       "      <td>0</td>\n",
       "      <td>0</td>\n",
       "      <td>0</td>\n",
       "      <td>0</td>\n",
       "      <td>0</td>\n",
       "      <td>0</td>\n",
       "      <td>0</td>\n",
       "      <td>0</td>\n",
       "      <td>0</td>\n",
       "    </tr>\n",
       "    <tr>\n",
       "      <th>4982</th>\n",
       "      <td>14</td>\n",
       "      <td>1</td>\n",
       "      <td>0</td>\n",
       "      <td>0</td>\n",
       "      <td>0</td>\n",
       "      <td>0</td>\n",
       "      <td>0</td>\n",
       "      <td>4</td>\n",
       "      <td>0</td>\n",
       "      <td>1</td>\n",
       "      <td>...</td>\n",
       "      <td>0</td>\n",
       "      <td>0</td>\n",
       "      <td>0</td>\n",
       "      <td>0</td>\n",
       "      <td>0</td>\n",
       "      <td>0</td>\n",
       "      <td>0</td>\n",
       "      <td>0</td>\n",
       "      <td>0</td>\n",
       "      <td>0</td>\n",
       "    </tr>\n",
       "  </tbody>\n",
       "</table>\n",
       "<p>5 rows × 29159 columns</p>\n",
       "</div>"
      ],
      "text/plain": [
       "      created_hr  user_since  num_tags  num_media  num_symbols  num_urls  \\\n",
       "4225          14           6         0          0            0         0   \n",
       "621           16           3         9          0            0         1   \n",
       "738           18           8         0          0            0         1   \n",
       "2621          12           8         1          1            0         0   \n",
       "4982          14           1         0          0            0         0   \n",
       "\n",
       "      num_user_mentions  influence_interval  isVerified  isReply  ...   \\\n",
       "4225                  1                   4           0        1  ...    \n",
       "621                   0                   4           0        1  ...    \n",
       "738                   0                   4           0        1  ...    \n",
       "2621                  2                   4           0        1  ...    \n",
       "4982                  0                   4           0        1  ...    \n",
       "\n",
       "      ('asshole', 'every', 'room', 'look')  \\\n",
       "4225                                     0   \n",
       "621                                      0   \n",
       "738                                      0   \n",
       "2621                                     0   \n",
       "4982                                     0   \n",
       "\n",
       "      ('every', 'room', 'look', 'around')  ('room', 'look', 'around', 'see')  \\\n",
       "4225                                    0                                  0   \n",
       "621                                     0                                  0   \n",
       "738                                     0                                  0   \n",
       "2621                                    0                                  0   \n",
       "4982                                    0                                  0   \n",
       "\n",
       "      ('look', 'around', 'see', 'one')  ('around', 'see', 'one', 'asshole')  \\\n",
       "4225                                 0                                    0   \n",
       "621                                  0                                    0   \n",
       "738                                  0                                    0   \n",
       "2621                                 0                                    0   \n",
       "4982                                 0                                    0   \n",
       "\n",
       "      ('ewarren', 'girl')  ('girl', 'saying')  ('ewarren', 'girl', 'saying')  \\\n",
       "4225                    0                   0                              0   \n",
       "621                     0                   0                              0   \n",
       "738                     0                   0                              0   \n",
       "2621                    0                   0                              0   \n",
       "4982                    0                   0                              0   \n",
       "\n",
       "      ewar  warr  \n",
       "4225     0     0  \n",
       "621      0     0  \n",
       "738      0     0  \n",
       "2621     0     0  \n",
       "4982     0     0  \n",
       "\n",
       "[5 rows x 29159 columns]"
      ]
     },
     "execution_count": 29,
     "metadata": {},
     "output_type": "execute_result"
    }
   ],
   "source": [
    "'''\n",
    "Read CSV for a target into a dataframe \n",
    "''' \n",
    "filename = '../data/models/test_25_nw_nr.csv'\n",
    "featureSet = pd.read_csv(filename,index_col='Unnamed: 0')\n",
    "featureSet.head()"
   ]
  },
  {
   "cell_type": "code",
   "execution_count": null,
   "metadata": {},
   "outputs": [],
   "source": []
  },
  {
   "cell_type": "markdown",
   "metadata": {},
   "source": [
    "#### Create, fit,and score classifiers"
   ]
  },
  {
   "cell_type": "code",
   "execution_count": 34,
   "metadata": {},
   "outputs": [],
   "source": [
    "features,labels = GetFeaturesLabels(featureSet,'isVerified')"
   ]
  },
  {
   "cell_type": "code",
   "execution_count": 38,
   "metadata": {},
   "outputs": [],
   "source": [
    "# Singleclass\n",
    "gaussian = {'classifier_name':'B Gaussian','classifier_func': GaussianNB()}\n",
    "\n",
    "# Multiclass \n",
    "bayes = {'classifier_name':'MNB','classifier_func': MultinomialNB()}\n",
    "svm = {'classifier_name':'SVC','classifier_func': SVC(gamma='auto', decision_function_shape='ovo')}\n",
    "neighbors = {'classifier_name':'KNN','classifier_func': KNeighborsClassifier(n_neighbors=4)}\n",
    "\n",
    "classifiers = [bayes,svm,neighbors]"
   ]
  },
  {
   "cell_type": "code",
   "execution_count": 35,
   "metadata": {},
   "outputs": [
    {
     "name": "stdout",
     "output_type": "stream",
     "text": [
      "Classifier \t Score\n",
      "------------------------------------\n",
      "B Gaussian \t \t 0.9884393063583815\n"
     ]
    }
   ],
   "source": [
    "FitAndScore(features,labels,classifiers)"
   ]
  },
  {
   "cell_type": "code",
   "execution_count": null,
   "metadata": {},
   "outputs": [],
   "source": []
  },
  {
   "cell_type": "code",
   "execution_count": 36,
   "metadata": {},
   "outputs": [],
   "source": [
    "features,labels = GetFeaturesLabels(featureSet,'user_since')"
   ]
  },
  {
   "cell_type": "code",
   "execution_count": 39,
   "metadata": {},
   "outputs": [
    {
     "name": "stdout",
     "output_type": "stream",
     "text": [
      "Classifier \t Score\n",
      "------------------------------------\n",
      "MNB \t \t 0.32947976878612717\n",
      "SVC \t \t 0.18497109826589594\n",
      "KNN \t \t 0.2832369942196532\n"
     ]
    }
   ],
   "source": [
    "FitAndScore(features,labels,classifiers)"
   ]
  },
  {
   "cell_type": "code",
   "execution_count": null,
   "metadata": {},
   "outputs": [],
   "source": []
  }
 ],
 "metadata": {
  "kernelspec": {
   "display_name": "Python 3",
   "language": "python",
   "name": "python3"
  },
  "language_info": {
   "codemirror_mode": {
    "name": "ipython",
    "version": 3
   },
   "file_extension": ".py",
   "mimetype": "text/x-python",
   "name": "python",
   "nbconvert_exporter": "python",
   "pygments_lexer": "ipython3",
   "version": "3.6.8"
  }
 },
 "nbformat": 4,
 "nbformat_minor": 2
}
