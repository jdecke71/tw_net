{
 "cells": [
  {
   "cell_type": "markdown",
   "metadata": {},
   "source": [
    "## Prediction\n",
    "---\n",
    "\n",
    "#### Import files"
   ]
  },
  {
   "cell_type": "code",
   "execution_count": 1,
   "metadata": {},
   "outputs": [],
   "source": [
    "%run -i '../scripts/tw_net_prediction.py'"
   ]
  },
  {
   "cell_type": "code",
   "execution_count": 3,
   "metadata": {},
   "outputs": [],
   "source": [
    "'''\n",
    "Classifiers\n",
    "'''\n",
    "# Singleclass\n",
    "gaussian = {'classifier_name':'B Gaussian','classifier_func': GaussianNB()}\n",
    "\n",
    "# Multiclass \n",
    "MNB = {'classifier_name':'MNB','classifier_func': MultinomialNB()}\n",
    "SVC = {'classifier_name':'SVC','classifier_func': SVC(gamma='auto', decision_function_shape='ovo')}\n",
    "KNN = {'classifier_name':'KNN','classifier_func': KNeighborsClassifier(n_neighbors=4)}\n"
   ]
  },
  {
   "cell_type": "code",
   "execution_count": 4,
   "metadata": {},
   "outputs": [],
   "source": [
    "'''\n",
    "Regressors\n",
    "'''\n",
    "DTR = {'regressor_name':'DTR','regressor_func': DecisionTreeRegressor(random_state=0)}\n",
    "LVR = {'regressor_name':'LVR','regressor_func': svm.LinearSVR()}\n",
    "LNR = {'regressor_name':'LNR','regressor_func': LinearRegression()}\n"
   ]
  },
  {
   "cell_type": "markdown",
   "metadata": {},
   "source": [
    "#### Load & Split Data"
   ]
  },
  {
   "cell_type": "code",
   "execution_count": 5,
   "metadata": {},
   "outputs": [
    {
     "name": "stdout",
     "output_type": "stream",
     "text": [
      "filename: ../data/models/wk1_25_ww_nr_wt.csv\n"
     ]
    }
   ],
   "source": [
    "df = file_io.ReadCSV('wk1_25_ww_nr_wt')"
   ]
  },
  {
   "cell_type": "code",
   "execution_count": null,
   "metadata": {},
   "outputs": [],
   "source": [
    "df.columns"
   ]
  },
  {
   "cell_type": "code",
   "execution_count": 6,
   "metadata": {},
   "outputs": [],
   "source": [
    "interval = df.drop(columns=['influence_score', 'favorite_count', 'retweet_count'])"
   ]
  },
  {
   "cell_type": "code",
   "execution_count": 8,
   "metadata": {},
   "outputs": [],
   "source": [
    "score = df.drop(columns=['influence_interval', 'favorite_count', 'retweet_count'])"
   ]
  },
  {
   "cell_type": "markdown",
   "metadata": {},
   "source": [
    "### Run "
   ]
  },
  {
   "cell_type": "code",
   "execution_count": 7,
   "metadata": {},
   "outputs": [
    {
     "name": "stdout",
     "output_type": "stream",
     "text": [
      "Classifier \t Score \t \t accuracy\n",
      "-----------------------------------------------------------------\n",
      "MNB \t \t 0.28 \t \t 0.35\t0.32\t0.41\t\n",
      "\n",
      "\n",
      "MNB Confusion Matrix\n",
      "[[ 0  4  3  4  7]\n",
      " [ 2  6  3  6  6]\n",
      " [ 0  8  4  6 10]\n",
      " [ 0 11  4  8 14]\n",
      " [ 0 18  7 12 30]]\n",
      "\n",
      "\n",
      "Classifier \t Score \t \t accuracy\n",
      "-----------------------------------------------------------------\n",
      "SVC \t \t 0.37 \t \t 0.25\t0.35\t0.39\t\n",
      "\n",
      "\n",
      "SVC Confusion Matrix\n",
      "[[ 0  0  0  3 15]\n",
      " [ 0  0  0 11 12]\n",
      " [ 0  1  0  7 20]\n",
      " [ 0  0  0 14 23]\n",
      " [ 0  0  2 15 50]]\n",
      "\n",
      "\n",
      "Classifier \t Score \t \t accuracy\n",
      "-----------------------------------------------------------------\n",
      "KNN \t \t 0.27 \t \t 0.18\t0.32\t0.23\t\n",
      "\n",
      "\n",
      "KNN Confusion Matrix\n",
      "[[ 1  4  2  4  7]\n",
      " [ 3  7  0  5  8]\n",
      " [ 2  4  2 12  8]\n",
      " [ 1  9  7 11  9]\n",
      " [ 8 11  5 18 25]]\n",
      "\n",
      "\n"
     ]
    }
   ],
   "source": [
    "features,labels = GetFeaturesLabels(interval,'influence_interval')\n",
    "    \n",
    "classifiers = [MNB,SVC,KNN]\n",
    "    \n",
    "FitAndScoreCLA(features,labels,classifiers,testSize=0.20)"
   ]
  },
  {
   "cell_type": "code",
   "execution_count": 9,
   "metadata": {},
   "outputs": [
    {
     "name": "stdout",
     "output_type": "stream",
     "text": [
      "Regressor \t Score \t \t accuracy\n",
      "-----------------------------------------------------------------\n",
      "DTR \t \t 0.99 \t \t 0.98\t0.62\t0.49\t\n"
     ]
    },
    {
     "name": "stderr",
     "output_type": "stream",
     "text": [
      "/Users/jessedecker/miniconda3/envs/gis/lib/python3.6/site-packages/sklearn/svm/base.py:922: ConvergenceWarning: Liblinear failed to converge, increase the number of iterations.\n",
      "  \"the number of iterations.\", ConvergenceWarning)\n",
      "/Users/jessedecker/miniconda3/envs/gis/lib/python3.6/site-packages/sklearn/svm/base.py:922: ConvergenceWarning: Liblinear failed to converge, increase the number of iterations.\n",
      "  \"the number of iterations.\", ConvergenceWarning)\n",
      "/Users/jessedecker/miniconda3/envs/gis/lib/python3.6/site-packages/sklearn/svm/base.py:922: ConvergenceWarning: Liblinear failed to converge, increase the number of iterations.\n",
      "  \"the number of iterations.\", ConvergenceWarning)\n",
      "/Users/jessedecker/miniconda3/envs/gis/lib/python3.6/site-packages/sklearn/svm/base.py:922: ConvergenceWarning: Liblinear failed to converge, increase the number of iterations.\n",
      "  \"the number of iterations.\", ConvergenceWarning)\n"
     ]
    },
    {
     "name": "stdout",
     "output_type": "stream",
     "text": [
      "LVR \t \t 0.99 \t \t 0.97\t1.00\t1.00\t\n",
      "LNR \t \t 1.00 \t \t 1.00\t1.00\t1.00\t\n"
     ]
    }
   ],
   "source": [
    "features,labels = GetFeaturesLabels(score,'influence_score')\n",
    "\n",
    "regressors = [DTR,LVR,LNR]\n",
    "\n",
    "FitAndScoreREG(features,labels,regressors,testSize=0.20)"
   ]
  },
  {
   "cell_type": "code",
   "execution_count": null,
   "metadata": {},
   "outputs": [],
   "source": []
  }
 ],
 "metadata": {
  "kernelspec": {
   "display_name": "Python 3",
   "language": "python",
   "name": "python3"
  },
  "language_info": {
   "codemirror_mode": {
    "name": "ipython",
    "version": 3
   },
   "file_extension": ".py",
   "mimetype": "text/x-python",
   "name": "python",
   "nbconvert_exporter": "python",
   "pygments_lexer": "ipython3",
   "version": "3.6.8"
  }
 },
 "nbformat": 4,
 "nbformat_minor": 2
}
