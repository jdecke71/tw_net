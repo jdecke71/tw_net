{
 "cells": [
  {
   "cell_type": "code",
   "execution_count": 1,
   "metadata": {},
   "outputs": [],
   "source": [
    "%run -i '../scripts/tw_net_cleaning.py'"
   ]
  },
  {
   "cell_type": "code",
   "execution_count": 2,
   "metadata": {},
   "outputs": [],
   "source": [
    "%run -i '../scripts/tw_net_analysis.py'"
   ]
  },
  {
   "cell_type": "markdown",
   "metadata": {},
   "source": [
    "---"
   ]
  },
  {
   "cell_type": "code",
   "execution_count": null,
   "metadata": {},
   "outputs": [],
   "source": [
    "'''\n",
    "Enter combination for statuses to include in dataframe.\n",
    "\n",
    "days ~ 11-19, previous are for testing\n",
    "sets = 1-6\n",
    "calls = 1-5\n",
    "'''\n",
    "days = [7]\n",
    "sets = [1,2,3,4,6]\n",
    "calls = [1,2,3,4,5]\n",
    "\n",
    "# df = GetDF(days,sets,calls,clean = False)\n",
    "df = StatusToDF(days,sets,calls,clean = False)\n",
    "\n",
    "df.head()\n"
   ]
  },
  {
   "cell_type": "code",
   "execution_count": null,
   "metadata": {},
   "outputs": [],
   "source": [
    "len(df.call)"
   ]
  },
  {
   "cell_type": "code",
   "execution_count": null,
   "metadata": {},
   "outputs": [],
   "source": [
    "clean = CleanText(df)\n",
    "tokens = ProcessTexts(clean)"
   ]
  },
  {
   "cell_type": "code",
   "execution_count": null,
   "metadata": {},
   "outputs": [],
   "source": [
    "len(tokens)"
   ]
  },
  {
   "cell_type": "code",
   "execution_count": null,
   "metadata": {},
   "outputs": [],
   "source": []
  },
  {
   "cell_type": "code",
   "execution_count": null,
   "metadata": {},
   "outputs": [],
   "source": []
  },
  {
   "cell_type": "code",
   "execution_count": null,
   "metadata": {},
   "outputs": [],
   "source": []
  },
  {
   "cell_type": "code",
   "execution_count": 23,
   "metadata": {},
   "outputs": [
    {
     "data": {
      "text/plain": [
       "150"
      ]
     },
     "execution_count": 23,
     "metadata": {},
     "output_type": "execute_result"
    }
   ],
   "source": [
    "len(tmp)"
   ]
  },
  {
   "cell_type": "code",
   "execution_count": null,
   "metadata": {},
   "outputs": [],
   "source": []
  },
  {
   "cell_type": "code",
   "execution_count": null,
   "metadata": {},
   "outputs": [],
   "source": []
  },
  {
   "cell_type": "code",
   "execution_count": null,
   "metadata": {},
   "outputs": [],
   "source": []
  },
  {
   "cell_type": "code",
   "execution_count": null,
   "metadata": {},
   "outputs": [],
   "source": []
  },
  {
   "cell_type": "code",
   "execution_count": 38,
   "metadata": {},
   "outputs": [],
   "source": [
    "'''\n",
    "Get replies to a user since a specific tweet.\n",
    "Loop through replies and count tweet_id_str matches to \n",
    "\n",
    "'''\n",
    "def GetReplies(params):\n",
    "\n",
    "    day_num = params['day']  \n",
    "    set_name = params['set']\n",
    "    call_num = params['call']\n",
    "\n",
    "    filename = GetFileName(day_num,set_name,call_num-1)\n",
    "    if filename != '':\n",
    "        # Add in sample data \n",
    "        status = file_io.ReadJSON(filename)\n",
    "#         print(len(status))\n",
    "        # Pass id get status  \n",
    "        pathToKey = '../resources/usr_auth.txt'\n",
    "        twit_api = twt_func.GetTwitterRest(pathToKey)\n",
    "#         replies = []\n",
    "        for tweet in status:\n",
    "            try:\n",
    "                query=\"to:\"+tweet['user']['id_str']\n",
    "                print('user:',query,'since:',tweet['id'])\n",
    "#                 reply = twit_api.search.tweets(q=query,sinceId=tweet['id_str'],count=100)\n",
    "#                 replies.append(reply)\n",
    "            except Exception as e:\n",
    "                print(e, file=sys.stderr)\n",
    "                print('Skipped tweet id:',tweet['id_str'])\n",
    "                continue\n",
    "\n",
    "#     count = 0\n",
    "#     for tweet in replies:\n",
    "#         if tweet['id_str'] == in_reply_to_status_id_str: \n",
    "#             count += 1\n",
    "#     = count\n",
    "\n",
    "    # Loop all the results , the results matching the in_reply_to_status_id_str to $tweetid is the replies for the post.\n",
    "      # needs file path  # \n",
    "    # filename = GetFileName(day_num,set_name,call_num)\n",
    "#     call_num +=1\n",
    "    # file_io.WriteJSON(replies,filename) \n",
    "#     print('Saved',len(replies),'replies to file.')\n",
    "    \n",
    "#     return replies"
   ]
  },
  {
   "cell_type": "code",
   "execution_count": 41,
   "metadata": {},
   "outputs": [],
   "source": [
    "replies = []\n",
    "pathToKey = '../resources/usr_auth.txt'\n",
    "twit_api = twt_func.GetTwitterRest(pathToKey)\n",
    "reply = twit_api.search.tweets(q='to:88697671',sinceId='1095038517640683520',count=100)\n",
    "replies.append(reply)"
   ]
  },
  {
   "cell_type": "code",
   "execution_count": 42,
   "metadata": {},
   "outputs": [
    {
     "data": {
      "text/plain": [
       "1"
      ]
     },
     "execution_count": 42,
     "metadata": {},
     "output_type": "execute_result"
    }
   ],
   "source": [
    "len(replies)"
   ]
  },
  {
   "cell_type": "code",
   "execution_count": 43,
   "metadata": {},
   "outputs": [
    {
     "data": {
      "text/plain": [
       "{'statuses': [],\n",
       " 'search_metadata': {'completed_in': 0.016,\n",
       "  'max_id': 1095293090334556165,\n",
       "  'max_id_str': '1095293090334556165',\n",
       "  'query': 'to%3A88697671',\n",
       "  'refresh_url': '?since_id=1095293090334556165&q=to%3A88697671&include_entities=1',\n",
       "  'count': 100,\n",
       "  'since_id': 0,\n",
       "  'since_id_str': '0'}}"
      ]
     },
     "execution_count": 43,
     "metadata": {},
     "output_type": "execute_result"
    }
   ],
   "source": [
    "replies[0]"
   ]
  },
  {
   "cell_type": "code",
   "execution_count": null,
   "metadata": {},
   "outputs": [],
   "source": []
  },
  {
   "cell_type": "code",
   "execution_count": 39,
   "metadata": {},
   "outputs": [
    {
     "name": "stdout",
     "output_type": "stream",
     "text": [
      "user: to:88697671 since: 1095038517640683520\n",
      "user: to:991674692 since: 1095038517984575489\n",
      "user: to:867438710 since: 1095038528315187202\n",
      "user: to:312585375 since: 1095038547986391041\n",
      "user: to:1085758175813328896 since: 1095038563278704640\n",
      "user: to:807413918586933248 since: 1095038576478355458\n",
      "user: to:25065878 since: 1095038591770787843\n",
      "user: to:86225756 since: 1095038593385537536\n",
      "user: to:873193460504965121 since: 1095038625971142656\n",
      "user: to:19665977 since: 1095038646963654656\n",
      "user: to:1017476820235685893 since: 1095038661186473984\n",
      "user: to:769405857759129600 since: 1095038661203247104\n",
      "user: to:426094633 since: 1095038668732010496\n",
      "user: to:362263217 since: 1095038697152675840\n",
      "user: to:887763971285110784 since: 1095038705750949890\n",
      "user: to:172634410 since: 1095038769743446016\n",
      "user: to:159577376 since: 1095038771429601281\n",
      "user: to:5992182 since: 1095038774826975233\n",
      "user: to:887763971285110784 since: 1095038810017185799\n",
      "user: to:40712277 since: 1095038816971358210\n",
      "user: to:338649052 since: 1095038885883756544\n",
      "user: to:887763971285110784 since: 1095038908704931841\n",
      "user: to:362263217 since: 1095038929089245185\n",
      "user: to:882786454941904899 since: 1095038930112655360\n",
      "user: to:3457152197 since: 1095038930217508864\n",
      "user: to:807413918586933248 since: 1095038942288756737\n",
      "user: to:579429201 since: 1095038961909751809\n",
      "user: to:887763971285110784 since: 1095038973452394498\n",
      "user: to:887763971285110784 since: 1095039026145513474\n",
      "user: to:22076364 since: 1095039027525357568\n",
      "user: to:887763971285110784 since: 1095039043551854592\n",
      "user: to:1029916704309239810 since: 1095039072433856514\n",
      "user: to:887763971285110784 since: 1095039088028254208\n",
      "user: to:1085758175813328896 since: 1095039088044892161\n",
      "user: to:134180550 since: 1095039124434833409\n",
      "user: to:2616910636 since: 1095039127790194694\n",
      "user: to:887763971285110784 since: 1095039139718795264\n",
      "user: to:66464828 since: 1095039140205338624\n",
      "user: to:2883504400 since: 1095039164687532032\n",
      "user: to:887763971285110784 since: 1095039175685033985\n",
      "user: to:873193460504965121 since: 1095039202067124224\n",
      "user: to:1077603781506985984 since: 1095039213374980096\n",
      "user: to:383034824 since: 1095039240432431104\n",
      "user: to:159978329 since: 1095039257939464192\n",
      "user: to:887763971285110784 since: 1095039263824113664\n",
      "user: to:2848397891 since: 1095039306572460037\n",
      "user: to:887763971285110784 since: 1095039325245489153\n",
      "user: to:397767270 since: 1095039329334906888\n",
      "user: to:338649052 since: 1095039334942720001\n",
      "user: to:132982753 since: 1095039367817711616\n",
      "user: to:887763971285110784 since: 1095039369931620353\n",
      "user: to:887763971285110784 since: 1095039401590226944\n",
      "user: to:743109129452040192 since: 1095039419931873280\n",
      "user: to:1178909156 since: 1095039423316668431\n",
      "user: to:1085758175813328896 since: 1095039431713554432\n",
      "user: to:887763971285110784 since: 1095039448914579456\n",
      "user: to:311094810 since: 1095039456019656704\n",
      "user: to:887763971285110784 since: 1095039481692987392\n",
      "user: to:408917114 since: 1095039501397909504\n",
      "user: to:2359763258 since: 1095039509236985859\n",
      "user: to:1727077326 since: 1095039525859008515\n",
      "user: to:769405857759129600 since: 1095039529873014787\n",
      "user: to:868271566450286592 since: 1095039544590770176\n",
      "user: to:28255646 since: 1095039574311501824\n",
      "user: to:769405857759129600 since: 1095039688111505408\n",
      "user: to:822531350167109632 since: 1095039726053150721\n",
      "user: to:66464828 since: 1095039750510120960\n",
      "user: to:80722677 since: 1095039773268422658\n",
      "user: to:80722677 since: 1095039775659229184\n",
      "user: to:2742044315 since: 1095039780520423424\n",
      "user: to:397767270 since: 1095039887303208965\n",
      "user: to:39512124 since: 1095039890864197632\n",
      "user: to:888492943430086656 since: 1095039900318158850\n",
      "user: to:1085758175813328896 since: 1095039905065885697\n",
      "user: to:431038230 since: 1095039933067202560\n",
      "user: to:16592565 since: 1095039936762441734\n",
      "user: to:23347218 since: 1095039986922151936\n",
      "user: to:316059306 since: 1095040001509859329\n",
      "user: to:925144850948870144 since: 1095040035416694784\n",
      "user: to:36280819 since: 1095040047471050752\n",
      "user: to:873193460504965121 since: 1095040102059913216\n",
      "user: to:344371130 since: 1095040109353885696\n",
      "user: to:1093836512041619456 since: 1095040113678184450\n",
      "user: to:1077603781506985984 since: 1095040127808819200\n",
      "user: to:402362159 since: 1095040160448823296\n",
      "user: to:824364030060072960 since: 1095040172188672000\n",
      "user: to:1137944498 since: 1095040195496423425\n",
      "user: to:887763971285110784 since: 1095040197270622209\n",
      "user: to:3949452315 since: 1095040217269129216\n",
      "user: to:873193460504965121 since: 1095040218263097344\n",
      "user: to:21238185 since: 1095040263003590658\n",
      "user: to:759544992218095616 since: 1095040263460962307\n",
      "user: to:887763971285110784 since: 1095040280150061056\n",
      "user: to:27735275 since: 1095040322034376711\n",
      "user: to:887763971285110784 since: 1095040333455462400\n",
      "user: to:767813416333500416 since: 1095040339998580737\n",
      "user: to:1022254570683228160 since: 1095040391009714183\n",
      "user: to:1085758175813328896 since: 1095040395816259584\n",
      "user: to:2684222446 since: 1095040408512589824\n",
      "user: to:159978329 since: 1095040419627450368\n",
      "user: to:39512124 since: 1095040424862015492\n",
      "user: to:338649052 since: 1095040431262519302\n",
      "user: to:736066591 since: 1095040434160709633\n",
      "user: to:822531350167109632 since: 1095040451797757953\n",
      "user: to:887763971285110784 since: 1095040455912366087\n",
      "user: to:153925924 since: 1095040456369483777\n",
      "user: to:1559428015 since: 1095040459603349504\n",
      "user: to:426635241 since: 1095040495720501251\n",
      "user: to:888492943430086656 since: 1095040537273479168\n",
      "user: to:3354356027 since: 1095040545079152642\n",
      "user: to:217320158 since: 1095040549755777024\n",
      "user: to:28948324 since: 1095040550766592000\n",
      "user: to:292797404 since: 1095040565320794114\n",
      "user: to:746903356866600960 since: 1095040566767902720\n",
      "user: to:873193460504965121 since: 1095040568974032897\n",
      "user: to:887763971285110784 since: 1095040585457651712\n",
      "user: to:86225756 since: 1095040606483697665\n",
      "user: to:49804947 since: 1095040647927607297\n",
      "user: to:707867200300912640 since: 1095040656991498240\n",
      "user: to:782419328884932608 since: 1095040668781678593\n",
      "user: to:283089653 since: 1095040675383521280\n",
      "user: to:887763971285110784 since: 1095040683193315328\n",
      "user: to:823714106603696128 since: 1095040697374330881\n",
      "user: to:1085758175813328896 since: 1095040735064207360\n",
      "user: to:2290891120 since: 1095040739673866240\n",
      "user: to:28948324 since: 1095040750197321729\n",
      "user: to:951943808278847489 since: 1095040791813242881\n",
      "user: to:23347218 since: 1095040796443766784\n",
      "user: to:785626273896861696 since: 1095040800021512193\n",
      "user: to:1463726791 since: 1095040811853479936\n",
      "user: to:755433494 since: 1095040832393150464\n",
      "user: to:56184948 since: 1095040836151193601\n",
      "user: to:633079193 since: 1095040863393206273\n",
      "user: to:60065455 since: 1095040882666074112\n",
      "user: to:1022254570683228160 since: 1095040907475382277\n",
      "user: to:46482296 since: 1095040961846009856\n",
      "user: to:20991575 since: 1095040974022168576\n",
      "user: to:930108350 since: 1095040976442310662\n",
      "user: to:14836573 since: 1095040989306208257\n",
      "user: to:139486387 since: 1095040992204521472\n",
      "user: to:782419328884932608 since: 1095041018876084224\n",
      "user: to:36280819 since: 1095041043739877377\n",
      "user: to:873193460504965121 since: 1095041062404538373\n",
      "user: to:364001233 since: 1095041073414574081\n",
      "user: to:462576176 since: 1095041091521466368\n",
      "user: to:3123998021 since: 1095041138363375618\n",
      "user: to:2775440791 since: 1095041160547057665\n",
      "user: to:373107187 since: 1095041169015427077\n",
      "user: to:951943808278847489 since: 1095041189152243713\n",
      "user: to:2568981409 since: 1095041189777235968\n"
     ]
    }
   ],
   "source": [
    "params = {}\n",
    "params['day'] = 11 \n",
    "params['set']= 4\n",
    "params['call']= 2\n",
    "\n",
    "tmp = GetReplies(params)"
   ]
  },
  {
   "cell_type": "code",
   "execution_count": 29,
   "metadata": {},
   "outputs": [],
   "source": [
    "# for x in tmp:\n",
    "#     if len(x['statuses']) > 0:\n",
    "#         print(x)\n",
    "\n",
    "for x in tmp:\n",
    "    if x['statuses'] > 0:\n",
    "        print(x)"
   ]
  },
  {
   "cell_type": "code",
   "execution_count": 28,
   "metadata": {},
   "outputs": [
    {
     "data": {
      "application/json": [
       {
        "search_metadata": {
         "completed_in": 0.011,
         "count": 15,
         "max_id": 1095137861010108400,
         "max_id_str": "1095137861010108417",
         "query": "to%3A88697671",
         "refresh_url": "?since_id=1095137861010108417&q=to%3A88697671&include_entities=1",
         "since_id": 0,
         "since_id_str": "0"
        },
        "statuses": []
       },
       {
        "search_metadata": {
         "completed_in": 0.016,
         "count": 15,
         "max_id": 1095137861010108400,
         "max_id_str": "1095137861010108417",
         "query": "to%3A991674692",
         "refresh_url": "?since_id=1095137861010108417&q=to%3A991674692&include_entities=1",
         "since_id": 0,
         "since_id_str": "0"
        },
        "statuses": []
       },
       {
        "search_metadata": {
         "completed_in": 0.011,
         "count": 15,
         "max_id": 1095137863178612700,
         "max_id_str": "1095137863178612736",
         "query": "to%3A867438710",
         "refresh_url": "?since_id=1095137863178612736&q=to%3A867438710&include_entities=1",
         "since_id": 0,
         "since_id_str": "0"
        },
        "statuses": []
       },
       {
        "search_metadata": {
         "completed_in": 0.011,
         "count": 15,
         "max_id": 1095137863459590100,
         "max_id_str": "1095137863459590144",
         "query": "to%3A312585375",
         "refresh_url": "?since_id=1095137863459590144&q=to%3A312585375&include_entities=1",
         "since_id": 0,
         "since_id_str": "0"
        },
        "statuses": []
       },
       {
        "search_metadata": {
         "completed_in": 0.011,
         "count": 15,
         "max_id": 1095137864143097900,
         "max_id_str": "1095137864143097856",
         "query": "to%3A1085758175813328896",
         "refresh_url": "?since_id=1095137864143097856&q=to%3A1085758175813328896&include_entities=1",
         "since_id": 0,
         "since_id_str": "0"
        },
        "statuses": []
       },
       {
        "search_metadata": {
         "completed_in": 0.011,
         "count": 15,
         "max_id": 1095137864755695600,
         "max_id_str": "1095137864755695619",
         "query": "to%3A807413918586933248",
         "refresh_url": "?since_id=1095137864755695619&q=to%3A807413918586933248&include_entities=1",
         "since_id": 0,
         "since_id_str": "0"
        },
        "statuses": []
       },
       {
        "search_metadata": {
         "completed_in": 0.028,
         "count": 15,
         "max_id": 1095137866450124800,
         "max_id_str": "1095137866450124800",
         "query": "to%3A25065878",
         "refresh_url": "?since_id=1095137866450124800&q=to%3A25065878&include_entities=1",
         "since_id": 0,
         "since_id_str": "0"
        },
        "statuses": []
       },
       {
        "search_metadata": {
         "completed_in": 0.034,
         "count": 15,
         "max_id": 1095137866630475800,
         "max_id_str": "1095137866630475779",
         "query": "to%3A86225756",
         "refresh_url": "?since_id=1095137866630475779&q=to%3A86225756&include_entities=1",
         "since_id": 0,
         "since_id_str": "0"
        },
        "statuses": []
       },
       {
        "search_metadata": {
         "completed_in": 0.031,
         "count": 15,
         "max_id": 1095137866882129900,
         "max_id_str": "1095137866882129920",
         "query": "to%3A873193460504965121",
         "refresh_url": "?since_id=1095137866882129920&q=to%3A873193460504965121&include_entities=1",
         "since_id": 0,
         "since_id_str": "0"
        },
        "statuses": []
       },
       {
        "search_metadata": {
         "completed_in": 0.011,
         "count": 15,
         "max_id": 1095137868283080700,
         "max_id_str": "1095137868283080704",
         "query": "to%3A19665977",
         "refresh_url": "?since_id=1095137868283080704&q=to%3A19665977&include_entities=1",
         "since_id": 0,
         "since_id_str": "0"
        },
        "statuses": []
       },
       {
        "search_metadata": {
         "completed_in": 0.011,
         "count": 15,
         "max_id": 1095137869692371000,
         "max_id_str": "1095137869692370944",
         "query": "to%3A1017476820235685893",
         "refresh_url": "?since_id=1095137869692370944&q=to%3A1017476820235685893&include_entities=1",
         "since_id": 0,
         "since_id_str": "0"
        },
        "statuses": []
       },
       {
        "search_metadata": {
         "completed_in": 0.046,
         "count": 15,
         "max_id": 1095137870917054500,
         "max_id_str": "1095137870917054464",
         "query": "to%3A769405857759129600",
         "refresh_url": "?since_id=1095137870917054464&q=to%3A769405857759129600&include_entities=1",
         "since_id": 0,
         "since_id_str": "0"
        },
        "statuses": []
       },
       {
        "search_metadata": {
         "completed_in": 0.011,
         "count": 15,
         "max_id": 1095137872024297500,
         "max_id_str": "1095137872024297472",
         "query": "to%3A426094633",
         "refresh_url": "?since_id=1095137872024297472&q=to%3A426094633&include_entities=1",
         "since_id": 0,
         "since_id_str": "0"
        },
        "statuses": []
       },
       {
        "search_metadata": {
         "completed_in": 0.013,
         "count": 15,
         "max_id": 1095137872947044400,
         "max_id_str": "1095137872947044352",
         "query": "to%3A362263217",
         "refresh_url": "?since_id=1095137872947044352&q=to%3A362263217&include_entities=1",
         "since_id": 0,
         "since_id_str": "0"
        },
        "statuses": []
       },
       {
        "search_metadata": {
         "completed_in": 0.033,
         "count": 15,
         "max_id": 1095137873966305300,
         "max_id_str": "1095137873966305282",
         "query": "to%3A887763971285110784",
         "refresh_url": "?since_id=1095137873966305282&q=to%3A887763971285110784&include_entities=1",
         "since_id": 0,
         "since_id_str": "0"
        },
        "statuses": []
       },
       {
        "search_metadata": {
         "completed_in": 0.049,
         "count": 15,
         "max_id": 1095137874029219800,
         "max_id_str": "1095137874029219841",
         "query": "to%3A172634410",
         "refresh_url": "?since_id=1095137874029219841&q=to%3A172634410&include_entities=1",
         "since_id": 0,
         "since_id_str": "0"
        },
        "statuses": []
       },
       {
        "search_metadata": {
         "completed_in": 0.011,
         "count": 15,
         "max_id": 1095137874939396100,
         "max_id_str": "1095137874939396097",
         "query": "to%3A159577376",
         "refresh_url": "?since_id=1095137874939396097&q=to%3A159577376&include_entities=1",
         "since_id": 0,
         "since_id_str": "0"
        },
        "statuses": []
       },
       {
        "search_metadata": {
         "completed_in": 0.017,
         "count": 15,
         "max_id": 1095137874939396100,
         "max_id_str": "1095137874939396097",
         "query": "to%3A5992182",
         "refresh_url": "?since_id=1095137874939396097&q=to%3A5992182&include_entities=1",
         "since_id": 0,
         "since_id_str": "0"
        },
        "statuses": []
       },
       {
        "search_metadata": {
         "completed_in": 0.052,
         "count": 15,
         "max_id": 1095137873966305300,
         "max_id_str": "1095137873966305282",
         "query": "to%3A887763971285110784",
         "refresh_url": "?since_id=1095137873966305282&q=to%3A887763971285110784&include_entities=1",
         "since_id": 0,
         "since_id_str": "0"
        },
        "statuses": []
       },
       {
        "search_metadata": {
         "completed_in": 0.023,
         "count": 15,
         "max_id": 1095137877380513800,
         "max_id_str": "1095137877380513792",
         "query": "to%3A40712277",
         "refresh_url": "?since_id=1095137877380513792&q=to%3A40712277&include_entities=1",
         "since_id": 0,
         "since_id_str": "0"
        },
        "statuses": []
       },
       {
        "search_metadata": {
         "completed_in": 0.01,
         "count": 15,
         "max_id": 1095137878206632000,
         "max_id_str": "1095137878206631936",
         "query": "to%3A338649052",
         "refresh_url": "?since_id=1095137878206631936&q=to%3A338649052&include_entities=1",
         "since_id": 0,
         "since_id_str": "0"
        },
        "statuses": []
       },
       {
        "search_metadata": {
         "completed_in": 0.006,
         "count": 15,
         "max_id": 1095137873966305300,
         "max_id_str": "1095137873966305282",
         "query": "to%3A887763971285110784",
         "refresh_url": "?since_id=1095137873966305282&q=to%3A887763971285110784&include_entities=1",
         "since_id": 0,
         "since_id_str": "0"
        },
        "statuses": []
       },
       {
        "search_metadata": {
         "completed_in": 0.034,
         "count": 15,
         "max_id": 1095137872947044400,
         "max_id_str": "1095137872947044352",
         "query": "to%3A362263217",
         "refresh_url": "?since_id=1095137872947044352&q=to%3A362263217&include_entities=1",
         "since_id": 0,
         "since_id_str": "0"
        },
        "statuses": []
       },
       {
        "search_metadata": {
         "completed_in": 0.012,
         "count": 15,
         "max_id": 1095137881562251300,
         "max_id_str": "1095137881562251265",
         "query": "to%3A882786454941904899",
         "refresh_url": "?since_id=1095137881562251265&q=to%3A882786454941904899&include_entities=1",
         "since_id": 0,
         "since_id_str": "0"
        },
        "statuses": []
       },
       {
        "search_metadata": {
         "completed_in": 0.008,
         "count": 15,
         "max_id": 1095137882245746700,
         "max_id_str": "1095137882245746688",
         "query": "to%3A3457152197",
         "refresh_url": "?since_id=1095137882245746688&q=to%3A3457152197&include_entities=1",
         "since_id": 0,
         "since_id_str": "0"
        },
        "statuses": []
       },
       {
        "search_metadata": {
         "completed_in": 0.007,
         "count": 15,
         "max_id": 1095137864755695600,
         "max_id_str": "1095137864755695619",
         "query": "to%3A807413918586933248",
         "refresh_url": "?since_id=1095137864755695619&q=to%3A807413918586933248&include_entities=1",
         "since_id": 0,
         "since_id_str": "0"
        },
        "statuses": []
       },
       {
        "search_metadata": {
         "completed_in": 0.057,
         "count": 15,
         "max_id": 1095137883793559600,
         "max_id_str": "1095137883793559552",
         "query": "to%3A579429201",
         "refresh_url": "?since_id=1095137883793559552&q=to%3A579429201&include_entities=1",
         "since_id": 0,
         "since_id_str": "0"
        },
        "statuses": []
       },
       {
        "search_metadata": {
         "completed_in": 0.007,
         "count": 15,
         "max_id": 1095137873966305300,
         "max_id_str": "1095137873966305282",
         "query": "to%3A887763971285110784",
         "refresh_url": "?since_id=1095137873966305282&q=to%3A887763971285110784&include_entities=1",
         "since_id": 0,
         "since_id_str": "0"
        },
        "statuses": []
       },
       {
        "search_metadata": {
         "completed_in": 0.006,
         "count": 15,
         "max_id": 1095137873966305300,
         "max_id_str": "1095137873966305282",
         "query": "to%3A887763971285110784",
         "refresh_url": "?since_id=1095137873966305282&q=to%3A887763971285110784&include_entities=1",
         "since_id": 0,
         "since_id_str": "0"
        },
        "statuses": []
       },
       {
        "search_metadata": {
         "completed_in": 0.01,
         "count": 15,
         "max_id": 1095137886872186900,
         "max_id_str": "1095137886872186881",
         "query": "to%3A22076364",
         "refresh_url": "?since_id=1095137886872186881&q=to%3A22076364&include_entities=1",
         "since_id": 0,
         "since_id_str": "0"
        },
        "statuses": []
       },
       {
        "search_metadata": {
         "completed_in": 0.007,
         "count": 15,
         "max_id": 1095137873966305300,
         "max_id_str": "1095137873966305282",
         "query": "to%3A887763971285110784",
         "refresh_url": "?since_id=1095137873966305282&q=to%3A887763971285110784&include_entities=1",
         "since_id": 0,
         "since_id_str": "0"
        },
        "statuses": []
       },
       {
        "search_metadata": {
         "completed_in": 0.014,
         "count": 15,
         "max_id": 1095137887790743600,
         "max_id_str": "1095137887790743554",
         "query": "to%3A1029916704309239810",
         "refresh_url": "?since_id=1095137887790743554&q=to%3A1029916704309239810&include_entities=1",
         "since_id": 0,
         "since_id_str": "0"
        },
        "statuses": []
       },
       {
        "search_metadata": {
         "completed_in": 0.033,
         "count": 15,
         "max_id": 1095137873966305300,
         "max_id_str": "1095137873966305282",
         "query": "to%3A887763971285110784",
         "refresh_url": "?since_id=1095137873966305282&q=to%3A887763971285110784&include_entities=1",
         "since_id": 0,
         "since_id_str": "0"
        },
        "statuses": []
       },
       {
        "search_metadata": {
         "completed_in": 0.018,
         "count": 15,
         "max_id": 1095137864143097900,
         "max_id_str": "1095137864143097856",
         "query": "to%3A1085758175813328896",
         "refresh_url": "?since_id=1095137864143097856&q=to%3A1085758175813328896&include_entities=1",
         "since_id": 0,
         "since_id_str": "0"
        },
        "statuses": []
       },
       {
        "search_metadata": {
         "completed_in": 0.009,
         "count": 15,
         "max_id": 1095137891490115600,
         "max_id_str": "1095137891490115584",
         "query": "to%3A134180550",
         "refresh_url": "?since_id=1095137891490115584&q=to%3A134180550&include_entities=1",
         "since_id": 0,
         "since_id_str": "0"
        },
        "statuses": []
       },
       {
        "search_metadata": {
         "completed_in": 0.017,
         "count": 15,
         "max_id": 1095137892748398600,
         "max_id_str": "1095137892748398593",
         "query": "to%3A2616910636",
         "refresh_url": "?since_id=1095137892748398593&q=to%3A2616910636&include_entities=1",
         "since_id": 0,
         "since_id_str": "0"
        },
        "statuses": []
       },
       {
        "search_metadata": {
         "completed_in": 0.007,
         "count": 15,
         "max_id": 1095137873966305300,
         "max_id_str": "1095137873966305282",
         "query": "to%3A887763971285110784",
         "refresh_url": "?since_id=1095137873966305282&q=to%3A887763971285110784&include_entities=1",
         "since_id": 0,
         "since_id_str": "0"
        },
        "statuses": []
       },
       {
        "search_metadata": {
         "completed_in": 0.014,
         "count": 15,
         "max_id": 1095137894417625100,
         "max_id_str": "1095137894417625088",
         "query": "to%3A66464828",
         "refresh_url": "?since_id=1095137894417625088&q=to%3A66464828&include_entities=1",
         "since_id": 0,
         "since_id_str": "0"
        },
        "statuses": []
       },
       {
        "search_metadata": {
         "completed_in": 0.015,
         "count": 15,
         "max_id": 1095137894468124700,
         "max_id_str": "1095137894468124672",
         "query": "to%3A2883504400",
         "refresh_url": "?since_id=1095137894468124672&q=to%3A2883504400&include_entities=1",
         "since_id": 0,
         "since_id_str": "0"
        },
        "statuses": []
       },
       {
        "search_metadata": {
         "completed_in": 0.006,
         "count": 15,
         "max_id": 1095137873966305300,
         "max_id_str": "1095137873966305282",
         "query": "to%3A887763971285110784",
         "refresh_url": "?since_id=1095137873966305282&q=to%3A887763971285110784&include_entities=1",
         "since_id": 0,
         "since_id_str": "0"
        },
        "statuses": []
       },
       {
        "search_metadata": {
         "completed_in": 0.006,
         "count": 15,
         "max_id": 1095137866882129900,
         "max_id_str": "1095137866882129920",
         "query": "to%3A873193460504965121",
         "refresh_url": "?since_id=1095137866882129920&q=to%3A873193460504965121&include_entities=1",
         "since_id": 0,
         "since_id_str": "0"
        },
        "statuses": []
       },
       {
        "search_metadata": {
         "completed_in": 0.047,
         "count": 15,
         "max_id": 1095137897919983600,
         "max_id_str": "1095137897919983621",
         "query": "to%3A1077603781506985984",
         "refresh_url": "?since_id=1095137897919983621&q=to%3A1077603781506985984&include_entities=1",
         "since_id": 0,
         "since_id_str": "0"
        },
        "statuses": []
       },
       {
        "search_metadata": {
         "completed_in": 0.045,
         "count": 15,
         "max_id": 1095137897919983600,
         "max_id_str": "1095137897919983621",
         "query": "to%3A383034824",
         "refresh_url": "?since_id=1095137897919983621&q=to%3A383034824&include_entities=1",
         "since_id": 0,
         "since_id_str": "0"
        },
        "statuses": []
       },
       {
        "search_metadata": {
         "completed_in": 0.011,
         "count": 15,
         "max_id": 1095137899929092100,
         "max_id_str": "1095137899929092096",
         "query": "to%3A159978329",
         "refresh_url": "?since_id=1095137899929092096&q=to%3A159978329&include_entities=1",
         "since_id": 0,
         "since_id_str": "0"
        },
        "statuses": []
       },
       {
        "search_metadata": {
         "completed_in": 0.006,
         "count": 15,
         "max_id": 1095137873966305300,
         "max_id_str": "1095137873966305282",
         "query": "to%3A887763971285110784",
         "refresh_url": "?since_id=1095137873966305282&q=to%3A887763971285110784&include_entities=1",
         "since_id": 0,
         "since_id_str": "0"
        },
        "statuses": []
       },
       {
        "search_metadata": {
         "completed_in": 0.011,
         "count": 15,
         "max_id": 1095137901350776800,
         "max_id_str": "1095137901350776832",
         "query": "to%3A2848397891",
         "refresh_url": "?since_id=1095137901350776832&q=to%3A2848397891&include_entities=1",
         "since_id": 0,
         "since_id_str": "0"
        },
        "statuses": []
       },
       {
        "search_metadata": {
         "completed_in": 0.007,
         "count": 15,
         "max_id": 1095137873966305300,
         "max_id_str": "1095137873966305282",
         "query": "to%3A887763971285110784",
         "refresh_url": "?since_id=1095137873966305282&q=to%3A887763971285110784&include_entities=1",
         "since_id": 0,
         "since_id_str": "0"
        },
        "statuses": []
       },
       {
        "search_metadata": {
         "completed_in": 0.024,
         "count": 15,
         "max_id": 1095137902944813000,
         "max_id_str": "1095137902944813056",
         "query": "to%3A397767270",
         "refresh_url": "?since_id=1095137902944813056&q=to%3A397767270&include_entities=1",
         "since_id": 0,
         "since_id_str": "0"
        },
        "statuses": []
       },
       {
        "search_metadata": {
         "completed_in": 0.006,
         "count": 15,
         "max_id": 1095137878206632000,
         "max_id_str": "1095137878206631936",
         "query": "to%3A338649052",
         "refresh_url": "?since_id=1095137878206631936&q=to%3A338649052&include_entities=1",
         "since_id": 0,
         "since_id_str": "0"
        },
        "statuses": []
       },
       {
        "search_metadata": {
         "completed_in": 0.01,
         "count": 15,
         "max_id": 1095137904920125400,
         "max_id_str": "1095137904920125440",
         "query": "to%3A132982753",
         "refresh_url": "?since_id=1095137904920125440&q=to%3A132982753&include_entities=1",
         "since_id": 0,
         "since_id_str": "0"
        },
        "statuses": []
       },
       {
        "search_metadata": {
         "completed_in": 0.006,
         "count": 15,
         "max_id": 1095137873966305300,
         "max_id_str": "1095137873966305282",
         "query": "to%3A887763971285110784",
         "refresh_url": "?since_id=1095137873966305282&q=to%3A887763971285110784&include_entities=1",
         "since_id": 0,
         "since_id_str": "0"
        },
        "statuses": []
       },
       {
        "search_metadata": {
         "completed_in": 0.01,
         "count": 15,
         "max_id": 1095137873966305300,
         "max_id_str": "1095137873966305282",
         "query": "to%3A887763971285110784",
         "refresh_url": "?since_id=1095137873966305282&q=to%3A887763971285110784&include_entities=1",
         "since_id": 0,
         "since_id_str": "0"
        },
        "statuses": []
       },
       {
        "search_metadata": {
         "completed_in": 0.012,
         "count": 15,
         "max_id": 1095137907445248000,
         "max_id_str": "1095137907445248000",
         "query": "to%3A743109129452040192",
         "refresh_url": "?since_id=1095137907445248000&q=to%3A743109129452040192&include_entities=1",
         "since_id": 0,
         "since_id_str": "0"
        },
        "statuses": []
       },
       {
        "search_metadata": {
         "completed_in": 0.01,
         "count": 15,
         "max_id": 1095137907520630800,
         "max_id_str": "1095137907520630784",
         "query": "to%3A1178909156",
         "refresh_url": "?since_id=1095137907520630784&q=to%3A1178909156&include_entities=1",
         "since_id": 0,
         "since_id_str": "0"
        },
        "statuses": []
       },
       {
        "search_metadata": {
         "completed_in": 0.005,
         "count": 15,
         "max_id": 1095137864143097900,
         "max_id_str": "1095137864143097856",
         "query": "to%3A1085758175813328896",
         "refresh_url": "?since_id=1095137864143097856&q=to%3A1085758175813328896&include_entities=1",
         "since_id": 0,
         "since_id_str": "0"
        },
        "statuses": []
       },
       {
        "search_metadata": {
         "completed_in": 0.011,
         "count": 15,
         "max_id": 1095137873966305300,
         "max_id_str": "1095137873966305282",
         "query": "to%3A887763971285110784",
         "refresh_url": "?since_id=1095137873966305282&q=to%3A887763971285110784&include_entities=1",
         "since_id": 0,
         "since_id_str": "0"
        },
        "statuses": []
       },
       {
        "search_metadata": {
         "completed_in": 0.01,
         "count": 15,
         "max_id": 1095137910796546000,
         "max_id_str": "1095137910796546048",
         "query": "to%3A311094810",
         "refresh_url": "?since_id=1095137910796546048&q=to%3A311094810&include_entities=1",
         "since_id": 0,
         "since_id_str": "0"
        },
        "statuses": []
       },
       {
        "search_metadata": {
         "completed_in": 0.041,
         "count": 15,
         "max_id": 1095137873966305300,
         "max_id_str": "1095137873966305282",
         "query": "to%3A887763971285110784",
         "refresh_url": "?since_id=1095137873966305282&q=to%3A887763971285110784&include_entities=1",
         "since_id": 0,
         "since_id_str": "0"
        },
        "statuses": []
       },
       {
        "search_metadata": {
         "completed_in": 0.01,
         "count": 15,
         "max_id": 1095137913409585200,
         "max_id_str": "1095137913409585152",
         "query": "to%3A408917114",
         "refresh_url": "?since_id=1095137913409585152&q=to%3A408917114&include_entities=1",
         "since_id": 0,
         "since_id_str": "0"
        },
        "statuses": []
       },
       {
        "search_metadata": {
         "completed_in": 0.012,
         "count": 15,
         "max_id": 1095137913933725700,
         "max_id_str": "1095137913933725696",
         "query": "to%3A2359763258",
         "refresh_url": "?since_id=1095137913933725696&q=to%3A2359763258&include_entities=1",
         "since_id": 0,
         "since_id_str": "0"
        },
        "statuses": []
       },
       {
        "search_metadata": {
         "completed_in": 0.018,
         "count": 15,
         "max_id": 1095137914776776700,
         "max_id_str": "1095137914776776704",
         "query": "to%3A1727077326",
         "refresh_url": "?since_id=1095137914776776704&q=to%3A1727077326&include_entities=1",
         "since_id": 0,
         "since_id_str": "0"
        },
        "statuses": []
       },
       {
        "search_metadata": {
         "completed_in": 0.007,
         "count": 15,
         "max_id": 1095137870917054500,
         "max_id_str": "1095137870917054464",
         "query": "to%3A769405857759129600",
         "refresh_url": "?since_id=1095137870917054464&q=to%3A769405857759129600&include_entities=1",
         "since_id": 0,
         "since_id_str": "0"
        },
        "statuses": []
       },
       {
        "search_metadata": {
         "completed_in": 0.011,
         "count": 15,
         "max_id": 1095137916953808900,
         "max_id_str": "1095137916953808901",
         "query": "to%3A868271566450286592",
         "refresh_url": "?since_id=1095137916953808901&q=to%3A868271566450286592&include_entities=1",
         "since_id": 0,
         "since_id_str": "0"
        },
        "statuses": []
       },
       {
        "search_metadata": {
         "completed_in": 0.021,
         "count": 15,
         "max_id": 1095137917910114300,
         "max_id_str": "1095137917910114304",
         "query": "to%3A28255646",
         "refresh_url": "?since_id=1095137917910114304&q=to%3A28255646&include_entities=1",
         "since_id": 0,
         "since_id_str": "0"
        },
        "statuses": []
       },
       {
        "search_metadata": {
         "completed_in": 0.006,
         "count": 15,
         "max_id": 1095137870917054500,
         "max_id_str": "1095137870917054464",
         "query": "to%3A769405857759129600",
         "refresh_url": "?since_id=1095137870917054464&q=to%3A769405857759129600&include_entities=1",
         "since_id": 0,
         "since_id_str": "0"
        },
        "statuses": []
       },
       {
        "search_metadata": {
         "completed_in": 0.016,
         "count": 15,
         "max_id": 1095137918966845400,
         "max_id_str": "1095137918966845440",
         "query": "to%3A822531350167109632",
         "refresh_url": "?since_id=1095137918966845440&q=to%3A822531350167109632&include_entities=1",
         "since_id": 0,
         "since_id_str": "0"
        },
        "statuses": []
       },
       {
        "search_metadata": {
         "completed_in": 0.014,
         "count": 15,
         "max_id": 1095137894417625100,
         "max_id_str": "1095137894417625088",
         "query": "to%3A66464828",
         "refresh_url": "?since_id=1095137894417625088&q=to%3A66464828&include_entities=1",
         "since_id": 0,
         "since_id_str": "0"
        },
        "statuses": []
       },
       {
        "search_metadata": {
         "completed_in": 0.013,
         "count": 15,
         "max_id": 1095137922242756600,
         "max_id_str": "1095137922242756610",
         "query": "to%3A80722677",
         "refresh_url": "?since_id=1095137922242756610&q=to%3A80722677&include_entities=1",
         "since_id": 0,
         "since_id_str": "0"
        },
        "statuses": []
       },
       {
        "search_metadata": {
         "completed_in": 0.007,
         "count": 15,
         "max_id": 1095137922242756600,
         "max_id_str": "1095137922242756610",
         "query": "to%3A80722677",
         "refresh_url": "?since_id=1095137922242756610&q=to%3A80722677&include_entities=1",
         "since_id": 0,
         "since_id_str": "0"
        },
        "statuses": []
       },
       {
        "search_metadata": {
         "completed_in": 0.012,
         "count": 15,
         "max_id": 1095137923689791500,
         "max_id_str": "1095137923689791490",
         "query": "to%3A2742044315",
         "refresh_url": "?since_id=1095137923689791490&q=to%3A2742044315&include_entities=1",
         "since_id": 0,
         "since_id_str": "0"
        },
        "statuses": []
       },
       {
        "search_metadata": {
         "completed_in": 0.007,
         "count": 15,
         "max_id": 1095137902944813000,
         "max_id_str": "1095137902944813056",
         "query": "to%3A397767270",
         "refresh_url": "?since_id=1095137902944813056&q=to%3A397767270&include_entities=1",
         "since_id": 0,
         "since_id_str": "0"
        },
        "statuses": []
       },
       {
        "search_metadata": {
         "completed_in": 0.071,
         "count": 15,
         "max_id": 1095137925547913200,
         "max_id_str": "1095137925547913216",
         "query": "to%3A39512124",
         "refresh_url": "?since_id=1095137925547913216&q=to%3A39512124&include_entities=1",
         "since_id": 0,
         "since_id_str": "0"
        },
        "statuses": []
       },
       {
        "search_metadata": {
         "completed_in": 0.029,
         "count": 15,
         "max_id": 1095137926508396500,
         "max_id_str": "1095137926508396544",
         "query": "to%3A888492943430086656",
         "refresh_url": "?since_id=1095137926508396544&q=to%3A888492943430086656&include_entities=1",
         "since_id": 0,
         "since_id_str": "0"
        },
        "statuses": []
       },
       {
        "search_metadata": {
         "completed_in": 0.005,
         "count": 15,
         "max_id": 1095137864143097900,
         "max_id_str": "1095137864143097856",
         "query": "to%3A1085758175813328896",
         "refresh_url": "?since_id=1095137864143097856&q=to%3A1085758175813328896&include_entities=1",
         "since_id": 0,
         "since_id_str": "0"
        },
        "statuses": []
       },
       {
        "search_metadata": {
         "completed_in": 0.011,
         "count": 15,
         "max_id": 1095137928307793900,
         "max_id_str": "1095137928307793923",
         "query": "to%3A431038230",
         "refresh_url": "?since_id=1095137928307793923&q=to%3A431038230&include_entities=1",
         "since_id": 0,
         "since_id_str": "0"
        },
        "statuses": []
       },
       {
        "search_metadata": {
         "completed_in": 0.036,
         "count": 15,
         "max_id": 1095137928949448700,
         "max_id_str": "1095137928949448704",
         "query": "to%3A16592565",
         "refresh_url": "?since_id=1095137928949448704&q=to%3A16592565&include_entities=1",
         "since_id": 0,
         "since_id_str": "0"
        },
        "statuses": []
       },
       {
        "search_metadata": {
         "completed_in": 0.034,
         "count": 15,
         "max_id": 1095137929926791200,
         "max_id_str": "1095137929926791168",
         "query": "to%3A23347218",
         "refresh_url": "?since_id=1095137929926791168&q=to%3A23347218&include_entities=1",
         "since_id": 0,
         "since_id_str": "0"
        },
        "statuses": []
       },
       {
        "search_metadata": {
         "completed_in": 0.009,
         "count": 15,
         "max_id": 1095137930543358000,
         "max_id_str": "1095137930543357952",
         "query": "to%3A316059306",
         "refresh_url": "?since_id=1095137930543357952&q=to%3A316059306&include_entities=1",
         "since_id": 0,
         "since_id_str": "0"
        },
        "statuses": []
       },
       {
        "search_metadata": {
         "completed_in": 0.012,
         "count": 15,
         "max_id": 1095137931461832700,
         "max_id_str": "1095137931461832705",
         "query": "to%3A925144850948870144",
         "refresh_url": "?since_id=1095137931461832705&q=to%3A925144850948870144&include_entities=1",
         "since_id": 0,
         "since_id_str": "0"
        },
        "statuses": []
       },
       {
        "search_metadata": {
         "completed_in": 0.024,
         "count": 15,
         "max_id": 1095137932644700200,
         "max_id_str": "1095137932644700161",
         "query": "to%3A36280819",
         "refresh_url": "?since_id=1095137932644700161&q=to%3A36280819&include_entities=1",
         "since_id": 0,
         "since_id_str": "0"
        },
        "statuses": []
       },
       {
        "search_metadata": {
         "completed_in": 0.011,
         "count": 15,
         "max_id": 1095137866882129900,
         "max_id_str": "1095137866882129920",
         "query": "to%3A873193460504965121",
         "refresh_url": "?since_id=1095137866882129920&q=to%3A873193460504965121&include_entities=1",
         "since_id": 0,
         "since_id_str": "0"
        },
        "statuses": []
       },
       {
        "search_metadata": {
         "completed_in": 0.042,
         "count": 15,
         "max_id": 1095137934515232800,
         "max_id_str": "1095137934515232768",
         "query": "to%3A344371130",
         "refresh_url": "?since_id=1095137934515232768&q=to%3A344371130&include_entities=1",
         "since_id": 0,
         "since_id_str": "0"
        },
        "statuses": []
       },
       {
        "search_metadata": {
         "completed_in": 0.01,
         "count": 15,
         "max_id": 1095137934804746200,
         "max_id_str": "1095137934804746240",
         "query": "to%3A1093836512041619456",
         "refresh_url": "?since_id=1095137934804746240&q=to%3A1093836512041619456&include_entities=1",
         "since_id": 0,
         "since_id_str": "0"
        },
        "statuses": []
       },
       {
        "search_metadata": {
         "completed_in": 0.007,
         "count": 15,
         "max_id": 1095137897919983600,
         "max_id_str": "1095137897919983621",
         "query": "to%3A1077603781506985984",
         "refresh_url": "?since_id=1095137897919983621&q=to%3A1077603781506985984&include_entities=1",
         "since_id": 0,
         "since_id_str": "0"
        },
        "statuses": []
       },
       {
        "search_metadata": {
         "completed_in": 0.013,
         "count": 15,
         "max_id": 1095137936377557000,
         "max_id_str": "1095137936377556992",
         "query": "to%3A402362159",
         "refresh_url": "?since_id=1095137936377556992&q=to%3A402362159&include_entities=1",
         "since_id": 0,
         "since_id_str": "0"
        },
        "statuses": []
       },
       {
        "search_metadata": {
         "completed_in": 0.012,
         "count": 15,
         "max_id": 1095137938101489700,
         "max_id_str": "1095137938101489665",
         "query": "to%3A824364030060072960",
         "refresh_url": "?since_id=1095137938101489665&q=to%3A824364030060072960&include_entities=1",
         "since_id": 0,
         "since_id_str": "0"
        },
        "statuses": []
       },
       {
        "search_metadata": {
         "completed_in": 0.011,
         "count": 15,
         "max_id": 1095137938520793100,
         "max_id_str": "1095137938520793090",
         "query": "to%3A1137944498",
         "refresh_url": "?since_id=1095137938520793090&q=to%3A1137944498&include_entities=1",
         "since_id": 0,
         "since_id_str": "0"
        },
        "statuses": []
       },
       {
        "search_metadata": {
         "completed_in": 0.007,
         "count": 15,
         "max_id": 1095137873966305300,
         "max_id_str": "1095137873966305282",
         "query": "to%3A887763971285110784",
         "refresh_url": "?since_id=1095137873966305282&q=to%3A887763971285110784&include_entities=1",
         "since_id": 0,
         "since_id_str": "0"
        },
        "statuses": []
       },
       {
        "search_metadata": {
         "completed_in": 0.01,
         "count": 15,
         "max_id": 1095137940437520400,
         "max_id_str": "1095137940437520384",
         "query": "to%3A3949452315",
         "refresh_url": "?since_id=1095137940437520384&q=to%3A3949452315&include_entities=1",
         "since_id": 0,
         "since_id_str": "0"
        },
        "statuses": []
       },
       {
        "search_metadata": {
         "completed_in": 0.007,
         "count": 15,
         "max_id": 1095137866882129900,
         "max_id_str": "1095137866882129920",
         "query": "to%3A873193460504965121",
         "refresh_url": "?since_id=1095137866882129920&q=to%3A873193460504965121&include_entities=1",
         "since_id": 0,
         "since_id_str": "0"
        },
        "statuses": []
       },
       {
        "search_metadata": {
         "completed_in": 0.01,
         "count": 15,
         "max_id": 1095137941691748400,
         "max_id_str": "1095137941691748352",
         "query": "to%3A21238185",
         "refresh_url": "?since_id=1095137941691748352&q=to%3A21238185&include_entities=1",
         "since_id": 0,
         "since_id_str": "0"
        },
        "statuses": []
       },
       {
        "search_metadata": {
         "completed_in": 0.024,
         "count": 15,
         "max_id": 1095137941691748400,
         "max_id_str": "1095137941691748352",
         "query": "to%3A759544992218095616",
         "refresh_url": "?since_id=1095137941691748352&q=to%3A759544992218095616&include_entities=1",
         "since_id": 0,
         "since_id_str": "0"
        },
        "statuses": []
       },
       {
        "search_metadata": {
         "completed_in": 0.006,
         "count": 15,
         "max_id": 1095137873966305300,
         "max_id_str": "1095137873966305282",
         "query": "to%3A887763971285110784",
         "refresh_url": "?since_id=1095137873966305282&q=to%3A887763971285110784&include_entities=1",
         "since_id": 0,
         "since_id_str": "0"
        },
        "statuses": []
       },
       {
        "search_metadata": {
         "completed_in": 0.011,
         "count": 15,
         "max_id": 1095137944426463200,
         "max_id_str": "1095137944426463234",
         "query": "to%3A27735275",
         "refresh_url": "?since_id=1095137944426463234&q=to%3A27735275&include_entities=1",
         "since_id": 0,
         "since_id_str": "0"
        },
        "statuses": []
       },
       {
        "search_metadata": {
         "completed_in": 0.005,
         "count": 15,
         "max_id": 1095137873966305300,
         "max_id_str": "1095137873966305282",
         "query": "to%3A887763971285110784",
         "refresh_url": "?since_id=1095137873966305282&q=to%3A887763971285110784&include_entities=1",
         "since_id": 0,
         "since_id_str": "0"
        },
        "statuses": []
       },
       {
        "search_metadata": {
         "completed_in": 0.011,
         "count": 15,
         "max_id": 1095137945269416000,
         "max_id_str": "1095137945269415936",
         "query": "to%3A767813416333500416",
         "refresh_url": "?since_id=1095137945269415936&q=to%3A767813416333500416&include_entities=1",
         "since_id": 0,
         "since_id_str": "0"
        },
        "statuses": []
       },
       {
        "search_metadata": {
         "completed_in": 0.021,
         "count": 15,
         "max_id": 1095137946557206500,
         "max_id_str": "1095137946557206528",
         "query": "to%3A1022254570683228160",
         "refresh_url": "?since_id=1095137946557206528&q=to%3A1022254570683228160&include_entities=1",
         "since_id": 0,
         "since_id_str": "0"
        },
        "statuses": []
       },
       {
        "search_metadata": {
         "completed_in": 0.011,
         "count": 15,
         "max_id": 1095137947853168600,
         "max_id_str": "1095137947853168640",
         "query": "to%3A1085758175813328896",
         "refresh_url": "?since_id=1095137947853168640&q=to%3A1085758175813328896&include_entities=1",
         "since_id": 0,
         "since_id_str": "0"
        },
        "statuses": []
       },
       {
        "search_metadata": {
         "completed_in": 0.011,
         "count": 15,
         "max_id": 1095137949753245700,
         "max_id_str": "1095137949753245698",
         "query": "to%3A2684222446",
         "refresh_url": "?since_id=1095137949753245698&q=to%3A2684222446&include_entities=1",
         "since_id": 0,
         "since_id_str": "0"
        },
        "statuses": []
       },
       {
        "search_metadata": {
         "completed_in": 0.008,
         "count": 15,
         "max_id": 1095137899929092100,
         "max_id_str": "1095137899929092096",
         "query": "to%3A159978329",
         "refresh_url": "?since_id=1095137899929092096&q=to%3A159978329&include_entities=1",
         "since_id": 0,
         "since_id_str": "0"
        },
        "statuses": []
       },
       {
        "search_metadata": {
         "completed_in": 0.006,
         "count": 15,
         "max_id": 1095137925547913200,
         "max_id_str": "1095137925547913216",
         "query": "to%3A39512124",
         "refresh_url": "?since_id=1095137925547913216&q=to%3A39512124&include_entities=1",
         "since_id": 0,
         "since_id_str": "0"
        },
        "statuses": []
       },
       {
        "search_metadata": {
         "completed_in": 0.021,
         "count": 15,
         "max_id": 1095137878206632000,
         "max_id_str": "1095137878206631936",
         "query": "to%3A338649052",
         "refresh_url": "?since_id=1095137878206631936&q=to%3A338649052&include_entities=1",
         "since_id": 0,
         "since_id_str": "0"
        },
        "statuses": []
       },
       {
        "search_metadata": {
         "completed_in": 0.011,
         "count": 15,
         "max_id": 1095137953175793700,
         "max_id_str": "1095137953175793664",
         "query": "to%3A736066591",
         "refresh_url": "?since_id=1095137953175793664&q=to%3A736066591&include_entities=1",
         "since_id": 0,
         "since_id_str": "0"
        },
        "statuses": []
       },
       {
        "search_metadata": {
         "completed_in": 0.007,
         "count": 15,
         "max_id": 1095137918966845400,
         "max_id_str": "1095137918966845440",
         "query": "to%3A822531350167109632",
         "refresh_url": "?since_id=1095137918966845440&q=to%3A822531350167109632&include_entities=1",
         "since_id": 0,
         "since_id_str": "0"
        },
        "statuses": []
       },
       {
        "search_metadata": {
         "completed_in": 0.006,
         "count": 15,
         "max_id": 1095137873966305300,
         "max_id_str": "1095137873966305282",
         "query": "to%3A887763971285110784",
         "refresh_url": "?since_id=1095137873966305282&q=to%3A887763971285110784&include_entities=1",
         "since_id": 0,
         "since_id_str": "0"
        },
        "statuses": []
       },
       {
        "search_metadata": {
         "completed_in": 0.011,
         "count": 15,
         "max_id": 1095137955218366500,
         "max_id_str": "1095137955218366466",
         "query": "to%3A153925924",
         "refresh_url": "?since_id=1095137955218366466&q=to%3A153925924&include_entities=1",
         "since_id": 0,
         "since_id_str": "0"
        },
        "statuses": []
       },
       {
        "search_metadata": {
         "completed_in": 0.018,
         "count": 15,
         "max_id": 1095137955746857000,
         "max_id_str": "1095137955746856960",
         "query": "to%3A1559428015",
         "refresh_url": "?since_id=1095137955746856960&q=to%3A1559428015&include_entities=1",
         "since_id": 0,
         "since_id_str": "0"
        },
        "statuses": []
       },
       {
        "search_metadata": {
         "completed_in": 0.043,
         "count": 15,
         "max_id": 1095137956505894900,
         "max_id_str": "1095137956505894913",
         "query": "to%3A426635241",
         "refresh_url": "?since_id=1095137956505894913&q=to%3A426635241&include_entities=1",
         "since_id": 0,
         "since_id_str": "0"
        },
        "statuses": []
       },
       {
        "search_metadata": {
         "completed_in": 0.031,
         "count": 15,
         "max_id": 1095137926508396500,
         "max_id_str": "1095137926508396544",
         "query": "to%3A888492943430086656",
         "refresh_url": "?since_id=1095137926508396544&q=to%3A888492943430086656&include_entities=1",
         "since_id": 0,
         "since_id_str": "0"
        },
        "statuses": []
       },
       {
        "search_metadata": {
         "completed_in": 0.024,
         "count": 15,
         "max_id": 1095137959106437100,
         "max_id_str": "1095137959106437121",
         "query": "to%3A3354356027",
         "refresh_url": "?since_id=1095137959106437121&q=to%3A3354356027&include_entities=1",
         "since_id": 0,
         "since_id_str": "0"
        },
        "statuses": []
       },
       {
        "search_metadata": {
         "completed_in": 0.019,
         "count": 15,
         "max_id": 1095137959395782700,
         "max_id_str": "1095137959395782657",
         "query": "to%3A217320158",
         "refresh_url": "?since_id=1095137959395782657&q=to%3A217320158&include_entities=1",
         "since_id": 0,
         "since_id_str": "0"
        },
        "statuses": []
       },
       {
        "search_metadata": {
         "completed_in": 0.01,
         "count": 15,
         "max_id": 1095137961018978300,
         "max_id_str": "1095137961018978304",
         "query": "to%3A28948324",
         "refresh_url": "?since_id=1095137961018978304&q=to%3A28948324&include_entities=1",
         "since_id": 0,
         "since_id_str": "0"
        },
        "statuses": []
       },
       {
        "search_metadata": {
         "completed_in": 0.027,
         "count": 15,
         "max_id": 1095137961018978300,
         "max_id_str": "1095137961018978304",
         "query": "to%3A292797404",
         "refresh_url": "?since_id=1095137961018978304&q=to%3A292797404&include_entities=1",
         "since_id": 0,
         "since_id_str": "0"
        },
        "statuses": []
       },
       {
        "search_metadata": {
         "completed_in": 0.011,
         "count": 15,
         "max_id": 1095137962726248400,
         "max_id_str": "1095137962726248448",
         "query": "to%3A746903356866600960",
         "refresh_url": "?since_id=1095137962726248448&q=to%3A746903356866600960&include_entities=1",
         "since_id": 0,
         "since_id_str": "0"
        },
        "statuses": []
       },
       {
        "search_metadata": {
         "completed_in": 0.041,
         "count": 15,
         "max_id": 1095137963560837100,
         "max_id_str": "1095137963560837120",
         "query": "to%3A873193460504965121",
         "refresh_url": "?since_id=1095137963560837120&q=to%3A873193460504965121&include_entities=1",
         "since_id": 0,
         "since_id_str": "0"
        },
        "statuses": []
       },
       {
        "search_metadata": {
         "completed_in": 0.01,
         "count": 15,
         "max_id": 1095137964647055400,
         "max_id_str": "1095137964647055361",
         "query": "to%3A887763971285110784",
         "refresh_url": "?since_id=1095137964647055361&q=to%3A887763971285110784&include_entities=1",
         "since_id": 0,
         "since_id_str": "0"
        },
        "statuses": []
       },
       {
        "search_metadata": {
         "completed_in": 0.01,
         "count": 15,
         "max_id": 1095137965293125600,
         "max_id_str": "1095137965293125634",
         "query": "to%3A86225756",
         "refresh_url": "?since_id=1095137965293125634&q=to%3A86225756&include_entities=1",
         "since_id": 0,
         "since_id_str": "0"
        },
        "statuses": []
       },
       {
        "search_metadata": {
         "completed_in": 0.02,
         "count": 15,
         "max_id": 1095137967172010000,
         "max_id_str": "1095137967172009984",
         "query": "to%3A49804947",
         "refresh_url": "?since_id=1095137967172009984&q=to%3A49804947&include_entities=1",
         "since_id": 0,
         "since_id_str": "0"
        },
        "statuses": []
       },
       {
        "search_metadata": {
         "completed_in": 0.021,
         "count": 15,
         "max_id": 1095137967172010000,
         "max_id_str": "1095137967172009984",
         "query": "to%3A707867200300912640",
         "refresh_url": "?since_id=1095137967172009984&q=to%3A707867200300912640&include_entities=1",
         "since_id": 0,
         "since_id_str": "0"
        },
        "statuses": []
       },
       {
        "search_metadata": {
         "completed_in": 0.01,
         "count": 15,
         "max_id": 1095137967172010000,
         "max_id_str": "1095137967172009984",
         "query": "to%3A782419328884932608",
         "refresh_url": "?since_id=1095137967172009984&q=to%3A782419328884932608&include_entities=1",
         "since_id": 0,
         "since_id_str": "0"
        },
        "statuses": []
       },
       {
        "search_metadata": {
         "completed_in": 0.03,
         "count": 15,
         "max_id": 1095137969281716200,
         "max_id_str": "1095137969281716224",
         "query": "to%3A283089653",
         "refresh_url": "?since_id=1095137969281716224&q=to%3A283089653&include_entities=1",
         "since_id": 0,
         "since_id_str": "0"
        },
        "statuses": []
       },
       {
        "search_metadata": {
         "completed_in": 0.011,
         "count": 15,
         "max_id": 1095137964647055400,
         "max_id_str": "1095137964647055361",
         "query": "to%3A887763971285110784",
         "refresh_url": "?since_id=1095137964647055361&q=to%3A887763971285110784&include_entities=1",
         "since_id": 0,
         "since_id_str": "0"
        },
        "statuses": []
       },
       {
        "search_metadata": {
         "completed_in": 0.018,
         "count": 15,
         "max_id": 1095137970804281300,
         "max_id_str": "1095137970804281345",
         "query": "to%3A823714106603696128",
         "refresh_url": "?since_id=1095137970804281345&q=to%3A823714106603696128&include_entities=1",
         "since_id": 0,
         "since_id_str": "0"
        },
        "statuses": []
       },
       {
        "search_metadata": {
         "completed_in": 0.005,
         "count": 15,
         "max_id": 1095137947853168600,
         "max_id_str": "1095137947853168640",
         "query": "to%3A1085758175813328896",
         "refresh_url": "?since_id=1095137947853168640&q=to%3A1085758175813328896&include_entities=1",
         "since_id": 0,
         "since_id_str": "0"
        },
        "statuses": []
       },
       {
        "search_metadata": {
         "completed_in": 0.013,
         "count": 15,
         "max_id": 1095137971945259000,
         "max_id_str": "1095137971945259014",
         "query": "to%3A2290891120",
         "refresh_url": "?since_id=1095137971945259014&q=to%3A2290891120&include_entities=1",
         "since_id": 0,
         "since_id_str": "0"
        },
        "statuses": []
       },
       {
        "search_metadata": {
         "completed_in": 0.007,
         "count": 15,
         "max_id": 1095137961018978300,
         "max_id_str": "1095137961018978304",
         "query": "to%3A28948324",
         "refresh_url": "?since_id=1095137961018978304&q=to%3A28948324&include_entities=1",
         "since_id": 0,
         "since_id_str": "0"
        },
        "statuses": []
       },
       {
        "search_metadata": {
         "completed_in": 0.01,
         "count": 15,
         "max_id": 1095137973572591600,
         "max_id_str": "1095137973572591617",
         "query": "to%3A951943808278847489",
         "refresh_url": "?since_id=1095137973572591617&q=to%3A951943808278847489&include_entities=1",
         "since_id": 0,
         "since_id_str": "0"
        },
        "statuses": []
       },
       {
        "search_metadata": {
         "completed_in": 0.007,
         "count": 15,
         "max_id": 1095137929926791200,
         "max_id_str": "1095137929926791168",
         "query": "to%3A23347218",
         "refresh_url": "?since_id=1095137929926791168&q=to%3A23347218&include_entities=1",
         "since_id": 0,
         "since_id_str": "0"
        },
        "statuses": []
       },
       {
        "search_metadata": {
         "completed_in": 0.013,
         "count": 15,
         "max_id": 1095137975560740900,
         "max_id_str": "1095137975560740864",
         "query": "to%3A785626273896861696",
         "refresh_url": "?since_id=1095137975560740864&q=to%3A785626273896861696&include_entities=1",
         "since_id": 0,
         "since_id_str": "0"
        },
        "statuses": []
       },
       {
        "search_metadata": {
         "completed_in": 0.01,
         "count": 15,
         "max_id": 1095137976676282400,
         "max_id_str": "1095137976676282369",
         "query": "to%3A1463726791",
         "refresh_url": "?since_id=1095137976676282369&q=to%3A1463726791&include_entities=1",
         "since_id": 0,
         "since_id_str": "0"
        },
        "statuses": []
       },
       {
        "search_metadata": {
         "completed_in": 0.011,
         "count": 15,
         "max_id": 1095137977678917600,
         "max_id_str": "1095137977678917632",
         "query": "to%3A755433494",
         "refresh_url": "?since_id=1095137977678917632&q=to%3A755433494&include_entities=1",
         "since_id": 0,
         "since_id_str": "0"
        },
        "statuses": []
       },
       {
        "search_metadata": {
         "completed_in": 0.011,
         "count": 15,
         "max_id": 1095137978001743900,
         "max_id_str": "1095137978001743872",
         "query": "to%3A56184948",
         "refresh_url": "?since_id=1095137978001743872&q=to%3A56184948&include_entities=1",
         "since_id": 0,
         "since_id_str": "0"
        },
        "statuses": []
       },
       {
        "search_metadata": {
         "completed_in": 0.011,
         "count": 15,
         "max_id": 1095137978660335600,
         "max_id_str": "1095137978660335616",
         "query": "to%3A633079193",
         "refresh_url": "?since_id=1095137978660335616&q=to%3A633079193&include_entities=1",
         "since_id": 0,
         "since_id_str": "0"
        },
        "statuses": []
       },
       {
        "search_metadata": {
         "completed_in": 0.019,
         "count": 15,
         "max_id": 1095137980723929100,
         "max_id_str": "1095137980723929088",
         "query": "to%3A60065455",
         "refresh_url": "?since_id=1095137980723929088&q=to%3A60065455&include_entities=1",
         "since_id": 0,
         "since_id_str": "0"
        },
        "statuses": []
       },
       {
        "search_metadata": {
         "completed_in": 0.006,
         "count": 15,
         "max_id": 1095137946557206500,
         "max_id_str": "1095137946557206528",
         "query": "to%3A1022254570683228160",
         "refresh_url": "?since_id=1095137946557206528&q=to%3A1022254570683228160&include_entities=1",
         "since_id": 0,
         "since_id_str": "0"
        },
        "statuses": []
       },
       {
        "search_metadata": {
         "completed_in": 0.01,
         "count": 15,
         "max_id": 1095137981646684200,
         "max_id_str": "1095137981646684165",
         "query": "to%3A46482296",
         "refresh_url": "?since_id=1095137981646684165&q=to%3A46482296&include_entities=1",
         "since_id": 0,
         "since_id_str": "0"
        },
        "statuses": []
       },
       {
        "search_metadata": {
         "completed_in": 0.021,
         "count": 15,
         "max_id": 1095137982703591400,
         "max_id_str": "1095137982703591425",
         "query": "to%3A20991575",
         "refresh_url": "?since_id=1095137982703591425&q=to%3A20991575&include_entities=1",
         "since_id": 0,
         "since_id_str": "0"
        },
        "statuses": []
       },
       {
        "search_metadata": {
         "completed_in": 0.012,
         "count": 15,
         "max_id": 1095137982934175700,
         "max_id_str": "1095137982934175744",
         "query": "to%3A930108350",
         "refresh_url": "?since_id=1095137982934175744&q=to%3A930108350&include_entities=1",
         "since_id": 0,
         "since_id_str": "0"
        },
        "statuses": []
       },
       {
        "search_metadata": {
         "completed_in": 0.031,
         "count": 15,
         "max_id": 1095137984461062100,
         "max_id_str": "1095137984461062145",
         "query": "to%3A14836573",
         "refresh_url": "?since_id=1095137984461062145&q=to%3A14836573&include_entities=1",
         "since_id": 0,
         "since_id_str": "0"
        },
        "statuses": []
       },
       {
        "search_metadata": {
         "completed_in": 0.054,
         "count": 15,
         "max_id": 1095137985505325000,
         "max_id_str": "1095137985505325056",
         "query": "to%3A139486387",
         "refresh_url": "?since_id=1095137985505325056&q=to%3A139486387&include_entities=1",
         "since_id": 0,
         "since_id_str": "0"
        },
        "statuses": []
       },
       {
        "search_metadata": {
         "completed_in": 0.006,
         "count": 15,
         "max_id": 1095137967172010000,
         "max_id_str": "1095137967172009984",
         "query": "to%3A782419328884932608",
         "refresh_url": "?since_id=1095137967172009984&q=to%3A782419328884932608&include_entities=1",
         "since_id": 0,
         "since_id_str": "0"
        },
        "statuses": []
       },
       {
        "search_metadata": {
         "completed_in": 0.009,
         "count": 15,
         "max_id": 1095137932644700200,
         "max_id_str": "1095137932644700161",
         "query": "to%3A36280819",
         "refresh_url": "?since_id=1095137932644700161&q=to%3A36280819&include_entities=1",
         "since_id": 0,
         "since_id_str": "0"
        },
        "statuses": []
       },
       {
        "search_metadata": {
         "completed_in": 0.006,
         "count": 15,
         "max_id": 1095137963560837100,
         "max_id_str": "1095137963560837120",
         "query": "to%3A873193460504965121",
         "refresh_url": "?since_id=1095137963560837120&q=to%3A873193460504965121&include_entities=1",
         "since_id": 0,
         "since_id_str": "0"
        },
        "statuses": []
       },
       {
        "search_metadata": {
         "completed_in": 0.01,
         "count": 15,
         "max_id": 1095137989867524100,
         "max_id_str": "1095137989867524096",
         "query": "to%3A364001233",
         "refresh_url": "?since_id=1095137989867524096&q=to%3A364001233&include_entities=1",
         "since_id": 0,
         "since_id_str": "0"
        },
        "statuses": []
       },
       {
        "search_metadata": {
         "completed_in": 0.012,
         "count": 15,
         "max_id": 1095137990299566100,
         "max_id_str": "1095137990299566080",
         "query": "to%3A462576176",
         "refresh_url": "?since_id=1095137990299566080&q=to%3A462576176&include_entities=1",
         "since_id": 0,
         "since_id_str": "0"
        },
        "statuses": []
       },
       {
        "search_metadata": {
         "completed_in": 0.014,
         "count": 15,
         "max_id": 1095137990446338000,
         "max_id_str": "1095137990446338053",
         "query": "to%3A3123998021",
         "refresh_url": "?since_id=1095137990446338053&q=to%3A3123998021&include_entities=1",
         "since_id": 0,
         "since_id_str": "0"
        },
        "statuses": []
       },
       {
        "search_metadata": {
         "completed_in": 0.013,
         "count": 15,
         "max_id": 1095137991821951000,
         "max_id_str": "1095137991821950976",
         "query": "to%3A2775440791",
         "refresh_url": "?since_id=1095137991821950976&q=to%3A2775440791&include_entities=1",
         "since_id": 0,
         "since_id_str": "0"
        },
        "statuses": []
       },
       {
        "search_metadata": {
         "completed_in": 0.011,
         "count": 15,
         "max_id": 1095137992258121700,
         "max_id_str": "1095137992258121728",
         "query": "to%3A373107187",
         "refresh_url": "?since_id=1095137992258121728&q=to%3A373107187&include_entities=1",
         "since_id": 0,
         "since_id_str": "0"
        },
        "statuses": []
       },
       {
        "search_metadata": {
         "completed_in": 0.006,
         "count": 15,
         "max_id": 1095137973572591600,
         "max_id_str": "1095137973572591617",
         "query": "to%3A951943808278847489",
         "refresh_url": "?since_id=1095137973572591617&q=to%3A951943808278847489&include_entities=1",
         "since_id": 0,
         "since_id_str": "0"
        },
        "statuses": []
       },
       {
        "search_metadata": {
         "completed_in": 0.011,
         "count": 15,
         "max_id": 1095137994498064400,
         "max_id_str": "1095137994498064385",
         "query": "to%3A2568981409",
         "refresh_url": "?since_id=1095137994498064385&q=to%3A2568981409&include_entities=1",
         "since_id": 0,
         "since_id_str": "0"
        },
        "statuses": []
       }
      ],
      "text/plain": [
       "<IPython.core.display.JSON object>"
      ]
     },
     "execution_count": 28,
     "metadata": {
      "application/json": {
       "expanded": false,
       "root": "root"
      }
     },
     "output_type": "execute_result"
    }
   ],
   "source": [
    "JSON(tmp)"
   ]
  },
  {
   "cell_type": "code",
   "execution_count": null,
   "metadata": {},
   "outputs": [],
   "source": []
  },
  {
   "cell_type": "code",
   "execution_count": null,
   "metadata": {},
   "outputs": [],
   "source": []
  }
 ],
 "metadata": {
  "kernelspec": {
   "display_name": "Python 3",
   "language": "python",
   "name": "python3"
  },
  "language_info": {
   "codemirror_mode": {
    "name": "ipython",
    "version": 3
   },
   "file_extension": ".py",
   "mimetype": "text/x-python",
   "name": "python",
   "nbconvert_exporter": "python",
   "pygments_lexer": "ipython3",
   "version": "3.6.8"
  }
 },
 "nbformat": 4,
 "nbformat_minor": 2
}
